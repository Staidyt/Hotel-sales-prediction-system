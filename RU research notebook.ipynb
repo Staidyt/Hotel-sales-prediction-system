{
 "cells": [
  {
   "cell_type": "markdown",
   "metadata": {},
   "source": [
    "# Прогнозирование оттока клиентов в сети отелей «Как в гостях»"
   ]
  },
  {
   "cell_type": "markdown",
   "metadata": {},
   "source": [
    "Заказчик этого исследования — сеть отелей «Как в гостях». \n",
    "\n",
    "Чтобы привлечь клиентов, эта сеть отелей добавила на свой сайт возможность забронировать номер без предоплаты. Однако если клиент отменял бронирование, то компания терпела убытки. Сотрудники отеля могли, например, закупить продукты к приезду гостя или просто не успеть найти другого клиента.\n",
    "\n",
    "Чтобы решить эту проблему, вам нужно разработать систему, которая предсказывает отказ от брони. Если модель покажет, что бронь будет отменена, то клиенту предлагается внести депозит. Размер депозита — 80% от стоимости номера за одни сутки и затрат на разовую уборку. Деньги будут списаны со счёта клиента, если он всё же отменит бронь."
   ]
  },
  {
   "cell_type": "markdown",
   "metadata": {},
   "source": [
    "<b>Бизнес-метрика и другие данные</b>\n",
    "\n",
    "Основная бизнес-метрика для любой сети отелей — её прибыль. Прибыль отеля — это разница между стоимостью номера за все ночи и затраты на обслуживание: как при подготовке номера, так и при проживании постояльца. \n",
    "\n",
    "В отеле есть несколько типов номеров. В зависимости от типа номера назначается стоимость за одну ночь. Есть также затраты на уборку. Если клиент снял номер надолго, то убираются каждые два дня. \n",
    "\n",
    "Стоимость номеров отеля:\n",
    "- категория A: за ночь — 1 000, разовое обслуживание — 400;\n",
    "- категория B: за ночь — 800, разовое обслуживание — 350;\n",
    "- категория C: за ночь — 600, разовое обслуживание — 350;\n",
    "- категория D: за ночь — 550, разовое обслуживание — 150;\n",
    "- категория E: за ночь — 500, разовое обслуживание — 150;\n",
    "- категория F: за ночь — 450, разовое обслуживание — 150;\n",
    "- категория G: за ночь — 350, разовое обслуживание — 150.\n",
    "\n",
    "В ценовой политике отеля используются сезонные коэффициенты: весной и осенью цены повышаются на 20%, летом — на 40%.\n",
    "\n",
    "Убытки отеля в случае отмены брони номера — это стоимость одной уборки и одной ночи с учётом сезонного коэффициента.\n",
    "\n",
    "На разработку системы прогнозирования заложен бюджет — 400 000. При этом необходимо учесть, что внедрение модели должно окупиться за тестовый период. Затраты на разработку должны быть меньше той выручки, которую система принесёт компании."
   ]
  },
  {
   "cell_type": "markdown",
   "metadata": {},
   "source": [
    "<b> Описание данных</b>\n",
    "\n",
    "В таблицах hotel_train и hotel_test содержатся одинаковые столбцы:\n",
    "\n",
    "- id — номер записи;\n",
    "- adults — количество взрослых постояльцев;\n",
    "- arrival_date_year — год заезда;\n",
    "- arrival_date_month — месяц заезда;\n",
    "- arrival_date_week_number — неделя заезда;\n",
    "- arrival_date_day_of_month — день заезда;\n",
    "- babies — количество младенцев;\n",
    "- booking_changes — количество изменений параметров заказа;\n",
    "- children — количество детей от 3 до 14 лет;\n",
    "- country — гражданство постояльца;\n",
    "- customer_type — тип заказчика:\n",
    "    - Contract — договор с юридическим лицом;\n",
    "    - Group — групповой заезд;\n",
    "    - Transient — не связано с договором или групповым заездом;\n",
    "    - Transient-party — не связано с договором или групповым заездом, но связано с бронированием типа Transient.\n",
    "- days_in_waiting_list — сколько дней заказ ожидал подтверждения;\n",
    "- distribution_channel — канал дистрибуции заказа;\n",
    "- is_canceled — отмена заказа;\n",
    "- is_repeated_guest — признак того, что гость бронирует номер второй раз;\n",
    "- lead_time — количество дней между датой бронирования и датой прибытия;\n",
    "- meal — опции заказа:\n",
    "    - SC — нет дополнительных опций;\n",
    "    - BB — включён завтрак;\n",
    "    - HB — включён завтрак и обед;\n",
    "    - FB — включён завтрак, обед и ужин.\n",
    "- previous_bookings_not_canceled — количество подтверждённых заказов у клиента;\n",
    "- previous_cancellations — количество отменённых заказов у клиента;\n",
    "- required_car_parking_spaces — необходимость места для автомобиля;\n",
    "- reserved_room_type — тип забронированной комнаты;\n",
    "- stays_in_weekend_nights — количество ночей в выходные дни;\n",
    "- stays_in_week_nights — количество ночей в будние дни;\n",
    "- total_nights — общее количество ночей;\n",
    "- total_of_special_requests — количество специальных отметок."
   ]
  },
  {
   "cell_type": "markdown",
   "metadata": {},
   "source": [
    "## Описание хода работы"
   ]
  },
  {
   "cell_type": "markdown",
   "metadata": {},
   "source": [
    "Шаг 1. Изучить общую информацию\n",
    "\n",
    "Пути к файлам: \n",
    "\n",
    "    datasets/hotel_train.csv — данные для обучения модели.\n",
    "    datasets/hotel_test.csv — данные для тестирования модели.\n",
    "\n",
    "Шаг 2. Выполнить предобработку и исследовательский анализ данных\n",
    "\n",
    "- Проверить данные и откорректировать их, если потребуется.\n",
    "- Провести исследовательский анализ представленных данных. Описать найденные особенности: пропуски, выбросы.\n",
    "\n",
    "Шаг 3. Вычислить бизнес-метрику\n",
    "\n",
    "Оценить прибыль отеля без внедрения депозитов.\n",
    "\n",
    "Шаг 4. Разработать модель ML\n",
    "\n",
    "- Обучить разные модели и оцените их качество кросс-валидацией. Выбрать лучшую модель и проверить её на тестовой выборке. Описать выводы.\n",
    "- Выбрать метрику для обучения.\n",
    "- Оценить прибыль, которую принесёт выбранная модель за год.\n",
    "\n",
    "Шаг 5. Выявить признаки «ненадёжного» клиента\n",
    "\n",
    "На основе исследовательского анализа данных описать клиента, склонного к отказу от брони.\n",
    "\n",
    "Шаг 6. Написать общий вывод\n",
    "\n",
    "Описать модель, которая решает задачу с наибольшей выгодой для бизнеса. Дать бизнесу рекомендации по результатам проделанной работы."
   ]
  },
  {
   "cell_type": "markdown",
   "metadata": {},
   "source": [
    "## Настройки рабочей тетради"
   ]
  },
  {
   "cell_type": "code",
   "execution_count": 1,
   "metadata": {},
   "outputs": [],
   "source": [
    "# Импорт библиотек\n",
    "\n",
    "import pandas as pd\n",
    "import matplotlib.pyplot as plt\n",
    "import numpy as np\n",
    "\n",
    "from sklearn.preprocessing import OneHotEncoder\n",
    "from sklearn.preprocessing import StandardScaler\n",
    "from sklearn.model_selection import cross_validate\n",
    "from sklearn.model_selection import train_test_split\n",
    "from sklearn.metrics import f1_score\n",
    "from sklearn.metrics import roc_auc_score\n",
    "\n",
    "from sklearn.tree import DecisionTreeClassifier\n",
    "from sklearn.ensemble import RandomForestClassifier\n",
    "from sklearn.linear_model import LogisticRegression\n",
    "\n",
    "import os"
   ]
  },
  {
   "cell_type": "code",
   "execution_count": 2,
   "metadata": {},
   "outputs": [],
   "source": [
    "# Настройки библиотек\n",
    "\n",
    " \n",
    "# Сброс ограничений на число столбцов\n",
    "pd.set_option('display.max_columns', None)"
   ]
  },
  {
   "cell_type": "code",
   "execution_count": 3,
   "metadata": {},
   "outputs": [],
   "source": [
    "# Путь к директории с данными\n",
    "\n",
    "path = 'datasets/'"
   ]
  },
  {
   "cell_type": "markdown",
   "metadata": {
    "tags": []
   },
   "source": [
    "###  Изучение данных"
   ]
  },
  {
   "cell_type": "code",
   "execution_count": 4,
   "metadata": {},
   "outputs": [
    {
     "data": {
      "text/html": [
       "<div>\n",
       "<style scoped>\n",
       "    .dataframe tbody tr th:only-of-type {\n",
       "        vertical-align: middle;\n",
       "    }\n",
       "\n",
       "    .dataframe tbody tr th {\n",
       "        vertical-align: top;\n",
       "    }\n",
       "\n",
       "    .dataframe thead th {\n",
       "        text-align: right;\n",
       "    }\n",
       "</style>\n",
       "<table border=\"1\" class=\"dataframe\">\n",
       "  <thead>\n",
       "    <tr style=\"text-align: right;\">\n",
       "      <th></th>\n",
       "      <th>id</th>\n",
       "      <th>is_canceled</th>\n",
       "      <th>lead_time</th>\n",
       "      <th>arrival_date_year</th>\n",
       "      <th>arrival_date_month</th>\n",
       "      <th>arrival_date_week_number</th>\n",
       "      <th>arrival_date_day_of_month</th>\n",
       "      <th>stays_in_weekend_nights</th>\n",
       "      <th>stays_in_week_nights</th>\n",
       "      <th>adults</th>\n",
       "      <th>children</th>\n",
       "      <th>babies</th>\n",
       "      <th>meal</th>\n",
       "      <th>country</th>\n",
       "      <th>distribution_channel</th>\n",
       "      <th>is_repeated_guest</th>\n",
       "      <th>previous_cancellations</th>\n",
       "      <th>previous_bookings_not_canceled</th>\n",
       "      <th>reserved_room_type</th>\n",
       "      <th>booking_changes</th>\n",
       "      <th>days_in_waiting_list</th>\n",
       "      <th>customer_type</th>\n",
       "      <th>required_car_parking_spaces</th>\n",
       "      <th>total_of_special_requests</th>\n",
       "      <th>total_nights</th>\n",
       "    </tr>\n",
       "  </thead>\n",
       "  <tbody>\n",
       "    <tr>\n",
       "      <th>0</th>\n",
       "      <td>0</td>\n",
       "      <td>0</td>\n",
       "      <td>7.0</td>\n",
       "      <td>2015</td>\n",
       "      <td>July</td>\n",
       "      <td>27</td>\n",
       "      <td>1</td>\n",
       "      <td>0</td>\n",
       "      <td>1</td>\n",
       "      <td>1.0</td>\n",
       "      <td>0.0</td>\n",
       "      <td>0.0</td>\n",
       "      <td>BB</td>\n",
       "      <td>GBR</td>\n",
       "      <td>Direct</td>\n",
       "      <td>0</td>\n",
       "      <td>0</td>\n",
       "      <td>0</td>\n",
       "      <td>A</td>\n",
       "      <td>0</td>\n",
       "      <td>0</td>\n",
       "      <td>Transient</td>\n",
       "      <td>0</td>\n",
       "      <td>0</td>\n",
       "      <td>1</td>\n",
       "    </tr>\n",
       "    <tr>\n",
       "      <th>1</th>\n",
       "      <td>1</td>\n",
       "      <td>0</td>\n",
       "      <td>14.0</td>\n",
       "      <td>2015</td>\n",
       "      <td>July</td>\n",
       "      <td>27</td>\n",
       "      <td>1</td>\n",
       "      <td>0</td>\n",
       "      <td>2</td>\n",
       "      <td>2.0</td>\n",
       "      <td>0.0</td>\n",
       "      <td>0.0</td>\n",
       "      <td>BB</td>\n",
       "      <td>GBR</td>\n",
       "      <td>TA/TO</td>\n",
       "      <td>0</td>\n",
       "      <td>0</td>\n",
       "      <td>0</td>\n",
       "      <td>A</td>\n",
       "      <td>0</td>\n",
       "      <td>0</td>\n",
       "      <td>Transient</td>\n",
       "      <td>0</td>\n",
       "      <td>1</td>\n",
       "      <td>2</td>\n",
       "    </tr>\n",
       "    <tr>\n",
       "      <th>2</th>\n",
       "      <td>2</td>\n",
       "      <td>0</td>\n",
       "      <td>0.0</td>\n",
       "      <td>2015</td>\n",
       "      <td>July</td>\n",
       "      <td>27</td>\n",
       "      <td>1</td>\n",
       "      <td>0</td>\n",
       "      <td>2</td>\n",
       "      <td>2.0</td>\n",
       "      <td>0.0</td>\n",
       "      <td>0.0</td>\n",
       "      <td>BB</td>\n",
       "      <td>PRT</td>\n",
       "      <td>Direct</td>\n",
       "      <td>0</td>\n",
       "      <td>0</td>\n",
       "      <td>0</td>\n",
       "      <td>C</td>\n",
       "      <td>0</td>\n",
       "      <td>0</td>\n",
       "      <td>Transient</td>\n",
       "      <td>0</td>\n",
       "      <td>0</td>\n",
       "      <td>2</td>\n",
       "    </tr>\n",
       "    <tr>\n",
       "      <th>3</th>\n",
       "      <td>3</td>\n",
       "      <td>0</td>\n",
       "      <td>9.0</td>\n",
       "      <td>2015</td>\n",
       "      <td>July</td>\n",
       "      <td>27</td>\n",
       "      <td>1</td>\n",
       "      <td>0</td>\n",
       "      <td>2</td>\n",
       "      <td>2.0</td>\n",
       "      <td>0.0</td>\n",
       "      <td>0.0</td>\n",
       "      <td>FB</td>\n",
       "      <td>PRT</td>\n",
       "      <td>Direct</td>\n",
       "      <td>0</td>\n",
       "      <td>0</td>\n",
       "      <td>0</td>\n",
       "      <td>C</td>\n",
       "      <td>0</td>\n",
       "      <td>0</td>\n",
       "      <td>Transient</td>\n",
       "      <td>0</td>\n",
       "      <td>1</td>\n",
       "      <td>2</td>\n",
       "    </tr>\n",
       "    <tr>\n",
       "      <th>4</th>\n",
       "      <td>4</td>\n",
       "      <td>1</td>\n",
       "      <td>85.0</td>\n",
       "      <td>2015</td>\n",
       "      <td>July</td>\n",
       "      <td>27</td>\n",
       "      <td>1</td>\n",
       "      <td>0</td>\n",
       "      <td>3</td>\n",
       "      <td>2.0</td>\n",
       "      <td>0.0</td>\n",
       "      <td>0.0</td>\n",
       "      <td>BB</td>\n",
       "      <td>PRT</td>\n",
       "      <td>TA/TO</td>\n",
       "      <td>0</td>\n",
       "      <td>0</td>\n",
       "      <td>0</td>\n",
       "      <td>A</td>\n",
       "      <td>0</td>\n",
       "      <td>0</td>\n",
       "      <td>Transient</td>\n",
       "      <td>0</td>\n",
       "      <td>1</td>\n",
       "      <td>3</td>\n",
       "    </tr>\n",
       "    <tr>\n",
       "      <th>...</th>\n",
       "      <td>...</td>\n",
       "      <td>...</td>\n",
       "      <td>...</td>\n",
       "      <td>...</td>\n",
       "      <td>...</td>\n",
       "      <td>...</td>\n",
       "      <td>...</td>\n",
       "      <td>...</td>\n",
       "      <td>...</td>\n",
       "      <td>...</td>\n",
       "      <td>...</td>\n",
       "      <td>...</td>\n",
       "      <td>...</td>\n",
       "      <td>...</td>\n",
       "      <td>...</td>\n",
       "      <td>...</td>\n",
       "      <td>...</td>\n",
       "      <td>...</td>\n",
       "      <td>...</td>\n",
       "      <td>...</td>\n",
       "      <td>...</td>\n",
       "      <td>...</td>\n",
       "      <td>...</td>\n",
       "      <td>...</td>\n",
       "      <td>...</td>\n",
       "    </tr>\n",
       "    <tr>\n",
       "      <th>65224</th>\n",
       "      <td>84057</td>\n",
       "      <td>0</td>\n",
       "      <td>23.0</td>\n",
       "      <td>2016</td>\n",
       "      <td>December</td>\n",
       "      <td>53</td>\n",
       "      <td>30</td>\n",
       "      <td>2</td>\n",
       "      <td>4</td>\n",
       "      <td>2.0</td>\n",
       "      <td>0.0</td>\n",
       "      <td>0.0</td>\n",
       "      <td>BB</td>\n",
       "      <td>CHN</td>\n",
       "      <td>TA/TO</td>\n",
       "      <td>0</td>\n",
       "      <td>0</td>\n",
       "      <td>0</td>\n",
       "      <td>D</td>\n",
       "      <td>0</td>\n",
       "      <td>0</td>\n",
       "      <td>Transient</td>\n",
       "      <td>0</td>\n",
       "      <td>2</td>\n",
       "      <td>6</td>\n",
       "    </tr>\n",
       "    <tr>\n",
       "      <th>65225</th>\n",
       "      <td>84063</td>\n",
       "      <td>0</td>\n",
       "      <td>53.0</td>\n",
       "      <td>2016</td>\n",
       "      <td>December</td>\n",
       "      <td>53</td>\n",
       "      <td>31</td>\n",
       "      <td>2</td>\n",
       "      <td>3</td>\n",
       "      <td>2.0</td>\n",
       "      <td>0.0</td>\n",
       "      <td>0.0</td>\n",
       "      <td>HB</td>\n",
       "      <td>FRA</td>\n",
       "      <td>TA/TO</td>\n",
       "      <td>0</td>\n",
       "      <td>0</td>\n",
       "      <td>0</td>\n",
       "      <td>D</td>\n",
       "      <td>0</td>\n",
       "      <td>0</td>\n",
       "      <td>Transient</td>\n",
       "      <td>0</td>\n",
       "      <td>3</td>\n",
       "      <td>5</td>\n",
       "    </tr>\n",
       "    <tr>\n",
       "      <th>65226</th>\n",
       "      <td>84094</td>\n",
       "      <td>0</td>\n",
       "      <td>7.0</td>\n",
       "      <td>2016</td>\n",
       "      <td>December</td>\n",
       "      <td>53</td>\n",
       "      <td>31</td>\n",
       "      <td>2</td>\n",
       "      <td>4</td>\n",
       "      <td>2.0</td>\n",
       "      <td>0.0</td>\n",
       "      <td>0.0</td>\n",
       "      <td>BB</td>\n",
       "      <td>FRA</td>\n",
       "      <td>TA/TO</td>\n",
       "      <td>0</td>\n",
       "      <td>0</td>\n",
       "      <td>0</td>\n",
       "      <td>D</td>\n",
       "      <td>0</td>\n",
       "      <td>0</td>\n",
       "      <td>Transient</td>\n",
       "      <td>0</td>\n",
       "      <td>1</td>\n",
       "      <td>6</td>\n",
       "    </tr>\n",
       "    <tr>\n",
       "      <th>65227</th>\n",
       "      <td>84117</td>\n",
       "      <td>0</td>\n",
       "      <td>17.0</td>\n",
       "      <td>2016</td>\n",
       "      <td>December</td>\n",
       "      <td>53</td>\n",
       "      <td>30</td>\n",
       "      <td>2</td>\n",
       "      <td>5</td>\n",
       "      <td>2.0</td>\n",
       "      <td>0.0</td>\n",
       "      <td>0.0</td>\n",
       "      <td>SC</td>\n",
       "      <td>FRA</td>\n",
       "      <td>TA/TO</td>\n",
       "      <td>0</td>\n",
       "      <td>0</td>\n",
       "      <td>0</td>\n",
       "      <td>A</td>\n",
       "      <td>0</td>\n",
       "      <td>0</td>\n",
       "      <td>Transient</td>\n",
       "      <td>0</td>\n",
       "      <td>1</td>\n",
       "      <td>7</td>\n",
       "    </tr>\n",
       "    <tr>\n",
       "      <th>65228</th>\n",
       "      <td>84121</td>\n",
       "      <td>0</td>\n",
       "      <td>107.0</td>\n",
       "      <td>2016</td>\n",
       "      <td>December</td>\n",
       "      <td>53</td>\n",
       "      <td>31</td>\n",
       "      <td>2</td>\n",
       "      <td>5</td>\n",
       "      <td>2.0</td>\n",
       "      <td>0.0</td>\n",
       "      <td>0.0</td>\n",
       "      <td>BB</td>\n",
       "      <td>FRA</td>\n",
       "      <td>TA/TO</td>\n",
       "      <td>0</td>\n",
       "      <td>0</td>\n",
       "      <td>0</td>\n",
       "      <td>A</td>\n",
       "      <td>0</td>\n",
       "      <td>0</td>\n",
       "      <td>Transient</td>\n",
       "      <td>0</td>\n",
       "      <td>0</td>\n",
       "      <td>7</td>\n",
       "    </tr>\n",
       "  </tbody>\n",
       "</table>\n",
       "<p>65229 rows × 25 columns</p>\n",
       "</div>"
      ],
      "text/plain": [
       "          id  is_canceled  lead_time  arrival_date_year arrival_date_month  \\\n",
       "0          0            0        7.0               2015               July   \n",
       "1          1            0       14.0               2015               July   \n",
       "2          2            0        0.0               2015               July   \n",
       "3          3            0        9.0               2015               July   \n",
       "4          4            1       85.0               2015               July   \n",
       "...      ...          ...        ...                ...                ...   \n",
       "65224  84057            0       23.0               2016           December   \n",
       "65225  84063            0       53.0               2016           December   \n",
       "65226  84094            0        7.0               2016           December   \n",
       "65227  84117            0       17.0               2016           December   \n",
       "65228  84121            0      107.0               2016           December   \n",
       "\n",
       "       arrival_date_week_number  arrival_date_day_of_month  \\\n",
       "0                            27                          1   \n",
       "1                            27                          1   \n",
       "2                            27                          1   \n",
       "3                            27                          1   \n",
       "4                            27                          1   \n",
       "...                         ...                        ...   \n",
       "65224                        53                         30   \n",
       "65225                        53                         31   \n",
       "65226                        53                         31   \n",
       "65227                        53                         30   \n",
       "65228                        53                         31   \n",
       "\n",
       "       stays_in_weekend_nights  stays_in_week_nights  adults  children  \\\n",
       "0                            0                     1     1.0       0.0   \n",
       "1                            0                     2     2.0       0.0   \n",
       "2                            0                     2     2.0       0.0   \n",
       "3                            0                     2     2.0       0.0   \n",
       "4                            0                     3     2.0       0.0   \n",
       "...                        ...                   ...     ...       ...   \n",
       "65224                        2                     4     2.0       0.0   \n",
       "65225                        2                     3     2.0       0.0   \n",
       "65226                        2                     4     2.0       0.0   \n",
       "65227                        2                     5     2.0       0.0   \n",
       "65228                        2                     5     2.0       0.0   \n",
       "\n",
       "       babies       meal country distribution_channel  is_repeated_guest  \\\n",
       "0         0.0  BB            GBR               Direct                  0   \n",
       "1         0.0  BB            GBR                TA/TO                  0   \n",
       "2         0.0  BB            PRT               Direct                  0   \n",
       "3         0.0  FB            PRT               Direct                  0   \n",
       "4         0.0  BB            PRT                TA/TO                  0   \n",
       "...       ...        ...     ...                  ...                ...   \n",
       "65224     0.0  BB            CHN                TA/TO                  0   \n",
       "65225     0.0  HB            FRA                TA/TO                  0   \n",
       "65226     0.0  BB            FRA                TA/TO                  0   \n",
       "65227     0.0  SC            FRA                TA/TO                  0   \n",
       "65228     0.0  BB            FRA                TA/TO                  0   \n",
       "\n",
       "       previous_cancellations  previous_bookings_not_canceled  \\\n",
       "0                           0                               0   \n",
       "1                           0                               0   \n",
       "2                           0                               0   \n",
       "3                           0                               0   \n",
       "4                           0                               0   \n",
       "...                       ...                             ...   \n",
       "65224                       0                               0   \n",
       "65225                       0                               0   \n",
       "65226                       0                               0   \n",
       "65227                       0                               0   \n",
       "65228                       0                               0   \n",
       "\n",
       "      reserved_room_type  booking_changes  days_in_waiting_list customer_type  \\\n",
       "0       A                               0                     0     Transient   \n",
       "1       A                               0                     0     Transient   \n",
       "2       C                               0                     0     Transient   \n",
       "3       C                               0                     0     Transient   \n",
       "4       A                               0                     0     Transient   \n",
       "...                  ...              ...                   ...           ...   \n",
       "65224   D                               0                     0     Transient   \n",
       "65225   D                               0                     0     Transient   \n",
       "65226   D                               0                     0     Transient   \n",
       "65227   A                               0                     0     Transient   \n",
       "65228   A                               0                     0     Transient   \n",
       "\n",
       "       required_car_parking_spaces  total_of_special_requests  total_nights  \n",
       "0                                0                          0             1  \n",
       "1                                0                          1             2  \n",
       "2                                0                          0             2  \n",
       "3                                0                          1             2  \n",
       "4                                0                          1             3  \n",
       "...                            ...                        ...           ...  \n",
       "65224                            0                          2             6  \n",
       "65225                            0                          3             5  \n",
       "65226                            0                          1             6  \n",
       "65227                            0                          1             7  \n",
       "65228                            0                          0             7  \n",
       "\n",
       "[65229 rows x 25 columns]"
      ]
     },
     "metadata": {},
     "output_type": "display_data"
    },
    {
     "name": "stdout",
     "output_type": "stream",
     "text": [
      "<class 'pandas.core.frame.DataFrame'>\n",
      "RangeIndex: 65229 entries, 0 to 65228\n",
      "Data columns (total 25 columns):\n",
      " #   Column                          Non-Null Count  Dtype  \n",
      "---  ------                          --------------  -----  \n",
      " 0   id                              65229 non-null  int64  \n",
      " 1   is_canceled                     65229 non-null  int64  \n",
      " 2   lead_time                       65229 non-null  float64\n",
      " 3   arrival_date_year               65229 non-null  int64  \n",
      " 4   arrival_date_month              65229 non-null  object \n",
      " 5   arrival_date_week_number        65229 non-null  int64  \n",
      " 6   arrival_date_day_of_month       65229 non-null  int64  \n",
      " 7   stays_in_weekend_nights         65229 non-null  int64  \n",
      " 8   stays_in_week_nights            65229 non-null  int64  \n",
      " 9   adults                          65229 non-null  float64\n",
      " 10  children                        65229 non-null  float64\n",
      " 11  babies                          65229 non-null  float64\n",
      " 12  meal                            65229 non-null  object \n",
      " 13  country                         65229 non-null  object \n",
      " 14  distribution_channel            65229 non-null  object \n",
      " 15  is_repeated_guest               65229 non-null  int64  \n",
      " 16  previous_cancellations          65229 non-null  int64  \n",
      " 17  previous_bookings_not_canceled  65229 non-null  int64  \n",
      " 18  reserved_room_type              65229 non-null  object \n",
      " 19  booking_changes                 65229 non-null  int64  \n",
      " 20  days_in_waiting_list            65229 non-null  int64  \n",
      " 21  customer_type                   65229 non-null  object \n",
      " 22  required_car_parking_spaces     65229 non-null  int64  \n",
      " 23  total_of_special_requests       65229 non-null  int64  \n",
      " 24  total_nights                    65229 non-null  int64  \n",
      "dtypes: float64(4), int64(15), object(6)\n",
      "memory usage: 12.4+ MB\n"
     ]
    },
    {
     "data": {
      "text/html": [
       "<div>\n",
       "<style scoped>\n",
       "    .dataframe tbody tr th:only-of-type {\n",
       "        vertical-align: middle;\n",
       "    }\n",
       "\n",
       "    .dataframe tbody tr th {\n",
       "        vertical-align: top;\n",
       "    }\n",
       "\n",
       "    .dataframe thead th {\n",
       "        text-align: right;\n",
       "    }\n",
       "</style>\n",
       "<table border=\"1\" class=\"dataframe\">\n",
       "  <thead>\n",
       "    <tr style=\"text-align: right;\">\n",
       "      <th></th>\n",
       "      <th>id</th>\n",
       "      <th>is_canceled</th>\n",
       "      <th>lead_time</th>\n",
       "      <th>arrival_date_year</th>\n",
       "      <th>arrival_date_month</th>\n",
       "      <th>arrival_date_week_number</th>\n",
       "      <th>arrival_date_day_of_month</th>\n",
       "      <th>stays_in_weekend_nights</th>\n",
       "      <th>stays_in_week_nights</th>\n",
       "      <th>adults</th>\n",
       "      <th>children</th>\n",
       "      <th>babies</th>\n",
       "      <th>meal</th>\n",
       "      <th>country</th>\n",
       "      <th>distribution_channel</th>\n",
       "      <th>is_repeated_guest</th>\n",
       "      <th>previous_cancellations</th>\n",
       "      <th>previous_bookings_not_canceled</th>\n",
       "      <th>reserved_room_type</th>\n",
       "      <th>booking_changes</th>\n",
       "      <th>days_in_waiting_list</th>\n",
       "      <th>customer_type</th>\n",
       "      <th>required_car_parking_spaces</th>\n",
       "      <th>total_of_special_requests</th>\n",
       "      <th>total_nights</th>\n",
       "    </tr>\n",
       "  </thead>\n",
       "  <tbody>\n",
       "    <tr>\n",
       "      <th>0</th>\n",
       "      <td>6086</td>\n",
       "      <td>1</td>\n",
       "      <td>74.0</td>\n",
       "      <td>2017</td>\n",
       "      <td>January</td>\n",
       "      <td>1</td>\n",
       "      <td>1</td>\n",
       "      <td>1</td>\n",
       "      <td>0</td>\n",
       "      <td>2.0</td>\n",
       "      <td>0.0</td>\n",
       "      <td>0.0</td>\n",
       "      <td>BB</td>\n",
       "      <td>PRT</td>\n",
       "      <td>TA/TO</td>\n",
       "      <td>0</td>\n",
       "      <td>0</td>\n",
       "      <td>0</td>\n",
       "      <td>A</td>\n",
       "      <td>0</td>\n",
       "      <td>0</td>\n",
       "      <td>Transient</td>\n",
       "      <td>0</td>\n",
       "      <td>0</td>\n",
       "      <td>1</td>\n",
       "    </tr>\n",
       "    <tr>\n",
       "      <th>1</th>\n",
       "      <td>6087</td>\n",
       "      <td>1</td>\n",
       "      <td>62.0</td>\n",
       "      <td>2017</td>\n",
       "      <td>January</td>\n",
       "      <td>1</td>\n",
       "      <td>1</td>\n",
       "      <td>2</td>\n",
       "      <td>2</td>\n",
       "      <td>2.0</td>\n",
       "      <td>0.0</td>\n",
       "      <td>0.0</td>\n",
       "      <td>BB</td>\n",
       "      <td>AUT</td>\n",
       "      <td>TA/TO</td>\n",
       "      <td>0</td>\n",
       "      <td>0</td>\n",
       "      <td>0</td>\n",
       "      <td>A</td>\n",
       "      <td>0</td>\n",
       "      <td>0</td>\n",
       "      <td>Transient</td>\n",
       "      <td>0</td>\n",
       "      <td>1</td>\n",
       "      <td>4</td>\n",
       "    </tr>\n",
       "    <tr>\n",
       "      <th>2</th>\n",
       "      <td>6088</td>\n",
       "      <td>1</td>\n",
       "      <td>62.0</td>\n",
       "      <td>2017</td>\n",
       "      <td>January</td>\n",
       "      <td>1</td>\n",
       "      <td>1</td>\n",
       "      <td>2</td>\n",
       "      <td>2</td>\n",
       "      <td>2.0</td>\n",
       "      <td>0.0</td>\n",
       "      <td>0.0</td>\n",
       "      <td>BB</td>\n",
       "      <td>AUT</td>\n",
       "      <td>TA/TO</td>\n",
       "      <td>0</td>\n",
       "      <td>0</td>\n",
       "      <td>0</td>\n",
       "      <td>A</td>\n",
       "      <td>0</td>\n",
       "      <td>0</td>\n",
       "      <td>Transient</td>\n",
       "      <td>0</td>\n",
       "      <td>1</td>\n",
       "      <td>4</td>\n",
       "    </tr>\n",
       "    <tr>\n",
       "      <th>3</th>\n",
       "      <td>6089</td>\n",
       "      <td>1</td>\n",
       "      <td>71.0</td>\n",
       "      <td>2017</td>\n",
       "      <td>January</td>\n",
       "      <td>1</td>\n",
       "      <td>1</td>\n",
       "      <td>2</td>\n",
       "      <td>2</td>\n",
       "      <td>1.0</td>\n",
       "      <td>0.0</td>\n",
       "      <td>0.0</td>\n",
       "      <td>BB</td>\n",
       "      <td>PRT</td>\n",
       "      <td>TA/TO</td>\n",
       "      <td>0</td>\n",
       "      <td>0</td>\n",
       "      <td>0</td>\n",
       "      <td>A</td>\n",
       "      <td>0</td>\n",
       "      <td>0</td>\n",
       "      <td>Transient</td>\n",
       "      <td>0</td>\n",
       "      <td>1</td>\n",
       "      <td>4</td>\n",
       "    </tr>\n",
       "    <tr>\n",
       "      <th>4</th>\n",
       "      <td>6090</td>\n",
       "      <td>1</td>\n",
       "      <td>172.0</td>\n",
       "      <td>2017</td>\n",
       "      <td>January</td>\n",
       "      <td>1</td>\n",
       "      <td>1</td>\n",
       "      <td>2</td>\n",
       "      <td>5</td>\n",
       "      <td>2.0</td>\n",
       "      <td>0.0</td>\n",
       "      <td>0.0</td>\n",
       "      <td>BB</td>\n",
       "      <td>BEL</td>\n",
       "      <td>TA/TO</td>\n",
       "      <td>0</td>\n",
       "      <td>0</td>\n",
       "      <td>0</td>\n",
       "      <td>A</td>\n",
       "      <td>0</td>\n",
       "      <td>0</td>\n",
       "      <td>Transient</td>\n",
       "      <td>0</td>\n",
       "      <td>0</td>\n",
       "      <td>7</td>\n",
       "    </tr>\n",
       "    <tr>\n",
       "      <th>...</th>\n",
       "      <td>...</td>\n",
       "      <td>...</td>\n",
       "      <td>...</td>\n",
       "      <td>...</td>\n",
       "      <td>...</td>\n",
       "      <td>...</td>\n",
       "      <td>...</td>\n",
       "      <td>...</td>\n",
       "      <td>...</td>\n",
       "      <td>...</td>\n",
       "      <td>...</td>\n",
       "      <td>...</td>\n",
       "      <td>...</td>\n",
       "      <td>...</td>\n",
       "      <td>...</td>\n",
       "      <td>...</td>\n",
       "      <td>...</td>\n",
       "      <td>...</td>\n",
       "      <td>...</td>\n",
       "      <td>...</td>\n",
       "      <td>...</td>\n",
       "      <td>...</td>\n",
       "      <td>...</td>\n",
       "      <td>...</td>\n",
       "      <td>...</td>\n",
       "    </tr>\n",
       "    <tr>\n",
       "      <th>32407</th>\n",
       "      <td>97899</td>\n",
       "      <td>0</td>\n",
       "      <td>164.0</td>\n",
       "      <td>2017</td>\n",
       "      <td>August</td>\n",
       "      <td>35</td>\n",
       "      <td>31</td>\n",
       "      <td>2</td>\n",
       "      <td>4</td>\n",
       "      <td>2.0</td>\n",
       "      <td>0.0</td>\n",
       "      <td>0.0</td>\n",
       "      <td>BB</td>\n",
       "      <td>DEU</td>\n",
       "      <td>TA/TO</td>\n",
       "      <td>0</td>\n",
       "      <td>0</td>\n",
       "      <td>0</td>\n",
       "      <td>A</td>\n",
       "      <td>0</td>\n",
       "      <td>0</td>\n",
       "      <td>Transient</td>\n",
       "      <td>0</td>\n",
       "      <td>0</td>\n",
       "      <td>6</td>\n",
       "    </tr>\n",
       "    <tr>\n",
       "      <th>32408</th>\n",
       "      <td>97900</td>\n",
       "      <td>0</td>\n",
       "      <td>21.0</td>\n",
       "      <td>2017</td>\n",
       "      <td>August</td>\n",
       "      <td>35</td>\n",
       "      <td>30</td>\n",
       "      <td>2</td>\n",
       "      <td>5</td>\n",
       "      <td>2.0</td>\n",
       "      <td>0.0</td>\n",
       "      <td>0.0</td>\n",
       "      <td>BB</td>\n",
       "      <td>BEL</td>\n",
       "      <td>TA/TO</td>\n",
       "      <td>0</td>\n",
       "      <td>0</td>\n",
       "      <td>0</td>\n",
       "      <td>A</td>\n",
       "      <td>0</td>\n",
       "      <td>0</td>\n",
       "      <td>Transient</td>\n",
       "      <td>0</td>\n",
       "      <td>2</td>\n",
       "      <td>7</td>\n",
       "    </tr>\n",
       "    <tr>\n",
       "      <th>32409</th>\n",
       "      <td>97901</td>\n",
       "      <td>0</td>\n",
       "      <td>23.0</td>\n",
       "      <td>2017</td>\n",
       "      <td>August</td>\n",
       "      <td>35</td>\n",
       "      <td>30</td>\n",
       "      <td>2</td>\n",
       "      <td>5</td>\n",
       "      <td>2.0</td>\n",
       "      <td>0.0</td>\n",
       "      <td>0.0</td>\n",
       "      <td>BB</td>\n",
       "      <td>BEL</td>\n",
       "      <td>TA/TO</td>\n",
       "      <td>0</td>\n",
       "      <td>0</td>\n",
       "      <td>0</td>\n",
       "      <td>A</td>\n",
       "      <td>0</td>\n",
       "      <td>0</td>\n",
       "      <td>Transient</td>\n",
       "      <td>0</td>\n",
       "      <td>0</td>\n",
       "      <td>7</td>\n",
       "    </tr>\n",
       "    <tr>\n",
       "      <th>32410</th>\n",
       "      <td>97902</td>\n",
       "      <td>0</td>\n",
       "      <td>34.0</td>\n",
       "      <td>2017</td>\n",
       "      <td>August</td>\n",
       "      <td>35</td>\n",
       "      <td>31</td>\n",
       "      <td>2</td>\n",
       "      <td>5</td>\n",
       "      <td>2.0</td>\n",
       "      <td>0.0</td>\n",
       "      <td>0.0</td>\n",
       "      <td>BB</td>\n",
       "      <td>DEU</td>\n",
       "      <td>TA/TO</td>\n",
       "      <td>0</td>\n",
       "      <td>0</td>\n",
       "      <td>0</td>\n",
       "      <td>D</td>\n",
       "      <td>0</td>\n",
       "      <td>0</td>\n",
       "      <td>Transient</td>\n",
       "      <td>0</td>\n",
       "      <td>4</td>\n",
       "      <td>7</td>\n",
       "    </tr>\n",
       "    <tr>\n",
       "      <th>32411</th>\n",
       "      <td>97903</td>\n",
       "      <td>0</td>\n",
       "      <td>109.0</td>\n",
       "      <td>2017</td>\n",
       "      <td>August</td>\n",
       "      <td>35</td>\n",
       "      <td>31</td>\n",
       "      <td>2</td>\n",
       "      <td>5</td>\n",
       "      <td>2.0</td>\n",
       "      <td>0.0</td>\n",
       "      <td>0.0</td>\n",
       "      <td>BB</td>\n",
       "      <td>GBR</td>\n",
       "      <td>TA/TO</td>\n",
       "      <td>0</td>\n",
       "      <td>0</td>\n",
       "      <td>0</td>\n",
       "      <td>A</td>\n",
       "      <td>0</td>\n",
       "      <td>0</td>\n",
       "      <td>Transient</td>\n",
       "      <td>0</td>\n",
       "      <td>0</td>\n",
       "      <td>7</td>\n",
       "    </tr>\n",
       "  </tbody>\n",
       "</table>\n",
       "<p>32412 rows × 25 columns</p>\n",
       "</div>"
      ],
      "text/plain": [
       "          id  is_canceled  lead_time  arrival_date_year arrival_date_month  \\\n",
       "0       6086            1       74.0               2017            January   \n",
       "1       6087            1       62.0               2017            January   \n",
       "2       6088            1       62.0               2017            January   \n",
       "3       6089            1       71.0               2017            January   \n",
       "4       6090            1      172.0               2017            January   \n",
       "...      ...          ...        ...                ...                ...   \n",
       "32407  97899            0      164.0               2017             August   \n",
       "32408  97900            0       21.0               2017             August   \n",
       "32409  97901            0       23.0               2017             August   \n",
       "32410  97902            0       34.0               2017             August   \n",
       "32411  97903            0      109.0               2017             August   \n",
       "\n",
       "       arrival_date_week_number  arrival_date_day_of_month  \\\n",
       "0                             1                          1   \n",
       "1                             1                          1   \n",
       "2                             1                          1   \n",
       "3                             1                          1   \n",
       "4                             1                          1   \n",
       "...                         ...                        ...   \n",
       "32407                        35                         31   \n",
       "32408                        35                         30   \n",
       "32409                        35                         30   \n",
       "32410                        35                         31   \n",
       "32411                        35                         31   \n",
       "\n",
       "       stays_in_weekend_nights  stays_in_week_nights  adults  children  \\\n",
       "0                            1                     0     2.0       0.0   \n",
       "1                            2                     2     2.0       0.0   \n",
       "2                            2                     2     2.0       0.0   \n",
       "3                            2                     2     1.0       0.0   \n",
       "4                            2                     5     2.0       0.0   \n",
       "...                        ...                   ...     ...       ...   \n",
       "32407                        2                     4     2.0       0.0   \n",
       "32408                        2                     5     2.0       0.0   \n",
       "32409                        2                     5     2.0       0.0   \n",
       "32410                        2                     5     2.0       0.0   \n",
       "32411                        2                     5     2.0       0.0   \n",
       "\n",
       "       babies       meal country distribution_channel  is_repeated_guest  \\\n",
       "0         0.0  BB            PRT                TA/TO                  0   \n",
       "1         0.0  BB            AUT                TA/TO                  0   \n",
       "2         0.0  BB            AUT                TA/TO                  0   \n",
       "3         0.0  BB            PRT                TA/TO                  0   \n",
       "4         0.0  BB            BEL                TA/TO                  0   \n",
       "...       ...        ...     ...                  ...                ...   \n",
       "32407     0.0  BB            DEU                TA/TO                  0   \n",
       "32408     0.0  BB            BEL                TA/TO                  0   \n",
       "32409     0.0  BB            BEL                TA/TO                  0   \n",
       "32410     0.0  BB            DEU                TA/TO                  0   \n",
       "32411     0.0  BB            GBR                TA/TO                  0   \n",
       "\n",
       "       previous_cancellations  previous_bookings_not_canceled  \\\n",
       "0                           0                               0   \n",
       "1                           0                               0   \n",
       "2                           0                               0   \n",
       "3                           0                               0   \n",
       "4                           0                               0   \n",
       "...                       ...                             ...   \n",
       "32407                       0                               0   \n",
       "32408                       0                               0   \n",
       "32409                       0                               0   \n",
       "32410                       0                               0   \n",
       "32411                       0                               0   \n",
       "\n",
       "      reserved_room_type  booking_changes  days_in_waiting_list customer_type  \\\n",
       "0       A                               0                     0     Transient   \n",
       "1       A                               0                     0     Transient   \n",
       "2       A                               0                     0     Transient   \n",
       "3       A                               0                     0     Transient   \n",
       "4       A                               0                     0     Transient   \n",
       "...                  ...              ...                   ...           ...   \n",
       "32407   A                               0                     0     Transient   \n",
       "32408   A                               0                     0     Transient   \n",
       "32409   A                               0                     0     Transient   \n",
       "32410   D                               0                     0     Transient   \n",
       "32411   A                               0                     0     Transient   \n",
       "\n",
       "       required_car_parking_spaces  total_of_special_requests  total_nights  \n",
       "0                                0                          0             1  \n",
       "1                                0                          1             4  \n",
       "2                                0                          1             4  \n",
       "3                                0                          1             4  \n",
       "4                                0                          0             7  \n",
       "...                            ...                        ...           ...  \n",
       "32407                            0                          0             6  \n",
       "32408                            0                          2             7  \n",
       "32409                            0                          0             7  \n",
       "32410                            0                          4             7  \n",
       "32411                            0                          0             7  \n",
       "\n",
       "[32412 rows x 25 columns]"
      ]
     },
     "metadata": {},
     "output_type": "display_data"
    },
    {
     "name": "stdout",
     "output_type": "stream",
     "text": [
      "<class 'pandas.core.frame.DataFrame'>\n",
      "RangeIndex: 32412 entries, 0 to 32411\n",
      "Data columns (total 25 columns):\n",
      " #   Column                          Non-Null Count  Dtype  \n",
      "---  ------                          --------------  -----  \n",
      " 0   id                              32412 non-null  int64  \n",
      " 1   is_canceled                     32412 non-null  int64  \n",
      " 2   lead_time                       32412 non-null  float64\n",
      " 3   arrival_date_year               32412 non-null  int64  \n",
      " 4   arrival_date_month              32412 non-null  object \n",
      " 5   arrival_date_week_number        32412 non-null  int64  \n",
      " 6   arrival_date_day_of_month       32412 non-null  int64  \n",
      " 7   stays_in_weekend_nights         32412 non-null  int64  \n",
      " 8   stays_in_week_nights            32412 non-null  int64  \n",
      " 9   adults                          32412 non-null  float64\n",
      " 10  children                        32412 non-null  float64\n",
      " 11  babies                          32412 non-null  float64\n",
      " 12  meal                            32412 non-null  object \n",
      " 13  country                         32412 non-null  object \n",
      " 14  distribution_channel            32412 non-null  object \n",
      " 15  is_repeated_guest               32412 non-null  int64  \n",
      " 16  previous_cancellations          32412 non-null  int64  \n",
      " 17  previous_bookings_not_canceled  32412 non-null  int64  \n",
      " 18  reserved_room_type              32412 non-null  object \n",
      " 19  booking_changes                 32412 non-null  int64  \n",
      " 20  days_in_waiting_list            32412 non-null  int64  \n",
      " 21  customer_type                   32412 non-null  object \n",
      " 22  required_car_parking_spaces     32412 non-null  int64  \n",
      " 23  total_of_special_requests       32412 non-null  int64  \n",
      " 24  total_nights                    32412 non-null  int64  \n",
      "dtypes: float64(4), int64(15), object(6)\n",
      "memory usage: 6.2+ MB\n"
     ]
    }
   ],
   "source": [
    "data_train = pd.read_csv(os.path.join(path, 'hotel_train.csv'))\n",
    "data_test = pd.read_csv(os.path.join(path, 'hotel_test.csv'))\n",
    "\n",
    "display(data_train)\n",
    "data_train.info()\n",
    "\n",
    "display(data_test)\n",
    "data_test.info()"
   ]
  },
  {
   "cell_type": "markdown",
   "metadata": {
    "tags": []
   },
   "source": [
    "### Предобработка и исследовательский анализ данных"
   ]
  },
  {
   "cell_type": "code",
   "execution_count": 5,
   "metadata": {},
   "outputs": [
    {
     "name": "stdout",
     "output_type": "stream",
     "text": [
      "Количество дубликатов: 0\n"
     ]
    }
   ],
   "source": [
    "#Проверка на дубликаты\n",
    "\n",
    "print('Количество дубликатов:', data_train.duplicated().sum())"
   ]
  },
  {
   "cell_type": "markdown",
   "metadata": {},
   "source": [
    "Дубликатов и пропусков нет. Для дальнейшей предобработки имеет смысл разделить столбцы на количественные и категориальные признаки, т.к. для их предобработки используются разные инструменты.\n",
    "\n",
    "В категориальных признаках со строчными значениями имеет смысл привести все значения к нижнему регистру, удалить пробелы, затем проверить весь датафрейм на дубликаты ещё раз.\n",
    "\n",
    "В количественных признаках возможны выбросы, которые также стоит рассмотреть."
   ]
  },
  {
   "cell_type": "code",
   "execution_count": 6,
   "metadata": {},
   "outputs": [],
   "source": [
    "#Разделение на категории\n",
    "\n",
    "numeric = ['adults', 'babies', 'booking_changes', 'children', 'days_in_waiting_list', 'lead_time', \n",
    "           'previous_bookings_not_canceled', 'previous_cancellations', 'stays_in_weekend_nights', 'stays_in_week_nights', \n",
    "           'total_nights', 'total_of_special_requests', 'required_car_parking_spaces']\n",
    "\n",
    "categorical = ['country', 'customer_type', 'distribution_channel', 'meal', 'reserved_room_type',  \n",
    "              'arrival_date_month', 'arrival_date_year', 'arrival_date_week_number', 'arrival_date_day_of_month']\n",
    "\n",
    "rdy = ['is_canceled', 'is_repeated_guest']"
   ]
  },
  {
   "cell_type": "code",
   "execution_count": 7,
   "metadata": {},
   "outputs": [],
   "source": [
    "for i in range(6):\n",
    "    data_train[categorical[i]] = data_train[categorical[i]].str.lower()\n",
    "    data_train[categorical[i]] = data_train[categorical[i]].str.strip()\n",
    "    data_test[categorical[i]] = data_test[categorical[i]].str.strip()\n",
    "    data_test[categorical[i]] = data_test[categorical[i]].str.lower()"
   ]
  },
  {
   "cell_type": "code",
   "execution_count": 8,
   "metadata": {},
   "outputs": [
    {
     "data": {
      "text/plain": [
       "0"
      ]
     },
     "execution_count": 8,
     "metadata": {},
     "output_type": "execute_result"
    }
   ],
   "source": [
    "data_train.duplicated().sum()"
   ]
  },
  {
   "cell_type": "markdown",
   "metadata": {},
   "source": [
    "Т.к. далее будет исследование на выбросы в данных, полезно знать, сколько отмененных заказов было всего, т.к. это целевой признак который будет предсказывать модель и будет плохо, если мы выкинем половину значений отмененных заказов, т.к. посчитаем их выбросами из-за других признаков в строке."
   ]
  },
  {
   "cell_type": "code",
   "execution_count": 9,
   "metadata": {},
   "outputs": [
    {
     "name": "stdout",
     "output_type": "stream",
     "text": [
      "Количество отмененных заказов равно 24044\n"
     ]
    }
   ],
   "source": [
    "print('Количество отмененных заказов равно', data_train.loc[data_train['is_canceled'] == 1]['id'].count())"
   ]
  },
  {
   "cell_type": "markdown",
   "metadata": {},
   "source": [
    "Отмененных заказов довольно много, немного меньше половины, что даёт нам возможность не особо беспокоиться о том, что случайно можем выкинуть большую часть отменненых заказов.\n",
    "\n",
    "Далее выбросы будем искать так: сначала рассмотрим те столбцы, в которых мало уникальных значений, потому что найти выбросы в них можно вручную, без применения инструментов анализа, что упростит задачу, т.к. мы имеем довольно много количественных признаков. Далее рассмотрим остальные столбцы, построим гистограммы распределения и изучим информацию о квартилях в них."
   ]
  },
  {
   "cell_type": "code",
   "execution_count": 10,
   "metadata": {},
   "outputs": [
    {
     "name": "stdout",
     "output_type": "stream",
     "text": [
      "adults 5\n",
      "[1. 2. 3. 4. 0.]\n",
      "babies 5\n",
      "[ 0.  1.  2. 10.  9.]\n",
      "children 4\n",
      "[0. 1. 2. 3.]\n",
      "stays_in_weekend_nights 5\n",
      "[0 2 1 4 3]\n",
      "stays_in_week_nights 7\n",
      "[1 2 3 4 5 6 0]\n",
      "total_nights 10\n",
      "[ 1  2  3  4  6  7  5  8 10  9]\n",
      "total_of_special_requests 6\n",
      "[0 1 3 2 4 5]\n",
      "required_car_parking_spaces 4\n",
      "[0 1 2 3]\n",
      "Столбцы с большим количеством разных значений: ['booking_changes', 'days_in_waiting_list', 'lead_time', 'previous_bookings_not_canceled', 'previous_cancellations']\n"
     ]
    }
   ],
   "source": [
    "big_numeric = []\n",
    "for value in numeric:\n",
    "    if len(data_train[value].unique()) <= 10:\n",
    "        print(value, len(data_train[value].unique()))\n",
    "        print(data_train[value].unique())\n",
    "    else:\n",
    "        big_numeric.append(value)\n",
    "        \n",
    "print('Столбцы с большим количеством разных значений:', big_numeric)"
   ]
  },
  {
   "cell_type": "code",
   "execution_count": 11,
   "metadata": {},
   "outputs": [
    {
     "name": "stdout",
     "output_type": "stream",
     "text": [
      "Количество заказов с указанным количеством детей больше 2: 2\n"
     ]
    }
   ],
   "source": [
    "print('Количество заказов с указанным количеством детей больше 2:', data_train.loc[data_train['babies'] > 2]['id'].count())"
   ]
  },
  {
   "cell_type": "markdown",
   "metadata": {},
   "source": [
    "Из просмотренных столбцов выбросы найдены только в столбце \"babies\". Столбцы с большим количеством уникальных значений будем исследовать дальше.\n",
    "\n",
    "Стоит уточнить, что мы ищем выбросы и нам мало интересны значения больше или равные единице в исследуемых далее столбцах, т.к. это вполне логично, что подавляющее большинство не делало никаких изменений или делали одно изменение в заказах или отменяло их, а значения, больше или равные единице, затруднят исследования графиков и поиск выбросов, т.к. из-за них распределение будет сильно скошено влево."
   ]
  },
  {
   "cell_type": "code",
   "execution_count": 12,
   "metadata": {},
   "outputs": [
    {
     "data": {
      "image/png": "[encoded data removed]",
      "text/plain": [
       "<Figure size 2000x800 with 1 Axes>"
      ]
     },
     "metadata": {},
     "output_type": "display_data"
    },
    {
     "name": "stdout",
     "output_type": "stream",
     "text": [
      "count    2419.000000\n",
      "mean        2.503927\n",
      "std         1.234115\n",
      "min         2.000000\n",
      "25%         2.000000\n",
      "50%         2.000000\n",
      "75%         3.000000\n",
      "max        17.000000\n",
      "Name: booking_changes, dtype: float64\n"
     ]
    },
    {
     "data": {
      "image/png": "[encoded data removed]",
      "text/plain": [
       "<Figure size 2000x800 with 1 Axes>"
      ]
     },
     "metadata": {},
     "output_type": "display_data"
    },
    {
     "name": "stdout",
     "output_type": "stream",
     "text": [
      "count    3221.000000\n",
      "mean       67.524992\n",
      "std        49.024481\n",
      "min         2.000000\n",
      "25%        38.000000\n",
      "50%        56.000000\n",
      "75%        87.000000\n",
      "max       259.000000\n",
      "Name: days_in_waiting_list, dtype: float64\n"
     ]
    },
    {
     "data": {
      "image/png": "[encoded data removed]",
      "text/plain": [
       "<Figure size 2000x800 with 1 Axes>"
      ]
     },
     "metadata": {},
     "output_type": "display_data"
    },
    {
     "name": "stdout",
     "output_type": "stream",
     "text": [
      "count    59822.000000\n",
      "mean       105.012236\n",
      "std         95.749450\n",
      "min          2.000000\n",
      "25%         27.000000\n",
      "50%         74.000000\n",
      "75%        163.000000\n",
      "max        374.000000\n",
      "Name: lead_time, dtype: float64\n"
     ]
    },
    {
     "data": {
      "image/png": "[encoded data removed]",
      "text/plain": [
       "<Figure size 2000x800 with 1 Axes>"
      ]
     },
     "metadata": {},
     "output_type": "display_data"
    },
    {
     "name": "stdout",
     "output_type": "stream",
     "text": [
      "count    898.000000\n",
      "mean       7.105791\n",
      "std        8.806666\n",
      "min        2.000000\n",
      "25%        2.000000\n",
      "50%        4.000000\n",
      "75%        7.000000\n",
      "max       58.000000\n",
      "Name: previous_bookings_not_canceled, dtype: float64\n"
     ]
    },
    {
     "data": {
      "image/png": "[encoded data removed]",
      "text/plain": [
       "<Figure size 2000x800 with 1 Axes>"
      ]
     },
     "metadata": {},
     "output_type": "display_data"
    },
    {
     "name": "stdout",
     "output_type": "stream",
     "text": [
      "count    271.000000\n",
      "mean      11.225092\n",
      "std        9.098895\n",
      "min        2.000000\n",
      "25%        3.000000\n",
      "50%       11.000000\n",
      "75%       19.000000\n",
      "max       26.000000\n",
      "Name: previous_cancellations, dtype: float64\n"
     ]
    }
   ],
   "source": [
    "#Строим гистограммы распределения и выводим подробную информацию.\n",
    "\n",
    "for_describe = []\n",
    "for value in big_numeric:\n",
    "    plt.figure(figsize=(20, 8))\n",
    "    plt.hist(data_train.loc[data_train[value]>1][value], range=(0, data_train[value].max()), bins=len(data_train[value].unique()))\n",
    "    plt.gca().set(title='distribution histogram of '+value, ylabel='amount', xlabel=value)\n",
    "    plt.show()\n",
    "    for_describe.append((data_train.loc[data_train[value]>1][value].describe()))\n",
    "    print((data_train.loc[data_train[value]>1][value].describe()))"
   ]
  },
  {
   "cell_type": "markdown",
   "metadata": {},
   "source": [
    "Гистограмма распределения признака изменений в заказе: гистограмма получилась сильно скошенной влево, но с коротким и маловесящим хвостом, что вполне даёт нам право посчитать выбросы стандартным образом: значения, которые находятся на расстоянии больше полутора третьего квартиля от медианы, считаются выбросами\n",
    "\n",
    "Гистограмма распределения признака дней ожидания: распределение на гистограмме нормальное, что также позволяет нам использовать межквартильный метод для поиска выбросов.\n",
    "\n",
    "Гистограмма распределения признака количества дней между датой бронирования и прибытия: распределение сильно скошено влево и имеет сильнозначимый хвост, для поиска выбросов с помощью межквартильного метода придется повысить коэффициент умножения расстояния с 1.5 до 2.2, чтобы выбросами посчитались не слишком большое количество значений.\n",
    "\n",
    "Гистограмма распределения признака количества подтверждённых заказов у клиента: аналогично первому - сильный перекос влево, но малозначимый хвост\n",
    "\n",
    "Гистограмма распределения признака предыдущих отмен заказа: если считать по стандартному способу с помощью межквартильного метода, то можно сказать, что выбросов нет. Однако стоит отметить, что до 20 отмен наблюдается спад, а потом резко количество значений возрастает, что весьма странно."
   ]
  },
  {
   "cell_type": "code",
   "execution_count": 13,
   "metadata": {
    "scrolled": true
   },
   "outputs": [
    {
     "name": "stdout",
     "output_type": "stream",
     "text": [
      "Удалено 3.087583743427004 % данных\n"
     ]
    }
   ],
   "source": [
    "#Удаление выбросов\n",
    "\n",
    "data_train_new = data_train.drop(data_train.loc[data_train['babies'] > 2].index, axis=0)\n",
    "\n",
    "for_describe.pop(big_numeric.index('lead_time'))\n",
    "big_numeric.remove('lead_time')\n",
    "\n",
    "data_train_new = data_train_new.drop(list(data_train_new.loc[data_train_new['lead_time'] > round(data_train_new['lead_time'].describe()[6]*2.2)].index), axis=0)\n",
    "\n",
    "for i in range(len(for_describe)):\n",
    "    data_train_new = data_train_new.drop(list(data_train_new.loc[data_train_new[big_numeric[i]] > round(for_describe[i][6]*1.5)].index), axis=0)\n",
    "    \n",
    "print('Удалено', 100-data_train_new['adults'].count()/data_train['id'].count()*100, '% данных')\n"
   ]
  },
  {
   "cell_type": "markdown",
   "metadata": {
    "tags": []
   },
   "source": [
    "### Подсчёт прибыли до внедрения модели"
   ]
  },
  {
   "cell_type": "markdown",
   "metadata": {},
   "source": [
    "Необходимо оценить прибыль отеля без внедрения депозитов. Т.к. нам далее потребуется ещё раз посчитать выручку, но уже с депозитом, то наиболее удобно будет написать функцию для расчета прибыли."
   ]
  },
  {
   "cell_type": "code",
   "execution_count": 14,
   "metadata": {},
   "outputs": [],
   "source": [
    "def profit(data, deposit=0):\n",
    "    \n",
    "    if data['arrival_date_month'] in ['july', 'august', 'june']:\n",
    "        season_coeff = 1.4\n",
    "    elif data['arrival_date_month'] in ['september', 'october', 'november', 'march', 'april', 'may']:\n",
    "        season_coeff = 1.2\n",
    "    else:\n",
    "        season_coeff = 1\n",
    "    \n",
    "    category = data['reserved_room_type']\n",
    "    if category == 'a':\n",
    "        room_cost = 1000\n",
    "        room_service = 400\n",
    "    elif category == 'b':\n",
    "        room_cost = 800\n",
    "        room_service = 350\n",
    "    elif category == 'c':\n",
    "        room_cost = 600\n",
    "        room_service = 350\n",
    "    elif category == 'd':\n",
    "        room_cost = 550\n",
    "        room_service = 150\n",
    "    elif category == 'e':\n",
    "        room_cost = 500\n",
    "        room_service = 150\n",
    "    elif category == 'f':\n",
    "        room_cost = 450\n",
    "        room_service = 150\n",
    "    elif category == 'g':\n",
    "        room_cost = 350\n",
    "        room_service = 150\n",
    "        \n",
    "    if deposit == 1:\n",
    "        predict = data['predictions']\n",
    "        if predict == 0:\n",
    "            if data['is_canceled'] == 0:\n",
    "                profit = data['total_nights']*room_cost*season_coeff - room_service*np.ceil(data['total_nights']/2)\n",
    "            else: \n",
    "                profit = -1*room_service\n",
    "        elif predict == 1:\n",
    "            if data['is_canceled'] == 0:\n",
    "                profit = (0.8*(room_cost+room_service) + (data['total_nights']-1)*room_cost*season_coeff \n",
    "                          - room_service*np.ceil(data['total_nights']/2))\n",
    "            else:\n",
    "                profit = 0.8*(room_cost+room_service)-room_service\n",
    "    else:\n",
    "        if data['is_canceled'] == 0:\n",
    "            profit = data['total_nights']*room_cost*season_coeff - room_service*np.ceil(data['total_nights']/2)\n",
    "        else:\n",
    "            profit = -1*room_service\n",
    "            \n",
    "    data['profit'] = profit\n",
    "            \n",
    "    return data"
   ]
  },
  {
   "cell_type": "code",
   "execution_count": 15,
   "metadata": {},
   "outputs": [
    {
     "name": "stdout",
     "output_type": "stream",
     "text": [
      "Прибыль отеля за исследуемый период равна 99085820.0\n"
     ]
    }
   ],
   "source": [
    "sum = data_train.apply(profit, axis=1)['profit'].sum()\n",
    "    \n",
    "print('Прибыль отеля за исследуемый период равна', sum)"
   ]
  },
  {
   "cell_type": "markdown",
   "metadata": {
    "tags": []
   },
   "source": [
    "### Разработка модели ML"
   ]
  },
  {
   "cell_type": "code",
   "execution_count": 16,
   "metadata": {},
   "outputs": [],
   "source": [
    "#Удаление незначимых для обучения столбцов из данных\n",
    "\n",
    "data_train_new = data_train_new.drop('id', axis=1)\n",
    "data_test = data_test.drop('id', axis=1)"
   ]
  },
  {
   "cell_type": "code",
   "execution_count": 17,
   "metadata": {},
   "outputs": [],
   "source": [
    "k = data_test['adults'].count()/(data_train['adults'].count()+data_test['adults'].count())\n",
    "\n",
    "data = pd.concat([data_train_new, data_test], axis=0, ignore_index=True)\n",
    "data_ohe = pd.get_dummies(data, drop_first=True)\n",
    "\n",
    "data_train_ohe, data_test_ohe = train_test_split(data_ohe.copy(), test_size=k, random_state=12345)\n",
    "\n",
    "features = data_train_ohe.drop('is_canceled', axis=1)\n",
    "target = data_train_ohe['is_canceled']\n",
    "\n",
    "features_test = data_test_ohe.drop('is_canceled', axis=1).copy()\n",
    "target_test = data_test_ohe['is_canceled']\n",
    "\n",
    "#Чтобы обучить scaler только на тренировочных данных\n",
    "features_train, features_valid, target_train, target_valid = train_test_split(features.copy(), target, test_size=0.3, random_state=12345)\n",
    "\n",
    "scaler = StandardScaler()\n",
    "\n",
    "scaler.fit(features_train[numeric])\n",
    "features_train[numeric] = scaler.transform(features_train[numeric])\n",
    "features_valid[numeric] = scaler.transform(features_valid[numeric])\n",
    "features_test[numeric] = scaler.transform(features_test[numeric])\n",
    "\n",
    "features = pd.concat([features_train, features_valid], axis=0)"
   ]
  },
  {
   "cell_type": "markdown",
   "metadata": {},
   "source": [
    "После подготовки данных будем искать наиболее результативную модель из известных видов с помощью перебора гиперпараметров.\n",
    "\n",
    "Рассчитывать будем сразу три метрики: средняя оценка по результатам кросс-валидации, f1 лучшей модели и AUC-ROC, а потом уже оценивать."
   ]
  },
  {
   "cell_type": "code",
   "execution_count": 18,
   "metadata": {},
   "outputs": [
    {
     "name": "stdout",
     "output_type": "stream",
     "text": [
      "Лучшая средняя оценка по результатам кросс-валидации равна 0.6313886332717942 у дерева с глубиной 1\n",
      "F1 лучшей модели дерева решений: 0.5785615491009681\n",
      "AUC-ROC равна: 0.663321085609858\n"
     ]
    }
   ],
   "source": [
    "# Дерево решений\n",
    "\n",
    "best_result_tree = 0\n",
    "best_depth_tree = 0\n",
    "best_model_tree = None\n",
    "for depth in range(1, 16):\n",
    "    model_tree = DecisionTreeClassifier(random_state=12345, max_depth=depth)\n",
    "    scores = cross_validate(model_tree, features, target, cv=5)['test_score']\n",
    "    result = scores.sum()/len(list(scores))\n",
    "    if result > best_result_tree:\n",
    "        best_result_tree = result\n",
    "        best_depth = depth\n",
    "        best_model_tree = model_tree\n",
    "        \n",
    "print('Лучшая средняя оценка по результатам кросс-валидации равна', best_result_tree, 'у дерева с глубиной', best_depth)\n",
    "\n",
    "best_model_tree.fit(features_train, target_train)\n",
    "predictions = best_model_tree.predict(features_valid)\n",
    "result_f1 = f1_score(target_valid, predictions)\n",
    "print('F1 лучшей модели дерева решений:', result_f1)\n",
    "\n",
    "probabilities_valid = best_model_tree.predict_proba(features_valid)\n",
    "probabilities_one_valid = probabilities_valid[:, 1]\n",
    "auc_roc = roc_auc_score(target_valid, probabilities_one_valid)\n",
    "print('AUC-ROC равна:', auc_roc)"
   ]
  },
  {
   "cell_type": "code",
   "execution_count": 19,
   "metadata": {
    "scrolled": true
   },
   "outputs": [
    {
     "name": "stdout",
     "output_type": "stream",
     "text": [
      "Лучшая средняя оценка по результатам кросс-валидации равна 0.631404287623704 у случайного леса с количеством деревьев равным 10 и глубиной равной 3\n",
      "F1 лучшей модели cлучайного леса: 0.5062351849943316\n",
      "AUC-ROC равна: 0.8161580562073668\n"
     ]
    }
   ],
   "source": [
    "#Случайный лес\n",
    "\n",
    "best_result_forest = 0\n",
    "best_depth_forest = 0\n",
    "best_est_forest = 0\n",
    "best_model_forest = None\n",
    "for est in range(10, 101, 10):\n",
    "    for depth in range(1, 13):\n",
    "        model_forest = RandomForestClassifier(random_state=12345, n_estimators=est, max_depth=depth)\n",
    "        scores = cross_validate(model_forest, features, target, cv=5)['test_score']\n",
    "        result = scores.sum()/len(list(scores))\n",
    "        if result > best_result_forest:\n",
    "            best_result_forest = result\n",
    "            best_depth_forest = depth\n",
    "            best_est_forest = est\n",
    "            best_model_forest = model_forest\n",
    "\n",
    "print('Лучшая средняя оценка по результатам кросс-валидации равна', best_result_forest, \n",
    "      'у случайного леса с количеством деревьев равным', best_est_forest, 'и глубиной равной', best_depth_forest)\n",
    "\n",
    "best_model_forest.fit(features_train, target_train)\n",
    "predictions = best_model_forest.predict(features_valid)\n",
    "result_f1 = f1_score(target_valid, predictions)\n",
    "print('F1 лучшей модели cлучайного леса:', result_f1)\n",
    "\n",
    "probabilities_valid = best_model_forest.predict_proba(features_valid)\n",
    "probabilities_one_valid = probabilities_valid[:, 1]\n",
    "auc_roc = roc_auc_score(target_valid, probabilities_one_valid)\n",
    "print('AUC-ROC равна:', auc_roc)"
   ]
  },
  {
   "cell_type": "code",
   "execution_count": 20,
   "metadata": {},
   "outputs": [
    {
     "name": "stdout",
     "output_type": "stream",
     "text": [
      "Средняя оценка по результатам кросс-валидации равна 0.6313886332717942\n",
      "F1 лучшей модели логистической регрессии: 0.6758631562352199\n",
      "AUC-ROC равна: 0.8501155700842933\n"
     ]
    }
   ],
   "source": [
    "#\n",
    "\n",
    "model_linear = LogisticRegression(solver='liblinear', random_state=12345)\n",
    "scores = cross_validate(model_linear, features, target, cv=5)['test_score']\n",
    "result = scores.sum()/len(list(scores))\n",
    "\n",
    "print('Средняя оценка по результатам кросс-валидации равна', result)\n",
    "\n",
    "model_linear.fit(features_train, target_train)\n",
    "predictions = model_linear.predict(features_valid)\n",
    "result_f1 = f1_score(target_valid, predictions)\n",
    "print('F1 лучшей модели логистической регрессии:', result_f1)\n",
    "\n",
    "probabilities_valid = model_linear.predict_proba(features_valid)\n",
    "probabilities_one_valid = probabilities_valid[:, 1]\n",
    "auc_roc = roc_auc_score(target_valid, probabilities_one_valid)\n",
    "print('AUC-ROC равна:', auc_roc)"
   ]
  },
  {
   "cell_type": "markdown",
   "metadata": {},
   "source": [
    "Модель логистической регрессии выигрывает по всем метрикам у других моделей, поэтому её и будем использовать в дальнейшем."
   ]
  },
  {
   "cell_type": "code",
   "execution_count": 21,
   "metadata": {},
   "outputs": [
    {
     "name": "stdout",
     "output_type": "stream",
     "text": [
      "Разница между прибылью с предсказаниями модели и без предсказаний равна: 7223770.0\n"
     ]
    }
   ],
   "source": [
    "#Оценка прибыли, которую могла бы принести модель на тестовых данных\n",
    "\n",
    "predictions = model_linear.predict(features_test)\n",
    "\n",
    "for_profit = data.loc[data_test_ohe.index]\n",
    "for_profit['predictions'] = predictions\n",
    "\n",
    "profit_without_deposit = for_profit.apply(profit, axis=1)['profit'].sum()\n",
    "profit_with_deposit = for_profit.apply(profit, axis=1, deposit=1)['profit'].sum()\n",
    "\n",
    "print('Разница между прибылью с предсказаниями модели и без предсказаний равна:', profit_with_deposit-profit_without_deposit)"
   ]
  },
  {
   "cell_type": "markdown",
   "metadata": {},
   "source": [
    "<b>Вывод</b>\n",
    "\n",
    "- 1) Модель логистической регрессии показывает наилучшие результаты среди других моделей\n",
    "- 2) За исследуемые восемь месяцев, которые представлены в тестовых данных, с введением модели и системы депозитов, модель могла бы принести бизнесу 6.5 млн, тогда в перспективе за год будет около 9 млн, т.е. модель окупает себя за пару месяцев"
   ]
  },
  {
   "cell_type": "markdown",
   "metadata": {
    "tags": []
   },
   "source": [
    "###  Портрет «ненадёжного» клиента"
   ]
  },
  {
   "cell_type": "markdown",
   "metadata": {},
   "source": [
    "\"Ненадежный клиент\" - клиент, который отменяет заказ, значит нам интересен признак \"is_canceled\". Рассмотрим его корреляцию с остальными признаками, тогда узнаем, что больше всего характеризует такого клиента."
   ]
  },
  {
   "cell_type": "code",
   "execution_count": 22,
   "metadata": {},
   "outputs": [
    {
     "data": {
      "text/plain": [
       "is_canceled                       1.000000\n",
       "lead_time                         0.328142\n",
       "previous_cancellations            0.153023\n",
       "days_in_waiting_list              0.075848\n",
       "adults                            0.045153\n",
       "arrival_date_week_number          0.012869\n",
       "stays_in_week_nights              0.010650\n",
       "total_nights                      0.001542\n",
       "arrival_date_day_of_month        -0.001903\n",
       "stays_in_weekend_nights          -0.013767\n",
       "children                         -0.017746\n",
       "babies                           -0.029589\n",
       "arrival_date_year                -0.030835\n",
       "is_repeated_guest                -0.040242\n",
       "previous_bookings_not_canceled   -0.045557\n",
       "booking_changes                  -0.142935\n",
       "required_car_parking_spaces      -0.186486\n",
       "id                               -0.241910\n",
       "total_of_special_requests        -0.257061\n",
       "Name: is_canceled, dtype: float64"
      ]
     },
     "execution_count": 22,
     "metadata": {},
     "output_type": "execute_result"
    }
   ],
   "source": [
    "data_train.corr()['is_canceled'].sort_values(ascending=False)"
   ]
  },
  {
   "cell_type": "markdown",
   "metadata": {},
   "source": [
    "<b>Вывод</b>\n",
    "\n",
    "Исходя из корреляции, можно сказать, что вероятность отмены заказа клиентом прямо пропорцианально зависит от количества дней между датой бронирования и датой прибытия, и количества отменённых заказов. Зависит обратно пропорцианально от количества изменений параметров заказа, необходимости места для автомобиля и количества специальных отметок.\n",
    "\n",
    "То есть ненадежный клиент для бизнеса тот, который имеет много времени между датой бронирования и прибытием  и имеет немалое количество уже отмененных заказов. Также ненадежные клиенты меньше вносят изменений в параметры заказа, меньше добавляют специальных отметок к заказу и у них немного меньше необходимость в месте для автомобиля."
   ]
  },
  {
   "cell_type": "markdown",
   "metadata": {
    "tags": []
   },
   "source": [
    "### Общий вывод"
   ]
  },
  {
   "cell_type": "markdown",
   "metadata": {},
   "source": [
    "Исходя из проделанного исследования, можно сказать что модель логистической регрессии наиболее подходящая для данной задачи: эта модель показывает довольно высокую точность (судя по метрике F1-меры) и высокое качество (судя по метрике AUC-ROC). Кроме того, такая модель, вместе с введением системы депозитов, может увеличить прибыль исследуемого бизнеса примерно на 8-10%.\n",
    "\n",
    "Бизнесу следует учесть, что вероятность отмены заказа клиентом зависит прямо пропорцианально от количества дней между датой бронирования и датой прибытия, и от количества отменённых заказов; и обратно пропорцианально от количества изменений параметров заказа, от необходимости места для автомобиля и от количества специальных отметок. И как-то обратить внимание на эти факторы для уменьшения количества отменяемых заказов."
   ]
  }
 ],
 "metadata": {
  "ExecuteTimeLog": [
   {
    "duration": 458,
    "start_time": "2022-03-25T09:44:08.000Z"
   },
   {
    "duration": 256,
    "start_time": "2022-03-25T09:44:27.663Z"
   },
   {
    "duration": 285,
    "start_time": "2022-03-25T09:48:38.801Z"
   },
   {
    "duration": 50,
    "start_time": "2022-03-26T07:42:51.092Z"
   },
   {
    "duration": 433,
    "start_time": "2022-03-26T07:42:53.721Z"
   },
   {
    "duration": 1009,
    "start_time": "2022-03-26T07:42:54.156Z"
   },
   {
    "duration": 5,
    "start_time": "2022-03-26T07:44:12.840Z"
   },
   {
    "duration": 7,
    "start_time": "2022-03-26T07:44:23.288Z"
   },
   {
    "duration": 4,
    "start_time": "2022-03-26T07:44:46.946Z"
   },
   {
    "duration": 4,
    "start_time": "2022-03-26T07:45:14.460Z"
   },
   {
    "duration": 5,
    "start_time": "2022-03-26T07:45:33.774Z"
   },
   {
    "duration": 9,
    "start_time": "2022-03-26T07:46:30.971Z"
   },
   {
    "duration": 3,
    "start_time": "2022-03-26T07:51:15.747Z"
   },
   {
    "duration": 195,
    "start_time": "2022-03-26T07:51:16.484Z"
   },
   {
    "duration": 8,
    "start_time": "2022-03-26T07:52:31.992Z"
   },
   {
    "duration": 7,
    "start_time": "2022-03-26T07:56:10.545Z"
   },
   {
    "duration": 5,
    "start_time": "2022-03-26T08:01:58.729Z"
   },
   {
    "duration": 4,
    "start_time": "2022-03-26T08:02:24.740Z"
   },
   {
    "duration": 6,
    "start_time": "2022-03-26T08:06:47.065Z"
   },
   {
    "duration": 11,
    "start_time": "2022-03-26T08:06:56.606Z"
   },
   {
    "duration": 28,
    "start_time": "2022-03-26T08:18:45.863Z"
   },
   {
    "duration": 5,
    "start_time": "2022-03-26T08:19:01.663Z"
   },
   {
    "duration": 5,
    "start_time": "2022-03-26T08:19:13.518Z"
   },
   {
    "duration": 65,
    "start_time": "2022-03-26T08:21:59.350Z"
   },
   {
    "duration": 6,
    "start_time": "2022-03-26T08:33:19.680Z"
   },
   {
    "duration": 4,
    "start_time": "2022-03-26T08:41:16.480Z"
   },
   {
    "duration": 4,
    "start_time": "2022-03-26T08:41:32.950Z"
   },
   {
    "duration": 4,
    "start_time": "2022-03-26T08:42:04.009Z"
   },
   {
    "duration": 4,
    "start_time": "2022-03-26T08:42:17.530Z"
   },
   {
    "duration": 4,
    "start_time": "2022-03-26T08:43:21.647Z"
   },
   {
    "duration": 4,
    "start_time": "2022-03-26T08:43:41.963Z"
   },
   {
    "duration": 4,
    "start_time": "2022-03-26T08:52:44.189Z"
   },
   {
    "duration": 366,
    "start_time": "2022-03-27T02:01:10.083Z"
   },
   {
    "duration": 194,
    "start_time": "2022-03-27T02:01:10.451Z"
   },
   {
    "duration": 4,
    "start_time": "2022-03-27T02:01:10.649Z"
   },
   {
    "duration": 79,
    "start_time": "2022-03-27T02:01:10.655Z"
   },
   {
    "duration": 64,
    "start_time": "2022-03-27T02:01:10.736Z"
   },
   {
    "duration": 8,
    "start_time": "2022-03-27T02:01:28.535Z"
   },
   {
    "duration": 5,
    "start_time": "2022-03-27T02:16:09.165Z"
   },
   {
    "duration": 7,
    "start_time": "2022-03-27T02:17:51.566Z"
   },
   {
    "duration": 4,
    "start_time": "2022-03-27T02:32:15.285Z"
   },
   {
    "duration": 7,
    "start_time": "2022-03-27T02:35:57.119Z"
   },
   {
    "duration": 5,
    "start_time": "2022-03-27T02:36:52.046Z"
   },
   {
    "duration": 7,
    "start_time": "2022-03-27T02:37:31.584Z"
   },
   {
    "duration": 4,
    "start_time": "2022-03-27T02:38:11.367Z"
   },
   {
    "duration": 5,
    "start_time": "2022-03-27T02:41:06.040Z"
   },
   {
    "duration": 186,
    "start_time": "2022-03-27T02:41:32.576Z"
   },
   {
    "duration": 303,
    "start_time": "2022-03-27T02:45:36.169Z"
   },
   {
    "duration": 384,
    "start_time": "2022-03-27T02:49:47.314Z"
   },
   {
    "duration": 784,
    "start_time": "2022-03-27T08:12:47.117Z"
   },
   {
    "duration": 288,
    "start_time": "2022-03-27T08:12:47.902Z"
   },
   {
    "duration": 66,
    "start_time": "2022-03-27T08:12:48.192Z"
   },
   {
    "duration": 77,
    "start_time": "2022-03-27T08:12:48.260Z"
   },
   {
    "duration": 0,
    "start_time": "2022-03-27T08:12:48.338Z"
   },
   {
    "duration": 7,
    "start_time": "2022-03-27T08:21:49.731Z"
   },
   {
    "duration": 3,
    "start_time": "2022-03-27T08:21:52.715Z"
   },
   {
    "duration": 4,
    "start_time": "2022-03-27T08:21:53.146Z"
   },
   {
    "duration": 12,
    "start_time": "2022-03-27T08:23:23.050Z"
   },
   {
    "duration": 10,
    "start_time": "2022-03-27T08:24:48.251Z"
   },
   {
    "duration": 31,
    "start_time": "2022-03-27T08:28:35.001Z"
   },
   {
    "duration": 20,
    "start_time": "2022-03-27T08:29:04.452Z"
   },
   {
    "duration": 18,
    "start_time": "2022-03-27T08:29:12.970Z"
   },
   {
    "duration": 27,
    "start_time": "2022-03-27T08:29:19.937Z"
   },
   {
    "duration": 3,
    "start_time": "2022-03-27T08:30:05.642Z"
   },
   {
    "duration": 20,
    "start_time": "2022-03-27T08:30:14.073Z"
   },
   {
    "duration": 26,
    "start_time": "2022-03-27T08:30:15.505Z"
   },
   {
    "duration": 14,
    "start_time": "2022-03-27T08:31:43.337Z"
   },
   {
    "duration": 45,
    "start_time": "2022-03-27T12:54:48.830Z"
   },
   {
    "duration": 764,
    "start_time": "2022-03-27T12:54:54.651Z"
   },
   {
    "duration": 299,
    "start_time": "2022-03-27T12:54:55.417Z"
   },
   {
    "duration": 54,
    "start_time": "2022-03-27T12:54:55.717Z"
   },
   {
    "duration": 4,
    "start_time": "2022-03-27T12:54:55.772Z"
   },
   {
    "duration": 226,
    "start_time": "2022-03-27T12:54:55.778Z"
   },
   {
    "duration": 26,
    "start_time": "2022-03-27T12:54:56.006Z"
   },
   {
    "duration": 57,
    "start_time": "2022-03-27T12:55:10.031Z"
   },
   {
    "duration": 2980,
    "start_time": "2022-03-27T12:57:41.831Z"
   },
   {
    "duration": 2604,
    "start_time": "2022-03-27T12:58:04.404Z"
   },
   {
    "duration": 3,
    "start_time": "2022-03-27T12:58:12.023Z"
   },
   {
    "duration": 4,
    "start_time": "2022-03-27T12:58:14.638Z"
   },
   {
    "duration": 28,
    "start_time": "2022-03-27T12:58:29.431Z"
   },
   {
    "duration": 28,
    "start_time": "2022-03-27T12:58:49.510Z"
   },
   {
    "duration": 20,
    "start_time": "2022-03-27T12:58:57.550Z"
   },
   {
    "duration": 11,
    "start_time": "2022-03-27T12:59:08.982Z"
   },
   {
    "duration": 19,
    "start_time": "2022-03-27T12:59:14.655Z"
   },
   {
    "duration": 19,
    "start_time": "2022-03-27T12:59:20.839Z"
   },
   {
    "duration": 10,
    "start_time": "2022-03-27T13:00:35.895Z"
   },
   {
    "duration": 4,
    "start_time": "2022-03-27T13:00:45.583Z"
   },
   {
    "duration": 20,
    "start_time": "2022-03-27T13:01:32.879Z"
   },
   {
    "duration": 661,
    "start_time": "2022-03-27T13:03:33.044Z"
   },
   {
    "duration": 23,
    "start_time": "2022-03-27T13:04:22.166Z"
   },
   {
    "duration": 20,
    "start_time": "2022-03-27T13:04:44.702Z"
   },
   {
    "duration": 333,
    "start_time": "2022-03-27T13:05:33.575Z"
   },
   {
    "duration": 312,
    "start_time": "2022-03-27T13:05:41.495Z"
   },
   {
    "duration": 5,
    "start_time": "2022-03-27T13:05:57.279Z"
   },
   {
    "duration": 6,
    "start_time": "2022-03-27T13:06:01.662Z"
   },
   {
    "duration": 268,
    "start_time": "2022-03-27T13:06:37.720Z"
   },
   {
    "duration": 610,
    "start_time": "2022-03-27T13:06:52.296Z"
   },
   {
    "duration": 852,
    "start_time": "2022-03-27T13:07:10.839Z"
   },
   {
    "duration": 584,
    "start_time": "2022-03-27T13:07:26.591Z"
   },
   {
    "duration": 701,
    "start_time": "2022-03-27T13:08:17.892Z"
   },
   {
    "duration": 287,
    "start_time": "2022-03-27T13:08:18.595Z"
   },
   {
    "duration": 73,
    "start_time": "2022-03-27T13:08:18.884Z"
   },
   {
    "duration": 9,
    "start_time": "2022-03-27T13:08:18.960Z"
   },
   {
    "duration": 205,
    "start_time": "2022-03-27T13:08:18.971Z"
   },
   {
    "duration": 59,
    "start_time": "2022-03-27T13:08:19.178Z"
   },
   {
    "duration": 18,
    "start_time": "2022-03-27T13:08:19.239Z"
   },
   {
    "duration": 8,
    "start_time": "2022-03-27T13:08:19.258Z"
   },
   {
    "duration": 1291,
    "start_time": "2022-03-27T13:08:19.267Z"
   },
   {
    "duration": 1148,
    "start_time": "2022-03-27T13:09:26.147Z"
   },
   {
    "duration": 19,
    "start_time": "2022-03-27T13:18:03.576Z"
   },
   {
    "duration": 177,
    "start_time": "2022-03-27T13:21:14.227Z"
   },
   {
    "duration": 15,
    "start_time": "2022-03-27T13:22:38.789Z"
   },
   {
    "duration": 1224,
    "start_time": "2022-03-27T13:23:14.708Z"
   },
   {
    "duration": 131,
    "start_time": "2022-03-27T13:27:10.052Z"
   },
   {
    "duration": 137,
    "start_time": "2022-03-27T13:28:01.308Z"
   },
   {
    "duration": 143,
    "start_time": "2022-03-27T13:29:02.787Z"
   },
   {
    "duration": 1140,
    "start_time": "2022-03-27T13:29:27.989Z"
   },
   {
    "duration": 1231,
    "start_time": "2022-03-27T13:29:37.236Z"
   },
   {
    "duration": 1127,
    "start_time": "2022-03-27T13:29:47.179Z"
   },
   {
    "duration": 1101,
    "start_time": "2022-03-27T13:33:24.571Z"
   },
   {
    "duration": 1236,
    "start_time": "2022-03-27T13:33:52.053Z"
   },
   {
    "duration": 1224,
    "start_time": "2022-03-27T13:34:11.028Z"
   },
   {
    "duration": 1307,
    "start_time": "2022-03-27T13:34:21.700Z"
   },
   {
    "duration": 172,
    "start_time": "2022-03-27T13:34:51.965Z"
   },
   {
    "duration": 1800,
    "start_time": "2022-03-27T13:34:57.203Z"
   },
   {
    "duration": 1185,
    "start_time": "2022-03-27T13:37:50.016Z"
   },
   {
    "duration": 18,
    "start_time": "2022-03-27T13:49:08.592Z"
   },
   {
    "duration": 9,
    "start_time": "2022-03-27T13:49:24.380Z"
   },
   {
    "duration": 1541,
    "start_time": "2022-03-27T15:13:57.880Z"
   },
   {
    "duration": 882,
    "start_time": "2022-03-27T15:13:59.425Z"
   },
   {
    "duration": 105,
    "start_time": "2022-03-27T15:14:00.309Z"
   },
   {
    "duration": 5,
    "start_time": "2022-03-27T15:14:00.417Z"
   },
   {
    "duration": 328,
    "start_time": "2022-03-27T15:14:00.425Z"
   },
   {
    "duration": 94,
    "start_time": "2022-03-27T15:14:00.756Z"
   },
   {
    "duration": 167,
    "start_time": "2022-03-27T15:14:00.853Z"
   },
   {
    "duration": 0,
    "start_time": "2022-03-27T15:14:01.024Z"
   },
   {
    "duration": 0,
    "start_time": "2022-03-27T15:14:01.026Z"
   },
   {
    "duration": 0,
    "start_time": "2022-03-27T15:14:01.028Z"
   },
   {
    "duration": 24,
    "start_time": "2022-03-27T15:14:19.239Z"
   },
   {
    "duration": 39,
    "start_time": "2022-03-27T15:14:58.945Z"
   },
   {
    "duration": 7,
    "start_time": "2022-03-27T15:15:00.161Z"
   },
   {
    "duration": 2109,
    "start_time": "2022-03-27T15:15:27.744Z"
   },
   {
    "duration": 1100,
    "start_time": "2022-03-27T18:59:10.946Z"
   },
   {
    "duration": 400,
    "start_time": "2022-03-27T18:59:12.049Z"
   },
   {
    "duration": 95,
    "start_time": "2022-03-27T18:59:12.452Z"
   },
   {
    "duration": 4,
    "start_time": "2022-03-27T18:59:12.550Z"
   },
   {
    "duration": 312,
    "start_time": "2022-03-27T18:59:12.556Z"
   },
   {
    "duration": 88,
    "start_time": "2022-03-27T18:59:12.870Z"
   },
   {
    "duration": 17,
    "start_time": "2022-03-27T18:59:12.973Z"
   },
   {
    "duration": 30,
    "start_time": "2022-03-27T18:59:12.993Z"
   },
   {
    "duration": 8,
    "start_time": "2022-03-27T18:59:13.026Z"
   },
   {
    "duration": 2123,
    "start_time": "2022-03-27T18:59:13.075Z"
   },
   {
    "duration": 13,
    "start_time": "2022-03-27T19:19:45.167Z"
   },
   {
    "duration": 8,
    "start_time": "2022-03-27T19:19:54.604Z"
   },
   {
    "duration": 8,
    "start_time": "2022-03-27T19:20:04.208Z"
   },
   {
    "duration": 7,
    "start_time": "2022-03-27T19:20:14.206Z"
   },
   {
    "duration": 8,
    "start_time": "2022-03-27T19:21:13.334Z"
   },
   {
    "duration": 12,
    "start_time": "2022-03-27T19:23:20.008Z"
   },
   {
    "duration": 12,
    "start_time": "2022-03-27T19:23:26.469Z"
   },
   {
    "duration": 12,
    "start_time": "2022-03-27T19:23:31.040Z"
   },
   {
    "duration": 971,
    "start_time": "2022-03-27T19:32:14.917Z"
   },
   {
    "duration": 419,
    "start_time": "2022-03-27T19:32:15.891Z"
   },
   {
    "duration": 111,
    "start_time": "2022-03-27T19:32:16.312Z"
   },
   {
    "duration": 7,
    "start_time": "2022-03-27T19:32:16.425Z"
   },
   {
    "duration": 328,
    "start_time": "2022-03-27T19:32:16.437Z"
   },
   {
    "duration": 95,
    "start_time": "2022-03-27T19:32:16.767Z"
   },
   {
    "duration": 21,
    "start_time": "2022-03-27T19:32:16.875Z"
   },
   {
    "duration": 42,
    "start_time": "2022-03-27T19:32:16.898Z"
   },
   {
    "duration": 31,
    "start_time": "2022-03-27T19:32:16.943Z"
   },
   {
    "duration": 2687,
    "start_time": "2022-03-27T19:32:16.977Z"
   },
   {
    "duration": 26,
    "start_time": "2022-03-27T19:32:19.675Z"
   },
   {
    "duration": 13,
    "start_time": "2022-03-27T19:32:19.703Z"
   },
   {
    "duration": 20,
    "start_time": "2022-03-27T19:33:51.013Z"
   },
   {
    "duration": 21,
    "start_time": "2022-03-27T19:34:11.957Z"
   },
   {
    "duration": 16,
    "start_time": "2022-03-27T19:35:25.333Z"
   },
   {
    "duration": 784,
    "start_time": "2022-03-28T07:36:00.401Z"
   },
   {
    "duration": 315,
    "start_time": "2022-03-28T07:36:01.188Z"
   },
   {
    "duration": 102,
    "start_time": "2022-03-28T07:36:01.505Z"
   },
   {
    "duration": 4,
    "start_time": "2022-03-28T07:36:01.610Z"
   },
   {
    "duration": 383,
    "start_time": "2022-03-28T07:36:01.616Z"
   },
   {
    "duration": 90,
    "start_time": "2022-03-28T07:36:02.001Z"
   },
   {
    "duration": 15,
    "start_time": "2022-03-28T07:36:02.093Z"
   },
   {
    "duration": 29,
    "start_time": "2022-03-28T07:36:02.110Z"
   },
   {
    "duration": 24,
    "start_time": "2022-03-28T07:36:02.141Z"
   },
   {
    "duration": 1261,
    "start_time": "2022-03-28T07:36:02.168Z"
   },
   {
    "duration": 13,
    "start_time": "2022-03-28T07:36:03.431Z"
   },
   {
    "duration": 597,
    "start_time": "2022-03-28T07:52:13.480Z"
   },
   {
    "duration": 266,
    "start_time": "2022-03-28T07:52:14.079Z"
   },
   {
    "duration": 62,
    "start_time": "2022-03-28T07:52:14.347Z"
   },
   {
    "duration": 4,
    "start_time": "2022-03-28T07:52:14.410Z"
   },
   {
    "duration": 202,
    "start_time": "2022-03-28T07:52:14.416Z"
   },
   {
    "duration": 63,
    "start_time": "2022-03-28T07:52:14.620Z"
   },
   {
    "duration": 13,
    "start_time": "2022-03-28T07:52:14.685Z"
   },
   {
    "duration": 20,
    "start_time": "2022-03-28T07:52:14.700Z"
   },
   {
    "duration": 5,
    "start_time": "2022-03-28T07:52:14.722Z"
   },
   {
    "duration": 1237,
    "start_time": "2022-03-28T07:52:14.729Z"
   },
   {
    "duration": 9,
    "start_time": "2022-03-28T07:52:15.968Z"
   },
   {
    "duration": 13,
    "start_time": "2022-03-28T08:24:13.259Z"
   },
   {
    "duration": 1269,
    "start_time": "2022-03-28T08:24:36.450Z"
   },
   {
    "duration": 1859,
    "start_time": "2022-03-28T08:24:52.765Z"
   },
   {
    "duration": 1325,
    "start_time": "2022-03-28T08:25:11.878Z"
   },
   {
    "duration": 1253,
    "start_time": "2022-03-28T08:26:18.650Z"
   },
   {
    "duration": 807,
    "start_time": "2022-03-28T15:17:27.820Z"
   },
   {
    "duration": 298,
    "start_time": "2022-03-28T15:17:28.629Z"
   },
   {
    "duration": 71,
    "start_time": "2022-03-28T15:17:28.932Z"
   },
   {
    "duration": 4,
    "start_time": "2022-03-28T15:17:29.004Z"
   },
   {
    "duration": 215,
    "start_time": "2022-03-28T15:17:29.009Z"
   },
   {
    "duration": 67,
    "start_time": "2022-03-28T15:17:29.226Z"
   },
   {
    "duration": 14,
    "start_time": "2022-03-28T15:17:29.295Z"
   },
   {
    "duration": 36,
    "start_time": "2022-03-28T15:17:29.311Z"
   },
   {
    "duration": 5,
    "start_time": "2022-03-28T15:17:29.350Z"
   },
   {
    "duration": 1909,
    "start_time": "2022-03-28T15:17:29.357Z"
   },
   {
    "duration": 21,
    "start_time": "2022-03-28T15:17:31.268Z"
   },
   {
    "duration": 9,
    "start_time": "2022-03-28T15:50:44.650Z"
   },
   {
    "duration": 11,
    "start_time": "2022-03-28T15:50:52.641Z"
   },
   {
    "duration": 864,
    "start_time": "2022-03-29T21:30:25.134Z"
   },
   {
    "duration": 336,
    "start_time": "2022-03-29T21:30:26.001Z"
   },
   {
    "duration": 59,
    "start_time": "2022-03-29T21:30:26.339Z"
   },
   {
    "duration": 3,
    "start_time": "2022-03-29T21:30:26.400Z"
   },
   {
    "duration": 243,
    "start_time": "2022-03-29T21:30:26.405Z"
   },
   {
    "duration": 62,
    "start_time": "2022-03-29T21:30:26.650Z"
   },
   {
    "duration": 24,
    "start_time": "2022-03-29T21:30:26.714Z"
   },
   {
    "duration": 21,
    "start_time": "2022-03-29T21:30:26.739Z"
   },
   {
    "duration": 5,
    "start_time": "2022-03-29T21:30:26.762Z"
   },
   {
    "duration": 1509,
    "start_time": "2022-03-29T21:30:26.769Z"
   },
   {
    "duration": 12,
    "start_time": "2022-03-29T21:30:28.280Z"
   },
   {
    "duration": 859,
    "start_time": "2022-03-30T14:10:50.674Z"
   },
   {
    "duration": 304,
    "start_time": "2022-03-30T14:10:51.536Z"
   },
   {
    "duration": 61,
    "start_time": "2022-03-30T14:10:51.842Z"
   },
   {
    "duration": 4,
    "start_time": "2022-03-30T14:10:51.905Z"
   },
   {
    "duration": 222,
    "start_time": "2022-03-30T14:10:51.910Z"
   },
   {
    "duration": 57,
    "start_time": "2022-03-30T14:10:52.133Z"
   },
   {
    "duration": 20,
    "start_time": "2022-03-30T14:10:52.191Z"
   },
   {
    "duration": 30,
    "start_time": "2022-03-30T14:10:52.212Z"
   },
   {
    "duration": 4,
    "start_time": "2022-03-30T14:10:52.244Z"
   },
   {
    "duration": 1470,
    "start_time": "2022-03-30T14:10:52.251Z"
   },
   {
    "duration": 10,
    "start_time": "2022-03-30T14:10:53.722Z"
   },
   {
    "duration": 10,
    "start_time": "2022-03-30T14:53:19.447Z"
   },
   {
    "duration": 13,
    "start_time": "2022-03-30T14:53:26.774Z"
   },
   {
    "duration": 491,
    "start_time": "2022-03-30T15:53:40.891Z"
   },
   {
    "duration": 1144,
    "start_time": "2022-03-30T15:55:56.821Z"
   },
   {
    "duration": 315,
    "start_time": "2022-03-30T15:55:57.967Z"
   },
   {
    "duration": 64,
    "start_time": "2022-03-30T15:55:58.283Z"
   },
   {
    "duration": 4,
    "start_time": "2022-03-30T15:55:58.350Z"
   },
   {
    "duration": 226,
    "start_time": "2022-03-30T15:55:58.356Z"
   },
   {
    "duration": 62,
    "start_time": "2022-03-30T15:55:58.584Z"
   },
   {
    "duration": 13,
    "start_time": "2022-03-30T15:55:58.648Z"
   },
   {
    "duration": 41,
    "start_time": "2022-03-30T15:55:58.663Z"
   },
   {
    "duration": 5,
    "start_time": "2022-03-30T15:55:58.705Z"
   },
   {
    "duration": 1315,
    "start_time": "2022-03-30T15:55:58.712Z"
   },
   {
    "duration": 14,
    "start_time": "2022-03-30T15:56:00.030Z"
   },
   {
    "duration": 3,
    "start_time": "2022-03-30T15:56:00.046Z"
   },
   {
    "duration": 165,
    "start_time": "2022-03-30T15:57:26.876Z"
   },
   {
    "duration": 44,
    "start_time": "2022-03-30T15:57:30.978Z"
   },
   {
    "duration": 1247,
    "start_time": "2022-03-30T15:57:42.249Z"
   },
   {
    "duration": 5,
    "start_time": "2022-03-30T15:57:47.707Z"
   },
   {
    "duration": 4,
    "start_time": "2022-03-30T15:57:51.224Z"
   },
   {
    "duration": 64,
    "start_time": "2022-03-30T15:58:17.641Z"
   },
   {
    "duration": 314,
    "start_time": "2022-03-30T15:58:22.259Z"
   },
   {
    "duration": 1287,
    "start_time": "2022-03-30T16:54:13.517Z"
   },
   {
    "duration": 333,
    "start_time": "2022-03-30T16:54:14.806Z"
   },
   {
    "duration": 67,
    "start_time": "2022-03-30T16:54:15.141Z"
   },
   {
    "duration": 3,
    "start_time": "2022-03-30T16:54:15.210Z"
   },
   {
    "duration": 233,
    "start_time": "2022-03-30T16:54:15.215Z"
   },
   {
    "duration": 70,
    "start_time": "2022-03-30T16:54:15.450Z"
   },
   {
    "duration": 11,
    "start_time": "2022-03-30T16:54:15.522Z"
   },
   {
    "duration": 20,
    "start_time": "2022-03-30T16:54:15.535Z"
   },
   {
    "duration": 6,
    "start_time": "2022-03-30T16:54:15.557Z"
   },
   {
    "duration": 1511,
    "start_time": "2022-03-30T16:54:15.566Z"
   },
   {
    "duration": 29,
    "start_time": "2022-03-30T16:54:17.079Z"
   },
   {
    "duration": 1227,
    "start_time": "2022-03-30T18:00:49.305Z"
   },
   {
    "duration": 297,
    "start_time": "2022-03-30T18:00:50.534Z"
   },
   {
    "duration": 67,
    "start_time": "2022-03-30T18:00:50.832Z"
   },
   {
    "duration": 3,
    "start_time": "2022-03-30T18:00:50.901Z"
   },
   {
    "duration": 204,
    "start_time": "2022-03-30T18:00:50.905Z"
   },
   {
    "duration": 60,
    "start_time": "2022-03-30T18:00:51.111Z"
   },
   {
    "duration": 12,
    "start_time": "2022-03-30T18:00:51.173Z"
   },
   {
    "duration": 19,
    "start_time": "2022-03-30T18:00:51.186Z"
   },
   {
    "duration": 5,
    "start_time": "2022-03-30T18:00:51.207Z"
   },
   {
    "duration": 1263,
    "start_time": "2022-03-30T18:00:51.214Z"
   },
   {
    "duration": 13,
    "start_time": "2022-03-30T18:00:52.479Z"
   },
   {
    "duration": 100,
    "start_time": "2022-03-30T18:00:52.493Z"
   },
   {
    "duration": 46,
    "start_time": "2022-03-30T22:38:55.261Z"
   },
   {
    "duration": 1468,
    "start_time": "2022-03-30T22:39:04.101Z"
   },
   {
    "duration": 318,
    "start_time": "2022-03-30T22:39:05.571Z"
   },
   {
    "duration": 67,
    "start_time": "2022-03-30T22:39:05.890Z"
   },
   {
    "duration": 4,
    "start_time": "2022-03-30T22:39:05.959Z"
   },
   {
    "duration": 243,
    "start_time": "2022-03-30T22:39:05.964Z"
   },
   {
    "duration": 59,
    "start_time": "2022-03-30T22:39:06.209Z"
   },
   {
    "duration": 10,
    "start_time": "2022-03-30T22:39:06.269Z"
   },
   {
    "duration": 35,
    "start_time": "2022-03-30T22:39:06.281Z"
   },
   {
    "duration": 5,
    "start_time": "2022-03-30T22:39:06.317Z"
   },
   {
    "duration": 1370,
    "start_time": "2022-03-30T22:39:06.324Z"
   },
   {
    "duration": 10,
    "start_time": "2022-03-30T22:39:07.701Z"
   },
   {
    "duration": 10,
    "start_time": "2022-03-30T22:39:22.242Z"
   },
   {
    "duration": 11,
    "start_time": "2022-03-30T22:39:25.412Z"
   },
   {
    "duration": 11,
    "start_time": "2022-03-30T22:39:29.941Z"
   },
   {
    "duration": 10,
    "start_time": "2022-03-30T22:39:44.317Z"
   },
   {
    "duration": 9,
    "start_time": "2022-03-30T22:39:54.355Z"
   },
   {
    "duration": 9,
    "start_time": "2022-03-30T22:40:02.079Z"
   },
   {
    "duration": 1796,
    "start_time": "2022-03-31T19:41:35.278Z"
   },
   {
    "duration": 435,
    "start_time": "2022-03-31T19:41:37.077Z"
   },
   {
    "duration": 111,
    "start_time": "2022-03-31T19:41:37.515Z"
   },
   {
    "duration": 6,
    "start_time": "2022-03-31T19:41:37.630Z"
   },
   {
    "duration": 315,
    "start_time": "2022-03-31T19:41:37.639Z"
   },
   {
    "duration": 102,
    "start_time": "2022-03-31T19:41:37.957Z"
   },
   {
    "duration": 32,
    "start_time": "2022-03-31T19:41:38.061Z"
   },
   {
    "duration": 25,
    "start_time": "2022-03-31T19:41:38.095Z"
   },
   {
    "duration": 7,
    "start_time": "2022-03-31T19:41:38.122Z"
   },
   {
    "duration": 2454,
    "start_time": "2022-03-31T19:41:38.132Z"
   },
   {
    "duration": 14,
    "start_time": "2022-03-31T19:41:40.589Z"
   },
   {
    "duration": 140,
    "start_time": "2022-03-31T19:53:09.434Z"
   },
   {
    "duration": 11,
    "start_time": "2022-03-31T19:53:20.049Z"
   },
   {
    "duration": 10,
    "start_time": "2022-03-31T19:55:52.125Z"
   },
   {
    "duration": 198,
    "start_time": "2022-03-31T20:03:19.014Z"
   },
   {
    "duration": 7,
    "start_time": "2022-03-31T20:03:28.971Z"
   },
   {
    "duration": 25,
    "start_time": "2022-03-31T20:11:17.104Z"
   },
   {
    "duration": 7,
    "start_time": "2022-03-31T20:12:18.859Z"
   },
   {
    "duration": 19658,
    "start_time": "2022-03-31T20:12:19.490Z"
   },
   {
    "duration": 2412,
    "start_time": "2022-03-31T21:12:20.306Z"
   },
   {
    "duration": 30,
    "start_time": "2022-03-31T21:33:50.531Z"
   },
   {
    "duration": 27,
    "start_time": "2022-03-31T21:34:08.266Z"
   },
   {
    "duration": 20,
    "start_time": "2022-03-31T21:43:48.076Z"
   },
   {
    "duration": 1739,
    "start_time": "2022-04-01T09:47:41.182Z"
   },
   {
    "duration": 464,
    "start_time": "2022-04-01T09:47:42.924Z"
   },
   {
    "duration": 109,
    "start_time": "2022-04-01T09:47:43.390Z"
   },
   {
    "duration": 5,
    "start_time": "2022-04-01T09:47:43.502Z"
   },
   {
    "duration": 349,
    "start_time": "2022-04-01T09:47:43.509Z"
   },
   {
    "duration": 96,
    "start_time": "2022-04-01T09:47:43.861Z"
   },
   {
    "duration": 23,
    "start_time": "2022-04-01T09:47:43.964Z"
   },
   {
    "duration": 28,
    "start_time": "2022-04-01T09:47:43.990Z"
   },
   {
    "duration": 30,
    "start_time": "2022-04-01T09:47:44.020Z"
   },
   {
    "duration": 25,
    "start_time": "2022-04-01T09:47:44.056Z"
   },
   {
    "duration": 2379,
    "start_time": "2022-04-01T09:47:44.084Z"
   },
   {
    "duration": 15,
    "start_time": "2022-04-01T09:47:46.466Z"
   },
   {
    "duration": 13,
    "start_time": "2022-04-01T09:47:46.483Z"
   },
   {
    "duration": 7,
    "start_time": "2022-04-01T09:47:46.498Z"
   },
   {
    "duration": 11004,
    "start_time": "2022-04-01T09:47:46.507Z"
   },
   {
    "duration": 1580,
    "start_time": "2022-04-01T12:41:42.961Z"
   },
   {
    "duration": 402,
    "start_time": "2022-04-01T12:41:44.543Z"
   },
   {
    "duration": 98,
    "start_time": "2022-04-01T12:41:44.947Z"
   },
   {
    "duration": 5,
    "start_time": "2022-04-01T12:41:45.049Z"
   },
   {
    "duration": 318,
    "start_time": "2022-04-01T12:41:45.057Z"
   },
   {
    "duration": 93,
    "start_time": "2022-04-01T12:41:45.378Z"
   },
   {
    "duration": 18,
    "start_time": "2022-04-01T12:41:45.482Z"
   },
   {
    "duration": 25,
    "start_time": "2022-04-01T12:41:45.504Z"
   },
   {
    "duration": 7,
    "start_time": "2022-04-01T12:41:45.532Z"
   },
   {
    "duration": 59,
    "start_time": "2022-04-01T12:41:45.542Z"
   },
   {
    "duration": 2108,
    "start_time": "2022-04-01T12:41:45.603Z"
   },
   {
    "duration": 14,
    "start_time": "2022-04-01T12:41:47.713Z"
   },
   {
    "duration": 13,
    "start_time": "2022-04-01T12:41:47.729Z"
   },
   {
    "duration": 8,
    "start_time": "2022-04-01T12:41:47.744Z"
   },
   {
    "duration": 9196,
    "start_time": "2022-04-01T12:41:47.754Z"
   },
   {
    "duration": 1726,
    "start_time": "2022-04-01T18:26:40.513Z"
   },
   {
    "duration": 415,
    "start_time": "2022-04-01T18:26:42.242Z"
   },
   {
    "duration": 101,
    "start_time": "2022-04-01T18:26:42.667Z"
   },
   {
    "duration": 5,
    "start_time": "2022-04-01T18:26:42.771Z"
   },
   {
    "duration": 291,
    "start_time": "2022-04-01T18:26:42.778Z"
   },
   {
    "duration": 84,
    "start_time": "2022-04-01T18:26:43.072Z"
   },
   {
    "duration": 24,
    "start_time": "2022-04-01T18:26:43.158Z"
   },
   {
    "duration": 29,
    "start_time": "2022-04-01T18:26:43.185Z"
   },
   {
    "duration": 7,
    "start_time": "2022-04-01T18:26:43.216Z"
   },
   {
    "duration": 61,
    "start_time": "2022-04-01T18:26:43.226Z"
   },
   {
    "duration": 2188,
    "start_time": "2022-04-01T18:26:43.289Z"
   },
   {
    "duration": 14,
    "start_time": "2022-04-01T18:26:45.479Z"
   },
   {
    "duration": 10,
    "start_time": "2022-04-01T18:26:45.495Z"
   },
   {
    "duration": 8,
    "start_time": "2022-04-01T18:26:45.507Z"
   },
   {
    "duration": 8805,
    "start_time": "2022-04-01T18:26:45.517Z"
   },
   {
    "duration": 53,
    "start_time": "2022-04-01T18:58:05.793Z"
   },
   {
    "duration": 14,
    "start_time": "2022-04-01T18:58:38.103Z"
   },
   {
    "duration": 21,
    "start_time": "2022-04-01T18:58:42.662Z"
   },
   {
    "duration": 1351,
    "start_time": "2022-04-01T18:59:51.387Z"
   },
   {
    "duration": 407,
    "start_time": "2022-04-01T18:59:52.741Z"
   },
   {
    "duration": 83,
    "start_time": "2022-04-01T18:59:56.881Z"
   },
   {
    "duration": 5,
    "start_time": "2022-04-01T18:59:58.407Z"
   },
   {
    "duration": 315,
    "start_time": "2022-04-01T19:00:01.905Z"
   },
   {
    "duration": 96,
    "start_time": "2022-04-01T19:00:05.536Z"
   },
   {
    "duration": 24,
    "start_time": "2022-04-01T19:00:07.357Z"
   },
   {
    "duration": 38,
    "start_time": "2022-04-01T19:00:14.277Z"
   },
   {
    "duration": 7,
    "start_time": "2022-04-01T19:00:20.847Z"
   },
   {
    "duration": 23,
    "start_time": "2022-04-01T19:00:21.531Z"
   },
   {
    "duration": 2151,
    "start_time": "2022-04-01T19:00:29.887Z"
   },
   {
    "duration": 17,
    "start_time": "2022-04-01T19:00:35.859Z"
   },
   {
    "duration": 14,
    "start_time": "2022-04-01T19:01:42.388Z"
   },
   {
    "duration": 20,
    "start_time": "2022-04-01T19:01:54.189Z"
   },
   {
    "duration": 16,
    "start_time": "2022-04-01T19:02:08.118Z"
   },
   {
    "duration": 9,
    "start_time": "2022-04-01T19:05:22.781Z"
   },
   {
    "duration": 6,
    "start_time": "2022-04-01T19:05:33.806Z"
   },
   {
    "duration": 5,
    "start_time": "2022-04-01T19:05:48.004Z"
   },
   {
    "duration": 17,
    "start_time": "2022-04-01T20:46:55.075Z"
   },
   {
    "duration": 6,
    "start_time": "2022-04-01T20:47:13.795Z"
   },
   {
    "duration": 138,
    "start_time": "2022-04-01T20:47:20.071Z"
   },
   {
    "duration": 6,
    "start_time": "2022-04-01T20:47:22.597Z"
   },
   {
    "duration": 6,
    "start_time": "2022-04-01T20:49:27.905Z"
   },
   {
    "duration": 6,
    "start_time": "2022-04-01T20:49:43.284Z"
   },
   {
    "duration": 1977,
    "start_time": "2022-04-01T20:50:06.393Z"
   },
   {
    "duration": 6,
    "start_time": "2022-04-01T20:50:11.622Z"
   },
   {
    "duration": 15,
    "start_time": "2022-04-01T20:50:12.195Z"
   },
   {
    "duration": 15,
    "start_time": "2022-04-01T20:58:50.055Z"
   },
   {
    "duration": 15,
    "start_time": "2022-04-01T20:59:18.509Z"
   },
   {
    "duration": 15,
    "start_time": "2022-04-01T20:59:25.198Z"
   },
   {
    "duration": 15,
    "start_time": "2022-04-01T20:59:49.171Z"
   },
   {
    "duration": 15,
    "start_time": "2022-04-01T21:00:01.536Z"
   },
   {
    "duration": 13,
    "start_time": "2022-04-01T21:00:07.936Z"
   },
   {
    "duration": 12,
    "start_time": "2022-04-01T21:00:11.374Z"
   },
   {
    "duration": 16,
    "start_time": "2022-04-01T21:01:58.860Z"
   },
   {
    "duration": 14,
    "start_time": "2022-04-01T21:05:56.339Z"
   },
   {
    "duration": 12,
    "start_time": "2022-04-01T21:06:43.023Z"
   },
   {
    "duration": 13,
    "start_time": "2022-04-01T21:08:13.059Z"
   },
   {
    "duration": 10,
    "start_time": "2022-04-01T21:09:30.977Z"
   },
   {
    "duration": 6,
    "start_time": "2022-04-01T21:09:45.259Z"
   },
   {
    "duration": 6,
    "start_time": "2022-04-01T21:10:07.273Z"
   },
   {
    "duration": 12,
    "start_time": "2022-04-01T21:10:41.135Z"
   },
   {
    "duration": 12,
    "start_time": "2022-04-01T21:11:06.181Z"
   },
   {
    "duration": 13,
    "start_time": "2022-04-01T21:14:51.670Z"
   },
   {
    "duration": 13,
    "start_time": "2022-04-01T21:15:29.188Z"
   },
   {
    "duration": 11,
    "start_time": "2022-04-01T21:27:31.525Z"
   },
   {
    "duration": 11,
    "start_time": "2022-04-01T21:27:44.326Z"
   },
   {
    "duration": 10,
    "start_time": "2022-04-01T21:32:59.258Z"
   },
   {
    "duration": 5,
    "start_time": "2022-04-01T21:33:07.027Z"
   },
   {
    "duration": 11,
    "start_time": "2022-04-01T21:36:45.556Z"
   },
   {
    "duration": 17,
    "start_time": "2022-04-01T21:37:59.662Z"
   },
   {
    "duration": 17,
    "start_time": "2022-04-01T21:38:51.438Z"
   },
   {
    "duration": 6,
    "start_time": "2022-04-01T21:39:22.425Z"
   },
   {
    "duration": 6,
    "start_time": "2022-04-01T21:39:38.460Z"
   },
   {
    "duration": 4,
    "start_time": "2022-04-01T21:40:08.899Z"
   },
   {
    "duration": 1336,
    "start_time": "2022-04-01T21:40:52.888Z"
   },
   {
    "duration": 393,
    "start_time": "2022-04-01T21:40:54.227Z"
   },
   {
    "duration": 102,
    "start_time": "2022-04-01T21:40:54.622Z"
   },
   {
    "duration": 4,
    "start_time": "2022-04-01T21:40:54.726Z"
   },
   {
    "duration": 284,
    "start_time": "2022-04-01T21:40:54.733Z"
   },
   {
    "duration": 94,
    "start_time": "2022-04-01T21:40:55.019Z"
   },
   {
    "duration": 17,
    "start_time": "2022-04-01T21:40:55.115Z"
   },
   {
    "duration": 40,
    "start_time": "2022-04-01T21:40:55.135Z"
   },
   {
    "duration": 6,
    "start_time": "2022-04-01T21:40:55.178Z"
   },
   {
    "duration": 25,
    "start_time": "2022-04-01T21:40:55.187Z"
   },
   {
    "duration": 2160,
    "start_time": "2022-04-01T21:40:55.215Z"
   },
   {
    "duration": 6,
    "start_time": "2022-04-01T21:40:57.377Z"
   },
   {
    "duration": 6,
    "start_time": "2022-04-01T21:40:57.384Z"
   },
   {
    "duration": 151,
    "start_time": "2022-04-01T21:40:57.394Z"
   },
   {
    "duration": 0,
    "start_time": "2022-04-01T21:40:57.547Z"
   },
   {
    "duration": 0,
    "start_time": "2022-04-01T21:40:57.549Z"
   },
   {
    "duration": 0,
    "start_time": "2022-04-01T21:40:57.551Z"
   },
   {
    "duration": 0,
    "start_time": "2022-04-01T21:40:57.568Z"
   },
   {
    "duration": 1705,
    "start_time": "2022-04-02T09:30:05.095Z"
   },
   {
    "duration": 414,
    "start_time": "2022-04-02T09:30:06.803Z"
   },
   {
    "duration": 99,
    "start_time": "2022-04-02T09:30:07.219Z"
   },
   {
    "duration": 5,
    "start_time": "2022-04-02T09:30:07.321Z"
   },
   {
    "duration": 274,
    "start_time": "2022-04-02T09:30:07.342Z"
   },
   {
    "duration": 83,
    "start_time": "2022-04-02T09:30:07.746Z"
   },
   {
    "duration": 17,
    "start_time": "2022-04-02T09:30:08.596Z"
   },
   {
    "duration": 25,
    "start_time": "2022-04-02T09:30:15.302Z"
   },
   {
    "duration": 7,
    "start_time": "2022-04-02T09:30:18.310Z"
   },
   {
    "duration": 22,
    "start_time": "2022-04-02T09:30:18.622Z"
   },
   {
    "duration": 2180,
    "start_time": "2022-04-02T09:30:19.149Z"
   },
   {
    "duration": 156,
    "start_time": "2022-04-02T09:34:29.187Z"
   },
   {
    "duration": 13,
    "start_time": "2022-04-02T09:55:10.805Z"
   },
   {
    "duration": 16,
    "start_time": "2022-04-02T09:55:25.429Z"
   },
   {
    "duration": 14,
    "start_time": "2022-04-02T09:55:37.293Z"
   },
   {
    "duration": 16,
    "start_time": "2022-04-02T10:35:00.929Z"
   },
   {
    "duration": 7,
    "start_time": "2022-04-02T10:35:19.859Z"
   },
   {
    "duration": 4,
    "start_time": "2022-04-02T10:35:40.865Z"
   },
   {
    "duration": 4,
    "start_time": "2022-04-02T10:35:48.263Z"
   },
   {
    "duration": 15,
    "start_time": "2022-04-02T10:35:55.822Z"
   },
   {
    "duration": 30,
    "start_time": "2022-04-02T10:36:02.942Z"
   },
   {
    "duration": 6,
    "start_time": "2022-04-02T10:36:03.452Z"
   },
   {
    "duration": 32,
    "start_time": "2022-04-02T10:36:03.837Z"
   },
   {
    "duration": 2171,
    "start_time": "2022-04-02T10:36:04.563Z"
   },
   {
    "duration": 6,
    "start_time": "2022-04-02T10:36:09.887Z"
   },
   {
    "duration": 179,
    "start_time": "2022-04-02T10:36:32.228Z"
   },
   {
    "duration": 15,
    "start_time": "2022-04-02T10:36:40.027Z"
   },
   {
    "duration": 4,
    "start_time": "2022-04-02T10:36:53.383Z"
   },
   {
    "duration": 6,
    "start_time": "2022-04-02T10:37:15.186Z"
   },
   {
    "duration": 27,
    "start_time": "2022-04-02T10:37:23.498Z"
   },
   {
    "duration": 6,
    "start_time": "2022-04-02T10:37:23.740Z"
   },
   {
    "duration": 27,
    "start_time": "2022-04-02T10:37:24.001Z"
   },
   {
    "duration": 2062,
    "start_time": "2022-04-02T10:37:24.981Z"
   },
   {
    "duration": 10,
    "start_time": "2022-04-02T10:37:28.926Z"
   },
   {
    "duration": 101,
    "start_time": "2022-04-02T10:37:40.055Z"
   },
   {
    "duration": 15,
    "start_time": "2022-04-02T10:37:55.916Z"
   },
   {
    "duration": 14,
    "start_time": "2022-04-02T10:38:01.887Z"
   },
   {
    "duration": 85,
    "start_time": "2022-04-02T10:38:24.434Z"
   },
   {
    "duration": 79,
    "start_time": "2022-04-02T10:39:04.441Z"
   },
   {
    "duration": 82,
    "start_time": "2022-04-02T10:39:46.577Z"
   },
   {
    "duration": 13,
    "start_time": "2022-04-02T10:49:02.064Z"
   },
   {
    "duration": 13,
    "start_time": "2022-04-02T10:49:42.743Z"
   },
   {
    "duration": 11,
    "start_time": "2022-04-02T10:49:53.488Z"
   },
   {
    "duration": 23,
    "start_time": "2022-04-02T10:49:56.846Z"
   },
   {
    "duration": 6,
    "start_time": "2022-04-02T10:50:15.694Z"
   },
   {
    "duration": 10,
    "start_time": "2022-04-02T10:50:18.935Z"
   },
   {
    "duration": 13,
    "start_time": "2022-04-02T10:50:22.350Z"
   },
   {
    "duration": 113,
    "start_time": "2022-04-02T10:50:29.606Z"
   },
   {
    "duration": 167,
    "start_time": "2022-04-02T10:50:43.039Z"
   },
   {
    "duration": 1390,
    "start_time": "2022-04-02T10:51:10.615Z"
   },
   {
    "duration": 392,
    "start_time": "2022-04-02T10:51:12.008Z"
   },
   {
    "duration": 93,
    "start_time": "2022-04-02T10:51:12.402Z"
   },
   {
    "duration": 4,
    "start_time": "2022-04-02T10:51:12.498Z"
   },
   {
    "duration": 301,
    "start_time": "2022-04-02T10:51:12.505Z"
   },
   {
    "duration": 88,
    "start_time": "2022-04-02T10:51:12.808Z"
   },
   {
    "duration": 16,
    "start_time": "2022-04-02T10:51:12.899Z"
   },
   {
    "duration": 25,
    "start_time": "2022-04-02T10:51:13.157Z"
   },
   {
    "duration": 7,
    "start_time": "2022-04-02T10:51:13.455Z"
   },
   {
    "duration": 22,
    "start_time": "2022-04-02T10:51:13.900Z"
   },
   {
    "duration": 2119,
    "start_time": "2022-04-02T10:51:14.558Z"
   },
   {
    "duration": 141,
    "start_time": "2022-04-02T10:51:21.303Z"
   },
   {
    "duration": 12,
    "start_time": "2022-04-02T10:51:42.614Z"
   },
   {
    "duration": 113,
    "start_time": "2022-04-02T10:51:51.231Z"
   },
   {
    "duration": 43,
    "start_time": "2022-04-02T10:52:00.936Z"
   },
   {
    "duration": 103,
    "start_time": "2022-04-02T10:52:12.407Z"
   },
   {
    "duration": 1365,
    "start_time": "2022-04-02T10:52:35.526Z"
   },
   {
    "duration": 386,
    "start_time": "2022-04-02T10:52:36.894Z"
   },
   {
    "duration": 95,
    "start_time": "2022-04-02T10:52:37.283Z"
   },
   {
    "duration": 4,
    "start_time": "2022-04-02T10:52:37.381Z"
   },
   {
    "duration": 287,
    "start_time": "2022-04-02T10:52:37.387Z"
   },
   {
    "duration": 90,
    "start_time": "2022-04-02T10:52:37.676Z"
   },
   {
    "duration": 17,
    "start_time": "2022-04-02T10:52:37.768Z"
   },
   {
    "duration": 24,
    "start_time": "2022-04-02T10:52:37.787Z"
   },
   {
    "duration": 33,
    "start_time": "2022-04-02T10:52:37.813Z"
   },
   {
    "duration": 23,
    "start_time": "2022-04-02T10:52:37.850Z"
   },
   {
    "duration": 2269,
    "start_time": "2022-04-02T10:52:37.875Z"
   },
   {
    "duration": 9,
    "start_time": "2022-04-02T10:52:40.146Z"
   },
   {
    "duration": 13,
    "start_time": "2022-04-02T10:52:40.157Z"
   },
   {
    "duration": 144,
    "start_time": "2022-04-02T10:52:40.172Z"
   },
   {
    "duration": 51,
    "start_time": "2022-04-02T10:52:40.318Z"
   },
   {
    "duration": 9,
    "start_time": "2022-04-02T10:52:40.371Z"
   },
   {
    "duration": 7,
    "start_time": "2022-04-02T10:52:40.382Z"
   },
   {
    "duration": 71,
    "start_time": "2022-04-02T10:52:40.391Z"
   },
   {
    "duration": 9955,
    "start_time": "2022-04-02T10:52:40.464Z"
   },
   {
    "duration": 109,
    "start_time": "2022-04-02T10:53:42.679Z"
   },
   {
    "duration": 13,
    "start_time": "2022-04-02T10:55:16.824Z"
   },
   {
    "duration": 10013,
    "start_time": "2022-04-02T10:55:21.023Z"
   },
   {
    "duration": 11,
    "start_time": "2022-04-02T10:56:08.864Z"
   },
   {
    "duration": 11,
    "start_time": "2022-04-02T10:56:16.584Z"
   },
   {
    "duration": 21085,
    "start_time": "2022-04-02T10:56:22.703Z"
   },
   {
    "duration": 1352,
    "start_time": "2022-04-02T10:59:10.331Z"
   },
   {
    "duration": 381,
    "start_time": "2022-04-02T10:59:11.685Z"
   },
   {
    "duration": 98,
    "start_time": "2022-04-02T10:59:12.068Z"
   },
   {
    "duration": 5,
    "start_time": "2022-04-02T10:59:12.169Z"
   },
   {
    "duration": 295,
    "start_time": "2022-04-02T10:59:12.176Z"
   },
   {
    "duration": 96,
    "start_time": "2022-04-02T10:59:12.473Z"
   },
   {
    "duration": 16,
    "start_time": "2022-04-02T10:59:12.572Z"
   },
   {
    "duration": 25,
    "start_time": "2022-04-02T10:59:12.590Z"
   },
   {
    "duration": 28,
    "start_time": "2022-04-02T10:59:12.617Z"
   },
   {
    "duration": 2121,
    "start_time": "2022-04-02T10:59:12.649Z"
   },
   {
    "duration": 149,
    "start_time": "2022-04-02T10:59:14.772Z"
   },
   {
    "duration": 8,
    "start_time": "2022-04-02T10:59:14.923Z"
   },
   {
    "duration": 19333,
    "start_time": "2022-04-02T10:59:14.942Z"
   },
   {
    "duration": 46,
    "start_time": "2022-04-02T11:02:49.051Z"
   },
   {
    "duration": 6,
    "start_time": "2022-04-02T11:04:36.196Z"
   },
   {
    "duration": 774,
    "start_time": "2022-04-02T11:12:59.384Z"
   },
   {
    "duration": 12,
    "start_time": "2022-04-02T11:22:43.063Z"
   },
   {
    "duration": 4,
    "start_time": "2022-04-02T11:22:58.496Z"
   },
   {
    "duration": 227,
    "start_time": "2022-04-02T11:23:04.771Z"
   },
   {
    "duration": 250,
    "start_time": "2022-04-02T11:23:26.152Z"
   },
   {
    "duration": 402,
    "start_time": "2022-04-02T11:23:59.766Z"
   },
   {
    "duration": 13,
    "start_time": "2022-04-02T11:24:50.743Z"
   },
   {
    "duration": 389,
    "start_time": "2022-04-02T11:25:29.217Z"
   },
   {
    "duration": 380,
    "start_time": "2022-04-02T11:25:33.655Z"
   },
   {
    "duration": 396,
    "start_time": "2022-04-02T11:26:25.807Z"
   },
   {
    "duration": 19,
    "start_time": "2022-04-02T11:27:48.623Z"
   },
   {
    "duration": 389,
    "start_time": "2022-04-02T11:27:50.112Z"
   },
   {
    "duration": 168,
    "start_time": "2022-04-02T11:29:46.767Z"
   },
   {
    "duration": 13927,
    "start_time": "2022-04-02T11:36:17.617Z"
   },
   {
    "duration": 16354,
    "start_time": "2022-04-02T11:39:06.376Z"
   },
   {
    "duration": 6,
    "start_time": "2022-04-02T11:41:01.136Z"
   },
   {
    "duration": 14890,
    "start_time": "2022-04-02T11:42:10.281Z"
   },
   {
    "duration": 11,
    "start_time": "2022-04-02T11:42:45.009Z"
   },
   {
    "duration": 12,
    "start_time": "2022-04-02T11:42:54.513Z"
   },
   {
    "duration": 11,
    "start_time": "2022-04-02T11:43:09.095Z"
   },
   {
    "duration": 11,
    "start_time": "2022-04-02T11:43:57.897Z"
   },
   {
    "duration": 11,
    "start_time": "2022-04-02T11:44:01.417Z"
   },
   {
    "duration": 11,
    "start_time": "2022-04-02T11:44:04.073Z"
   },
   {
    "duration": 12,
    "start_time": "2022-04-02T11:44:07.281Z"
   },
   {
    "duration": 16008,
    "start_time": "2022-04-02T11:44:08.674Z"
   },
   {
    "duration": 5,
    "start_time": "2022-04-02T11:44:24.684Z"
   },
   {
    "duration": 6,
    "start_time": "2022-04-02T11:44:34.177Z"
   },
   {
    "duration": 15568,
    "start_time": "2022-04-02T11:45:07.369Z"
   },
   {
    "duration": 5,
    "start_time": "2022-04-02T11:45:32.759Z"
   },
   {
    "duration": 12,
    "start_time": "2022-04-02T11:45:38.050Z"
   },
   {
    "duration": 5,
    "start_time": "2022-04-02T11:45:49.129Z"
   },
   {
    "duration": 11,
    "start_time": "2022-04-02T11:45:53.177Z"
   },
   {
    "duration": 16493,
    "start_time": "2022-04-02T11:46:20.881Z"
   },
   {
    "duration": 11,
    "start_time": "2022-04-02T11:46:47.113Z"
   },
   {
    "duration": 11,
    "start_time": "2022-04-02T11:46:50.897Z"
   },
   {
    "duration": 10,
    "start_time": "2022-04-02T11:46:57.097Z"
   },
   {
    "duration": 11,
    "start_time": "2022-04-02T11:47:27.569Z"
   },
   {
    "duration": 11,
    "start_time": "2022-04-02T11:47:32.521Z"
   },
   {
    "duration": 19447,
    "start_time": "2022-04-02T11:48:06.650Z"
   },
   {
    "duration": 7,
    "start_time": "2022-04-02T11:48:27.689Z"
   },
   {
    "duration": 296243,
    "start_time": "2022-04-02T11:48:55.626Z"
   },
   {
    "duration": 4940919,
    "start_time": "2022-04-02T13:14:33.189Z"
   },
   {
    "duration": 2448,
    "start_time": "2022-04-02T14:37:18.719Z"
   },
   {
    "duration": 616,
    "start_time": "2022-04-02T14:37:21.171Z"
   },
   {
    "duration": 138,
    "start_time": "2022-04-02T14:37:21.790Z"
   },
   {
    "duration": 11,
    "start_time": "2022-04-02T14:37:21.933Z"
   },
   {
    "duration": 568,
    "start_time": "2022-04-02T14:37:21.947Z"
   },
   {
    "duration": 130,
    "start_time": "2022-04-02T14:37:22.518Z"
   },
   {
    "duration": 28,
    "start_time": "2022-04-02T14:37:22.651Z"
   },
   {
    "duration": 43,
    "start_time": "2022-04-02T14:37:22.681Z"
   },
   {
    "duration": 9,
    "start_time": "2022-04-02T14:37:22.744Z"
   },
   {
    "duration": 2766,
    "start_time": "2022-04-02T14:37:22.758Z"
   },
   {
    "duration": 161,
    "start_time": "2022-04-02T14:37:25.527Z"
   },
   {
    "duration": 7,
    "start_time": "2022-04-02T14:37:25.691Z"
   },
   {
    "duration": 21114,
    "start_time": "2022-04-02T14:37:25.700Z"
   },
   {
    "duration": 13,
    "start_time": "2022-04-02T14:37:46.817Z"
   },
   {
    "duration": 460,
    "start_time": "2022-04-02T14:37:46.845Z"
   },
   {
    "duration": 17769,
    "start_time": "2022-04-02T14:37:47.307Z"
   },
   {
    "duration": 6,
    "start_time": "2022-04-02T14:38:05.078Z"
   },
   {
    "duration": 310410,
    "start_time": "2022-04-02T14:38:05.086Z"
   },
   {
    "duration": 3516,
    "start_time": "2022-04-02T14:45:07.568Z"
   },
   {
    "duration": 3522529,
    "start_time": "2022-04-02T14:45:41.890Z"
   },
   {
    "duration": 5,
    "start_time": "2022-04-02T17:24:13.289Z"
   },
   {
    "duration": 387,
    "start_time": "2022-04-02T17:24:13.936Z"
   },
   {
    "duration": 132405,
    "start_time": "2022-04-02T17:25:40.447Z"
   },
   {
    "duration": 121238,
    "start_time": "2022-04-02T17:36:18.907Z"
   },
   {
    "duration": 6,
    "start_time": "2022-04-02T21:06:05.177Z"
   },
   {
    "duration": 47,
    "start_time": "2022-04-02T21:28:41.836Z"
   },
   {
    "duration": 13,
    "start_time": "2022-04-02T21:29:17.802Z"
   },
   {
    "duration": 12,
    "start_time": "2022-04-02T21:29:18.991Z"
   },
   {
    "duration": 393,
    "start_time": "2022-04-02T21:29:20.296Z"
   },
   {
    "duration": 5,
    "start_time": "2022-04-02T21:29:29.705Z"
   },
   {
    "duration": 1478,
    "start_time": "2022-04-02T21:29:34.745Z"
   },
   {
    "duration": 6,
    "start_time": "2022-04-02T21:29:38.624Z"
   },
   {
    "duration": 53431,
    "start_time": "2022-04-02T21:29:43.851Z"
   },
   {
    "duration": 1749,
    "start_time": "2022-04-02T21:31:10.467Z"
   },
   {
    "duration": 7243,
    "start_time": "2022-04-02T21:31:24.332Z"
   },
   {
    "duration": 1958,
    "start_time": "2022-04-02T22:13:11.605Z"
   },
   {
    "duration": 412,
    "start_time": "2022-04-02T22:13:15.372Z"
   },
   {
    "duration": 84,
    "start_time": "2022-04-02T22:13:22.373Z"
   },
   {
    "duration": 5,
    "start_time": "2022-04-02T22:13:30.871Z"
   },
   {
    "duration": 281,
    "start_time": "2022-04-02T22:13:32.701Z"
   },
   {
    "duration": 85,
    "start_time": "2022-04-02T22:13:33.804Z"
   },
   {
    "duration": 17,
    "start_time": "2022-04-02T22:13:35.347Z"
   },
   {
    "duration": 25,
    "start_time": "2022-04-02T22:13:38.397Z"
   },
   {
    "duration": 6,
    "start_time": "2022-04-02T23:03:57.224Z"
   },
   {
    "duration": 2088,
    "start_time": "2022-04-02T23:03:58.104Z"
   },
   {
    "duration": 164,
    "start_time": "2022-04-02T23:04:00.194Z"
   },
   {
    "duration": 7,
    "start_time": "2022-04-02T23:04:00.816Z"
   },
   {
    "duration": 18465,
    "start_time": "2022-04-02T23:04:01.299Z"
   },
   {
    "duration": 15,
    "start_time": "2022-04-02T23:04:19.766Z"
   },
   {
    "duration": 18,
    "start_time": "2022-04-02T23:04:19.783Z"
   },
   {
    "duration": 451,
    "start_time": "2022-04-02T23:04:19.803Z"
   },
   {
    "duration": 2027,
    "start_time": "2022-04-03T08:44:42.833Z"
   },
   {
    "duration": 1275,
    "start_time": "2022-04-03T08:44:44.863Z"
   },
   {
    "duration": 57,
    "start_time": "2022-04-03T08:44:48.608Z"
   },
   {
    "duration": 3,
    "start_time": "2022-04-03T08:44:48.995Z"
   },
   {
    "duration": 200,
    "start_time": "2022-04-03T08:44:49.368Z"
   },
   {
    "duration": 62,
    "start_time": "2022-04-03T08:44:49.707Z"
   },
   {
    "duration": 12,
    "start_time": "2022-04-03T08:44:50.727Z"
   },
   {
    "duration": 18,
    "start_time": "2022-04-03T08:44:51.977Z"
   },
   {
    "duration": 4,
    "start_time": "2022-04-03T08:44:52.361Z"
   },
   {
    "duration": 1278,
    "start_time": "2022-04-03T08:44:53.754Z"
   },
   {
    "duration": 92,
    "start_time": "2022-04-03T08:44:58.002Z"
   },
   {
    "duration": 5,
    "start_time": "2022-04-03T08:45:00.238Z"
   },
   {
    "duration": 9530,
    "start_time": "2022-04-03T08:45:00.911Z"
   },
   {
    "duration": 11,
    "start_time": "2022-04-03T08:45:10.443Z"
   },
   {
    "duration": 10,
    "start_time": "2022-04-03T08:46:08.613Z"
   },
   {
    "duration": 328,
    "start_time": "2022-04-03T08:46:10.213Z"
   },
   {
    "duration": 778,
    "start_time": "2022-04-03T08:46:15.005Z"
   },
   {
    "duration": 4,
    "start_time": "2022-04-03T08:46:20.785Z"
   },
   {
    "duration": 1236,
    "start_time": "2022-04-03T08:47:13.404Z"
   },
   {
    "duration": 45502,
    "start_time": "2022-04-03T08:47:20.211Z"
   },
   {
    "duration": 733393,
    "start_time": "2022-04-03T08:49:53.700Z"
   },
   {
    "duration": 3253,
    "start_time": "2022-04-03T09:02:07.095Z"
   },
   {
    "duration": 162,
    "start_time": "2022-04-03T09:50:45.166Z"
   },
   {
    "duration": 7,
    "start_time": "2022-04-03T09:50:52.131Z"
   },
   {
    "duration": 5,
    "start_time": "2022-04-03T09:54:10.281Z"
   },
   {
    "duration": 110,
    "start_time": "2022-04-03T09:55:11.336Z"
   },
   {
    "duration": 4,
    "start_time": "2022-04-03T10:17:05.555Z"
   },
   {
    "duration": 34,
    "start_time": "2022-04-03T10:19:17.466Z"
   },
   {
    "duration": 327,
    "start_time": "2022-04-03T10:42:11.420Z"
   },
   {
    "duration": 16,
    "start_time": "2022-04-03T11:06:53.902Z"
   },
   {
    "duration": 15,
    "start_time": "2022-04-03T11:07:02.607Z"
   },
   {
    "duration": 4,
    "start_time": "2022-04-03T11:07:15.886Z"
   },
   {
    "duration": 668,
    "start_time": "2022-04-03T11:07:16.394Z"
   },
   {
    "duration": 60,
    "start_time": "2022-04-03T11:07:17.064Z"
   },
   {
    "duration": 3,
    "start_time": "2022-04-03T11:07:17.126Z"
   },
   {
    "duration": 224,
    "start_time": "2022-04-03T11:07:17.132Z"
   },
   {
    "duration": 64,
    "start_time": "2022-04-03T11:07:17.358Z"
   },
   {
    "duration": 11,
    "start_time": "2022-04-03T11:07:17.424Z"
   },
   {
    "duration": 24,
    "start_time": "2022-04-03T11:07:17.482Z"
   },
   {
    "duration": 6,
    "start_time": "2022-04-03T11:07:17.836Z"
   },
   {
    "duration": 1923,
    "start_time": "2022-04-03T11:07:18.709Z"
   },
   {
    "duration": 83,
    "start_time": "2022-04-03T11:07:24.996Z"
   },
   {
    "duration": 6,
    "start_time": "2022-04-03T11:07:27.366Z"
   },
   {
    "duration": 9833,
    "start_time": "2022-04-03T11:07:28.405Z"
   },
   {
    "duration": 27,
    "start_time": "2022-04-03T11:08:03.103Z"
   },
   {
    "duration": 1530,
    "start_time": "2022-04-03T11:08:16.347Z"
   },
   {
    "duration": 672,
    "start_time": "2022-04-03T11:08:17.879Z"
   },
   {
    "duration": 93,
    "start_time": "2022-04-03T11:08:18.554Z"
   },
   {
    "duration": 4,
    "start_time": "2022-04-03T11:08:18.649Z"
   },
   {
    "duration": 221,
    "start_time": "2022-04-03T11:08:18.655Z"
   },
   {
    "duration": 57,
    "start_time": "2022-04-03T11:08:19.032Z"
   },
   {
    "duration": 13,
    "start_time": "2022-04-03T11:08:20.481Z"
   },
   {
    "duration": 21,
    "start_time": "2022-04-03T11:08:20.983Z"
   },
   {
    "duration": 4,
    "start_time": "2022-04-03T11:08:21.290Z"
   },
   {
    "duration": 1280,
    "start_time": "2022-04-03T11:08:22.112Z"
   },
   {
    "duration": 115,
    "start_time": "2022-04-03T11:08:27.328Z"
   },
   {
    "duration": 8,
    "start_time": "2022-04-03T11:08:28.464Z"
   },
   {
    "duration": 15431,
    "start_time": "2022-04-03T11:08:31.171Z"
   },
   {
    "duration": 11,
    "start_time": "2022-04-03T11:08:58.546Z"
   },
   {
    "duration": 35,
    "start_time": "2022-04-03T11:09:00.050Z"
   },
   {
    "duration": 463,
    "start_time": "2022-04-03T11:09:00.882Z"
   },
   {
    "duration": 29,
    "start_time": "2022-04-03T11:35:52.406Z"
   },
   {
    "duration": 480,
    "start_time": "2022-04-03T11:35:53.060Z"
   },
   {
    "duration": 35004,
    "start_time": "2022-04-03T11:44:28.842Z"
   },
   {
    "duration": 5,
    "start_time": "2022-04-03T11:47:17.756Z"
   },
   {
    "duration": 35409,
    "start_time": "2022-04-03T11:47:22.548Z"
   },
   {
    "duration": 738855,
    "start_time": "2022-04-03T11:55:56.446Z"
   },
   {
    "duration": 3803,
    "start_time": "2022-04-03T12:09:10.926Z"
   },
   {
    "duration": 3101,
    "start_time": "2022-04-03T12:35:48.948Z"
   },
   {
    "duration": 72,
    "start_time": "2022-04-03T12:36:09.485Z"
   },
   {
    "duration": 36,
    "start_time": "2022-04-03T12:38:19.530Z"
   },
   {
    "duration": 30,
    "start_time": "2022-04-03T12:38:28.058Z"
   },
   {
    "duration": 4,
    "start_time": "2022-04-03T12:39:02.892Z"
   },
   {
    "duration": 5,
    "start_time": "2022-04-03T12:39:11.578Z"
   },
   {
    "duration": 24,
    "start_time": "2022-04-03T12:40:47.644Z"
   },
   {
    "duration": 161,
    "start_time": "2022-04-03T12:41:09.291Z"
   },
   {
    "duration": 161,
    "start_time": "2022-04-03T12:42:21.376Z"
   },
   {
    "duration": 19,
    "start_time": "2022-04-03T12:43:32.556Z"
   },
   {
    "duration": 39,
    "start_time": "2022-04-03T12:43:48.314Z"
   },
   {
    "duration": 248,
    "start_time": "2022-04-03T12:43:48.860Z"
   },
   {
    "duration": 250,
    "start_time": "2022-04-03T12:45:23.420Z"
   },
   {
    "duration": 235,
    "start_time": "2022-04-03T12:45:32.355Z"
   },
   {
    "duration": 131,
    "start_time": "2022-04-03T12:45:42.570Z"
   },
   {
    "duration": 12,
    "start_time": "2022-04-03T12:45:56.931Z"
   },
   {
    "duration": 928,
    "start_time": "2022-04-03T12:46:01.211Z"
   },
   {
    "duration": 757,
    "start_time": "2022-04-03T12:48:14.675Z"
   },
   {
    "duration": 864,
    "start_time": "2022-04-03T12:48:23.923Z"
   },
   {
    "duration": 15,
    "start_time": "2022-04-03T12:49:19.117Z"
   },
   {
    "duration": 149,
    "start_time": "2022-04-03T12:49:24.962Z"
   },
   {
    "duration": 11,
    "start_time": "2022-04-03T12:49:39.715Z"
   },
   {
    "duration": 32,
    "start_time": "2022-04-03T12:49:40.116Z"
   },
   {
    "duration": 12,
    "start_time": "2022-04-03T12:49:40.627Z"
   },
   {
    "duration": 13,
    "start_time": "2022-04-03T12:50:13.267Z"
   },
   {
    "duration": 1508,
    "start_time": "2022-04-03T12:50:20.870Z"
   },
   {
    "duration": 613,
    "start_time": "2022-04-03T12:50:22.380Z"
   },
   {
    "duration": 62,
    "start_time": "2022-04-03T12:50:22.995Z"
   },
   {
    "duration": 4,
    "start_time": "2022-04-03T12:50:23.059Z"
   },
   {
    "duration": 223,
    "start_time": "2022-04-03T12:50:23.065Z"
   },
   {
    "duration": 61,
    "start_time": "2022-04-03T12:50:23.290Z"
   },
   {
    "duration": 13,
    "start_time": "2022-04-03T12:50:23.353Z"
   },
   {
    "duration": 36,
    "start_time": "2022-04-03T12:50:23.367Z"
   },
   {
    "duration": 5,
    "start_time": "2022-04-03T12:50:23.405Z"
   },
   {
    "duration": 1337,
    "start_time": "2022-04-03T12:50:23.412Z"
   },
   {
    "duration": 102,
    "start_time": "2022-04-03T12:50:24.751Z"
   },
   {
    "duration": 6,
    "start_time": "2022-04-03T12:50:24.855Z"
   },
   {
    "duration": 9566,
    "start_time": "2022-04-03T12:50:24.862Z"
   },
   {
    "duration": 11,
    "start_time": "2022-04-03T12:50:34.429Z"
   },
   {
    "duration": 35,
    "start_time": "2022-04-03T12:50:34.442Z"
   },
   {
    "duration": 843,
    "start_time": "2022-04-03T12:50:34.479Z"
   },
   {
    "duration": 229514,
    "start_time": "2022-04-03T12:50:35.324Z"
   },
   {
    "duration": 451,
    "start_time": "2022-04-03T13:44:15.804Z"
   },
   {
    "duration": 0,
    "start_time": "2022-04-03T13:44:16.257Z"
   },
   {
    "duration": 0,
    "start_time": "2022-04-03T13:44:16.258Z"
   },
   {
    "duration": 1517,
    "start_time": "2022-04-03T14:12:54.811Z"
   },
   {
    "duration": 399,
    "start_time": "2022-04-03T14:12:56.330Z"
   },
   {
    "duration": 55,
    "start_time": "2022-04-03T14:12:56.731Z"
   },
   {
    "duration": 3,
    "start_time": "2022-04-03T14:12:56.802Z"
   },
   {
    "duration": 222,
    "start_time": "2022-04-03T14:12:56.807Z"
   },
   {
    "duration": 53,
    "start_time": "2022-04-03T14:12:57.031Z"
   },
   {
    "duration": 20,
    "start_time": "2022-04-03T14:12:57.086Z"
   },
   {
    "duration": 18,
    "start_time": "2022-04-03T14:12:57.108Z"
   },
   {
    "duration": 4,
    "start_time": "2022-04-03T14:12:57.128Z"
   },
   {
    "duration": 1298,
    "start_time": "2022-04-03T14:12:57.135Z"
   },
   {
    "duration": 98,
    "start_time": "2022-04-03T14:12:58.434Z"
   },
   {
    "duration": 6,
    "start_time": "2022-04-03T14:12:58.533Z"
   },
   {
    "duration": 10093,
    "start_time": "2022-04-03T14:12:58.540Z"
   },
   {
    "duration": 12,
    "start_time": "2022-04-03T14:13:08.635Z"
   },
   {
    "duration": 38,
    "start_time": "2022-04-03T14:13:08.648Z"
   },
   {
    "duration": 877,
    "start_time": "2022-04-03T14:13:08.702Z"
   },
   {
    "duration": 232689,
    "start_time": "2022-04-03T14:13:09.582Z"
   },
   {
    "duration": 1526,
    "start_time": "2022-04-03T15:01:12.887Z"
   },
   {
    "duration": 509,
    "start_time": "2022-04-03T15:01:14.416Z"
   },
   {
    "duration": 97,
    "start_time": "2022-04-03T15:01:14.927Z"
   },
   {
    "duration": 5,
    "start_time": "2022-04-03T15:01:15.026Z"
   },
   {
    "duration": 227,
    "start_time": "2022-04-03T15:01:15.034Z"
   },
   {
    "duration": 62,
    "start_time": "2022-04-03T15:01:15.262Z"
   },
   {
    "duration": 13,
    "start_time": "2022-04-03T15:01:15.326Z"
   },
   {
    "duration": 19,
    "start_time": "2022-04-03T15:01:15.340Z"
   },
   {
    "duration": 5,
    "start_time": "2022-04-03T15:01:15.361Z"
   },
   {
    "duration": 1421,
    "start_time": "2022-04-03T15:01:15.401Z"
   },
   {
    "duration": 108,
    "start_time": "2022-04-03T15:01:16.824Z"
   },
   {
    "duration": 6,
    "start_time": "2022-04-03T15:01:16.934Z"
   },
   {
    "duration": 9605,
    "start_time": "2022-04-03T15:01:16.948Z"
   },
   {
    "duration": 11,
    "start_time": "2022-04-03T15:01:26.555Z"
   },
   {
    "duration": 49,
    "start_time": "2022-04-03T15:01:26.567Z"
   },
   {
    "duration": 865,
    "start_time": "2022-04-03T15:01:26.617Z"
   },
   {
    "duration": 234831,
    "start_time": "2022-04-03T15:01:27.484Z"
   },
   {
    "duration": 1174867,
    "start_time": "2022-04-03T15:05:22.317Z"
   },
   {
    "duration": 0,
    "start_time": "2022-04-03T15:24:57.186Z"
   },
   {
    "duration": 0,
    "start_time": "2022-04-03T15:24:57.188Z"
   },
   {
    "duration": 1601,
    "start_time": "2022-04-03T15:25:10.343Z"
   },
   {
    "duration": 314,
    "start_time": "2022-04-03T15:25:11.946Z"
   },
   {
    "duration": 63,
    "start_time": "2022-04-03T15:25:12.262Z"
   },
   {
    "duration": 3,
    "start_time": "2022-04-03T15:25:12.327Z"
   },
   {
    "duration": 225,
    "start_time": "2022-04-03T15:25:12.332Z"
   },
   {
    "duration": 63,
    "start_time": "2022-04-03T15:25:12.558Z"
   },
   {
    "duration": 13,
    "start_time": "2022-04-03T15:25:12.623Z"
   },
   {
    "duration": 19,
    "start_time": "2022-04-03T15:25:12.637Z"
   },
   {
    "duration": 6,
    "start_time": "2022-04-03T15:25:12.657Z"
   },
   {
    "duration": 1364,
    "start_time": "2022-04-03T15:25:12.665Z"
   },
   {
    "duration": 102,
    "start_time": "2022-04-03T15:25:14.031Z"
   },
   {
    "duration": 6,
    "start_time": "2022-04-03T15:25:14.134Z"
   },
   {
    "duration": 10651,
    "start_time": "2022-04-03T15:25:14.141Z"
   },
   {
    "duration": 16,
    "start_time": "2022-04-03T15:25:24.794Z"
   },
   {
    "duration": 39,
    "start_time": "2022-04-03T15:25:24.812Z"
   },
   {
    "duration": 1086,
    "start_time": "2022-04-03T15:25:24.852Z"
   },
   {
    "duration": 235083,
    "start_time": "2022-04-03T15:25:25.940Z"
   },
   {
    "duration": 1779,
    "start_time": "2022-04-03T16:11:34.358Z"
   },
   {
    "duration": 302,
    "start_time": "2022-04-03T16:11:36.138Z"
   },
   {
    "duration": 70,
    "start_time": "2022-04-03T16:11:36.442Z"
   },
   {
    "duration": 4,
    "start_time": "2022-04-03T16:11:36.515Z"
   },
   {
    "duration": 221,
    "start_time": "2022-04-03T16:11:36.521Z"
   },
   {
    "duration": 71,
    "start_time": "2022-04-03T16:11:36.743Z"
   },
   {
    "duration": 13,
    "start_time": "2022-04-03T16:11:36.816Z"
   },
   {
    "duration": 19,
    "start_time": "2022-04-03T16:11:36.831Z"
   },
   {
    "duration": 5,
    "start_time": "2022-04-03T16:11:36.851Z"
   },
   {
    "duration": 1332,
    "start_time": "2022-04-03T16:11:36.859Z"
   },
   {
    "duration": 88,
    "start_time": "2022-04-03T16:11:38.201Z"
   },
   {
    "duration": 14,
    "start_time": "2022-04-03T16:11:38.291Z"
   },
   {
    "duration": 9843,
    "start_time": "2022-04-03T16:11:38.306Z"
   },
   {
    "duration": 12,
    "start_time": "2022-04-03T16:11:48.151Z"
   },
   {
    "duration": 56,
    "start_time": "2022-04-03T16:11:48.165Z"
   },
   {
    "duration": 865,
    "start_time": "2022-04-03T16:11:48.223Z"
   },
   {
    "duration": 138512,
    "start_time": "2022-04-03T16:11:49.090Z"
   },
   {
    "duration": 0,
    "start_time": "2022-04-03T16:14:07.604Z"
   },
   {
    "duration": 0,
    "start_time": "2022-04-03T16:14:07.605Z"
   },
   {
    "duration": 0,
    "start_time": "2022-04-03T16:14:07.606Z"
   },
   {
    "duration": 4,
    "start_time": "2022-04-03T16:14:13.185Z"
   },
   {
    "duration": 276,
    "start_time": "2022-04-03T16:14:13.684Z"
   },
   {
    "duration": 61,
    "start_time": "2022-04-03T16:14:13.962Z"
   },
   {
    "duration": 4,
    "start_time": "2022-04-03T16:14:14.025Z"
   },
   {
    "duration": 221,
    "start_time": "2022-04-03T16:14:14.031Z"
   },
   {
    "duration": 59,
    "start_time": "2022-04-03T16:14:14.254Z"
   },
   {
    "duration": 9,
    "start_time": "2022-04-03T16:14:14.315Z"
   },
   {
    "duration": 17,
    "start_time": "2022-04-03T16:14:14.326Z"
   },
   {
    "duration": 6,
    "start_time": "2022-04-03T16:14:14.549Z"
   },
   {
    "duration": 1348,
    "start_time": "2022-04-03T16:14:15.312Z"
   },
   {
    "duration": 87,
    "start_time": "2022-04-03T16:14:17.037Z"
   },
   {
    "duration": 6,
    "start_time": "2022-04-03T16:14:18.165Z"
   },
   {
    "duration": 9264,
    "start_time": "2022-04-03T16:14:18.909Z"
   },
   {
    "duration": 11,
    "start_time": "2022-04-03T16:14:28.176Z"
   },
   {
    "duration": 37,
    "start_time": "2022-04-03T16:14:28.201Z"
   },
   {
    "duration": 884,
    "start_time": "2022-04-03T16:14:28.241Z"
   },
   {
    "duration": 4,
    "start_time": "2022-04-03T16:14:32.278Z"
   },
   {
    "duration": 796,
    "start_time": "2022-04-03T16:14:56.174Z"
   },
   {
    "duration": 5,
    "start_time": "2022-04-03T16:15:00.536Z"
   },
   {
    "duration": 4,
    "start_time": "2022-04-03T16:15:02.928Z"
   },
   {
    "duration": 11,
    "start_time": "2022-04-03T16:15:32.934Z"
   },
   {
    "duration": 15,
    "start_time": "2022-04-03T16:15:44.573Z"
   },
   {
    "duration": 34,
    "start_time": "2022-04-03T16:15:44.922Z"
   },
   {
    "duration": 298,
    "start_time": "2022-04-03T16:15:47.112Z"
   },
   {
    "duration": 29,
    "start_time": "2022-04-03T16:15:48.712Z"
   },
   {
    "duration": 4,
    "start_time": "2022-04-03T16:15:58.751Z"
   },
   {
    "duration": 35844,
    "start_time": "2022-04-03T16:16:08.952Z"
   },
   {
    "duration": 750646,
    "start_time": "2022-04-03T16:16:44.801Z"
   },
   {
    "duration": 3830,
    "start_time": "2022-04-03T16:29:15.449Z"
   },
   {
    "duration": 141,
    "start_time": "2022-04-03T16:58:32.338Z"
   },
   {
    "duration": 14,
    "start_time": "2022-04-03T16:59:39.379Z"
   },
   {
    "duration": 30,
    "start_time": "2022-04-03T16:59:45.242Z"
   },
   {
    "duration": 482,
    "start_time": "2022-04-03T17:01:34.633Z"
   },
   {
    "duration": 423,
    "start_time": "2022-04-03T17:02:05.860Z"
   },
   {
    "duration": 258,
    "start_time": "2022-04-03T17:17:10.783Z"
   },
   {
    "duration": 260,
    "start_time": "2022-04-03T17:19:01.981Z"
   },
   {
    "duration": 531,
    "start_time": "2022-04-03T17:19:11.533Z"
   },
   {
    "duration": 1502,
    "start_time": "2022-04-03T17:19:19.395Z"
   },
   {
    "duration": 331,
    "start_time": "2022-04-03T17:19:20.899Z"
   },
   {
    "duration": 55,
    "start_time": "2022-04-03T17:19:21.232Z"
   },
   {
    "duration": 4,
    "start_time": "2022-04-03T17:19:21.300Z"
   },
   {
    "duration": 208,
    "start_time": "2022-04-03T17:19:21.306Z"
   },
   {
    "duration": 56,
    "start_time": "2022-04-03T17:19:21.515Z"
   },
   {
    "duration": 12,
    "start_time": "2022-04-03T17:19:21.573Z"
   },
   {
    "duration": 19,
    "start_time": "2022-04-03T17:19:21.602Z"
   },
   {
    "duration": 4,
    "start_time": "2022-04-03T17:19:21.623Z"
   },
   {
    "duration": 1346,
    "start_time": "2022-04-03T17:19:21.630Z"
   },
   {
    "duration": 106,
    "start_time": "2022-04-03T17:19:22.978Z"
   },
   {
    "duration": 6,
    "start_time": "2022-04-03T17:19:23.085Z"
   },
   {
    "duration": 9364,
    "start_time": "2022-04-03T17:19:23.100Z"
   },
   {
    "duration": 12,
    "start_time": "2022-04-03T17:19:32.466Z"
   },
   {
    "duration": 51,
    "start_time": "2022-04-03T17:19:32.480Z"
   },
   {
    "duration": 247,
    "start_time": "2022-04-03T17:19:32.533Z"
   },
   {
    "duration": 0,
    "start_time": "2022-04-03T17:19:32.782Z"
   },
   {
    "duration": 0,
    "start_time": "2022-04-03T17:19:32.784Z"
   },
   {
    "duration": 0,
    "start_time": "2022-04-03T17:19:32.785Z"
   },
   {
    "duration": 0,
    "start_time": "2022-04-03T17:19:32.786Z"
   },
   {
    "duration": 61,
    "start_time": "2022-04-03T17:24:28.578Z"
   },
   {
    "duration": 595,
    "start_time": "2022-04-03T17:24:33.400Z"
   },
   {
    "duration": 40752,
    "start_time": "2022-04-03T17:24:37.223Z"
   },
   {
    "duration": 804865,
    "start_time": "2022-04-03T17:25:17.978Z"
   },
   {
    "duration": 4232,
    "start_time": "2022-04-03T17:38:42.845Z"
   },
   {
    "duration": 127,
    "start_time": "2022-04-03T17:38:47.079Z"
   },
   {
    "duration": 19,
    "start_time": "2022-04-03T17:41:15.956Z"
   },
   {
    "duration": 22,
    "start_time": "2022-04-03T17:42:03.177Z"
   },
   {
    "duration": 45,
    "start_time": "2022-04-03T17:42:17.873Z"
   },
   {
    "duration": 402,
    "start_time": "2022-04-03T17:42:19.290Z"
   },
   {
    "duration": 12,
    "start_time": "2022-04-03T17:42:31.122Z"
   },
   {
    "duration": 38,
    "start_time": "2022-04-03T17:42:31.826Z"
   },
   {
    "duration": 393,
    "start_time": "2022-04-03T17:42:32.505Z"
   },
   {
    "duration": 1684,
    "start_time": "2022-04-03T17:42:36.542Z"
   },
   {
    "duration": 420,
    "start_time": "2022-04-03T17:42:38.229Z"
   },
   {
    "duration": 66,
    "start_time": "2022-04-03T17:42:38.651Z"
   },
   {
    "duration": 3,
    "start_time": "2022-04-03T17:42:38.719Z"
   },
   {
    "duration": 235,
    "start_time": "2022-04-03T17:42:38.724Z"
   },
   {
    "duration": 76,
    "start_time": "2022-04-03T17:42:38.961Z"
   },
   {
    "duration": 12,
    "start_time": "2022-04-03T17:42:39.038Z"
   },
   {
    "duration": 19,
    "start_time": "2022-04-03T17:42:39.052Z"
   },
   {
    "duration": 30,
    "start_time": "2022-04-03T17:42:39.073Z"
   },
   {
    "duration": 1395,
    "start_time": "2022-04-03T17:42:39.106Z"
   },
   {
    "duration": 120,
    "start_time": "2022-04-03T17:42:40.502Z"
   },
   {
    "duration": 5,
    "start_time": "2022-04-03T17:42:40.624Z"
   },
   {
    "duration": 10029,
    "start_time": "2022-04-03T17:42:40.630Z"
   },
   {
    "duration": 20,
    "start_time": "2022-04-03T17:42:50.660Z"
   },
   {
    "duration": 63,
    "start_time": "2022-04-03T17:42:50.682Z"
   },
   {
    "duration": 511,
    "start_time": "2022-04-03T17:42:50.746Z"
   },
   {
    "duration": 0,
    "start_time": "2022-04-03T17:42:51.258Z"
   },
   {
    "duration": 0,
    "start_time": "2022-04-03T17:42:51.260Z"
   },
   {
    "duration": 0,
    "start_time": "2022-04-03T17:42:51.261Z"
   },
   {
    "duration": 0,
    "start_time": "2022-04-03T17:42:51.262Z"
   },
   {
    "duration": 1541,
    "start_time": "2022-04-03T17:43:58.159Z"
   },
   {
    "duration": 333,
    "start_time": "2022-04-03T17:43:59.706Z"
   },
   {
    "duration": 62,
    "start_time": "2022-04-03T17:44:00.041Z"
   },
   {
    "duration": 5,
    "start_time": "2022-04-03T17:44:00.106Z"
   },
   {
    "duration": 245,
    "start_time": "2022-04-03T17:44:00.113Z"
   },
   {
    "duration": 62,
    "start_time": "2022-04-03T17:44:00.360Z"
   },
   {
    "duration": 16,
    "start_time": "2022-04-03T17:44:00.424Z"
   },
   {
    "duration": 22,
    "start_time": "2022-04-03T17:44:00.442Z"
   },
   {
    "duration": 5,
    "start_time": "2022-04-03T17:44:00.465Z"
   },
   {
    "duration": 1483,
    "start_time": "2022-04-03T17:44:00.472Z"
   },
   {
    "duration": 117,
    "start_time": "2022-04-03T17:44:01.957Z"
   },
   {
    "duration": 5,
    "start_time": "2022-04-03T17:44:02.076Z"
   },
   {
    "duration": 10381,
    "start_time": "2022-04-03T17:44:02.083Z"
   },
   {
    "duration": 15,
    "start_time": "2022-04-03T17:44:12.466Z"
   },
   {
    "duration": 70,
    "start_time": "2022-04-03T17:44:12.483Z"
   },
   {
    "duration": 587,
    "start_time": "2022-04-03T17:44:12.555Z"
   },
   {
    "duration": 38450,
    "start_time": "2022-04-03T17:44:13.144Z"
   },
   {
    "duration": 808963,
    "start_time": "2022-04-03T17:44:51.601Z"
   },
   {
    "duration": 4085,
    "start_time": "2022-04-03T17:58:20.566Z"
   },
   {
    "duration": 132,
    "start_time": "2022-04-03T17:58:24.653Z"
   },
   {
    "duration": 26,
    "start_time": "2022-04-03T18:33:29.310Z"
   },
   {
    "duration": 28,
    "start_time": "2022-04-03T18:35:50.912Z"
   },
   {
    "duration": 313,
    "start_time": "2022-04-03T18:37:00.397Z"
   },
   {
    "duration": 17,
    "start_time": "2022-04-03T18:37:11.119Z"
   },
   {
    "duration": 39,
    "start_time": "2022-04-03T18:37:11.687Z"
   },
   {
    "duration": 393,
    "start_time": "2022-04-03T18:37:13.791Z"
   },
   {
    "duration": 1447,
    "start_time": "2022-04-03T18:37:24.226Z"
   },
   {
    "duration": 295,
    "start_time": "2022-04-03T18:37:25.674Z"
   },
   {
    "duration": 60,
    "start_time": "2022-04-03T18:37:25.970Z"
   },
   {
    "duration": 3,
    "start_time": "2022-04-03T18:37:26.032Z"
   },
   {
    "duration": 355,
    "start_time": "2022-04-03T18:37:26.037Z"
   },
   {
    "duration": 56,
    "start_time": "2022-04-03T18:37:26.394Z"
   },
   {
    "duration": 13,
    "start_time": "2022-04-03T18:37:26.452Z"
   },
   {
    "duration": 37,
    "start_time": "2022-04-03T18:37:26.466Z"
   },
   {
    "duration": 5,
    "start_time": "2022-04-03T18:37:26.505Z"
   },
   {
    "duration": 1260,
    "start_time": "2022-04-03T18:37:26.512Z"
   },
   {
    "duration": 101,
    "start_time": "2022-04-03T18:37:27.774Z"
   },
   {
    "duration": 6,
    "start_time": "2022-04-03T18:37:27.876Z"
   },
   {
    "duration": 9445,
    "start_time": "2022-04-03T18:37:27.884Z"
   },
   {
    "duration": 16,
    "start_time": "2022-04-03T18:37:37.332Z"
   },
   {
    "duration": 61,
    "start_time": "2022-04-03T18:37:37.350Z"
   },
   {
    "duration": 488,
    "start_time": "2022-04-03T18:37:37.413Z"
   },
   {
    "duration": 38287,
    "start_time": "2022-04-03T18:37:37.903Z"
   },
   {
    "duration": 874626,
    "start_time": "2022-04-03T18:38:16.200Z"
   },
   {
    "duration": 3601,
    "start_time": "2022-04-03T18:52:50.828Z"
   },
   {
    "duration": 131,
    "start_time": "2022-04-03T18:52:54.430Z"
   },
   {
    "duration": 0,
    "start_time": "2022-04-03T18:52:54.562Z"
   },
   {
    "duration": 17517,
    "start_time": "2022-04-03T19:16:06.360Z"
   },
   {
    "duration": 11270,
    "start_time": "2022-04-03T20:19:43.172Z"
   },
   {
    "duration": 25,
    "start_time": "2022-04-03T20:20:54.734Z"
   },
   {
    "duration": 6,
    "start_time": "2022-04-03T20:23:13.079Z"
   },
   {
    "duration": 10546,
    "start_time": "2022-04-03T20:23:13.920Z"
   },
   {
    "duration": 4,
    "start_time": "2022-04-03T20:47:14.949Z"
   },
   {
    "duration": 6,
    "start_time": "2022-04-03T20:50:56.133Z"
   },
   {
    "duration": 10131,
    "start_time": "2022-04-03T20:51:00.863Z"
   },
   {
    "duration": 26,
    "start_time": "2022-04-03T20:52:28.248Z"
   },
   {
    "duration": 29,
    "start_time": "2022-04-03T20:53:06.112Z"
   },
   {
    "duration": 9962,
    "start_time": "2022-04-03T20:53:18.360Z"
   },
   {
    "duration": 10,
    "start_time": "2022-04-03T22:17:27.147Z"
   },
   {
    "duration": 10244,
    "start_time": "2022-04-03T22:18:59.413Z"
   },
   {
    "duration": 10115,
    "start_time": "2022-04-03T22:19:37.982Z"
   },
   {
    "duration": 19,
    "start_time": "2022-04-03T22:20:43.652Z"
   },
   {
    "duration": 52,
    "start_time": "2022-04-03T22:21:32.092Z"
   },
   {
    "duration": 33,
    "start_time": "2022-04-03T22:21:49.838Z"
   },
   {
    "duration": 37,
    "start_time": "2022-04-03T22:22:06.598Z"
   },
   {
    "duration": 63,
    "start_time": "2022-04-03T22:39:33.766Z"
   },
   {
    "duration": 27,
    "start_time": "2022-04-03T22:40:51.362Z"
   },
   {
    "duration": 1487,
    "start_time": "2022-04-03T23:49:08.389Z"
   },
   {
    "duration": 321,
    "start_time": "2022-04-03T23:49:09.878Z"
   },
   {
    "duration": 54,
    "start_time": "2022-04-03T23:49:10.200Z"
   },
   {
    "duration": 3,
    "start_time": "2022-04-03T23:49:10.257Z"
   },
   {
    "duration": 321,
    "start_time": "2022-04-03T23:49:10.262Z"
   },
   {
    "duration": 62,
    "start_time": "2022-04-03T23:49:10.585Z"
   },
   {
    "duration": 13,
    "start_time": "2022-04-03T23:49:10.649Z"
   },
   {
    "duration": 37,
    "start_time": "2022-04-03T23:49:10.664Z"
   },
   {
    "duration": 5,
    "start_time": "2022-04-03T23:49:10.703Z"
   },
   {
    "duration": 1310,
    "start_time": "2022-04-03T23:49:10.710Z"
   },
   {
    "duration": 108,
    "start_time": "2022-04-03T23:49:12.021Z"
   },
   {
    "duration": 7,
    "start_time": "2022-04-03T23:49:12.131Z"
   },
   {
    "duration": 9818,
    "start_time": "2022-04-03T23:49:12.139Z"
   },
   {
    "duration": 17,
    "start_time": "2022-04-03T23:49:21.959Z"
   },
   {
    "duration": 58,
    "start_time": "2022-04-03T23:49:21.978Z"
   },
   {
    "duration": 509,
    "start_time": "2022-04-03T23:49:22.037Z"
   },
   {
    "duration": 34872,
    "start_time": "2022-04-03T23:49:22.548Z"
   },
   {
    "duration": 746669,
    "start_time": "2022-04-03T23:49:57.422Z"
   },
   {
    "duration": 3499,
    "start_time": "2022-04-04T00:02:24.093Z"
   },
   {
    "duration": 10086,
    "start_time": "2022-04-04T00:02:27.594Z"
   },
   {
    "duration": 68,
    "start_time": "2022-04-04T00:02:37.682Z"
   },
   {
    "duration": 1830,
    "start_time": "2022-04-05T09:08:47.462Z"
   },
   {
    "duration": 305,
    "start_time": "2022-04-05T09:08:49.294Z"
   },
   {
    "duration": 53,
    "start_time": "2022-04-05T09:08:49.600Z"
   },
   {
    "duration": 3,
    "start_time": "2022-04-05T09:08:49.655Z"
   },
   {
    "duration": 300,
    "start_time": "2022-04-05T09:08:49.660Z"
   },
   {
    "duration": 59,
    "start_time": "2022-04-05T09:08:49.962Z"
   },
   {
    "duration": 12,
    "start_time": "2022-04-05T09:08:50.023Z"
   },
   {
    "duration": 19,
    "start_time": "2022-04-05T09:08:50.037Z"
   },
   {
    "duration": 25,
    "start_time": "2022-04-05T09:08:50.057Z"
   },
   {
    "duration": 1222,
    "start_time": "2022-04-05T09:08:50.085Z"
   },
   {
    "duration": 92,
    "start_time": "2022-04-05T09:08:51.309Z"
   },
   {
    "duration": 5,
    "start_time": "2022-04-05T09:08:51.403Z"
   },
   {
    "duration": 9195,
    "start_time": "2022-04-05T09:08:51.410Z"
   },
   {
    "duration": 16,
    "start_time": "2022-04-05T09:09:00.607Z"
   },
   {
    "duration": 97,
    "start_time": "2022-04-05T09:09:00.624Z"
   },
   {
    "duration": 299,
    "start_time": "2022-04-05T09:09:00.723Z"
   },
   {
    "duration": 0,
    "start_time": "2022-04-05T09:09:01.024Z"
   },
   {
    "duration": 0,
    "start_time": "2022-04-05T09:09:01.025Z"
   },
   {
    "duration": 0,
    "start_time": "2022-04-05T09:09:01.026Z"
   },
   {
    "duration": 0,
    "start_time": "2022-04-05T09:09:01.026Z"
   },
   {
    "duration": 0,
    "start_time": "2022-04-05T09:09:01.027Z"
   },
   {
    "duration": 458,
    "start_time": "2022-04-05T09:40:12.814Z"
   },
   {
    "duration": 206,
    "start_time": "2022-04-05T09:40:31.879Z"
   },
   {
    "duration": 357,
    "start_time": "2022-04-05T09:40:51.166Z"
   },
   {
    "duration": 1645,
    "start_time": "2022-04-06T19:32:26.341Z"
   },
   {
    "duration": 273,
    "start_time": "2022-04-06T19:32:27.988Z"
   },
   {
    "duration": 61,
    "start_time": "2022-04-06T19:32:28.263Z"
   },
   {
    "duration": 3,
    "start_time": "2022-04-06T19:32:28.326Z"
   },
   {
    "duration": 296,
    "start_time": "2022-04-06T19:32:28.330Z"
   },
   {
    "duration": 57,
    "start_time": "2022-04-06T19:32:28.628Z"
   },
   {
    "duration": 11,
    "start_time": "2022-04-06T19:32:28.686Z"
   },
   {
    "duration": 18,
    "start_time": "2022-04-06T19:32:28.699Z"
   },
   {
    "duration": 4,
    "start_time": "2022-04-06T19:32:28.718Z"
   },
   {
    "duration": 1292,
    "start_time": "2022-04-06T19:32:28.725Z"
   },
   {
    "duration": 95,
    "start_time": "2022-04-06T19:32:30.019Z"
   },
   {
    "duration": 6,
    "start_time": "2022-04-06T19:32:30.116Z"
   },
   {
    "duration": 9014,
    "start_time": "2022-04-06T19:32:30.124Z"
   },
   {
    "duration": 16,
    "start_time": "2022-04-06T19:32:39.139Z"
   },
   {
    "duration": 60,
    "start_time": "2022-04-06T19:32:39.157Z"
   },
   {
    "duration": 450,
    "start_time": "2022-04-06T19:32:39.218Z"
   },
   {
    "duration": 0,
    "start_time": "2022-04-06T19:32:39.669Z"
   },
   {
    "duration": 0,
    "start_time": "2022-04-06T19:32:39.671Z"
   },
   {
    "duration": 0,
    "start_time": "2022-04-06T19:32:39.671Z"
   },
   {
    "duration": 0,
    "start_time": "2022-04-06T19:32:39.672Z"
   },
   {
    "duration": 0,
    "start_time": "2022-04-06T19:32:39.680Z"
   },
   {
    "duration": 2347,
    "start_time": "2022-04-07T12:50:17.349Z"
   },
   {
    "duration": 927,
    "start_time": "2022-04-07T12:50:19.699Z"
   },
   {
    "duration": 94,
    "start_time": "2022-04-07T12:50:20.628Z"
   },
   {
    "duration": 5,
    "start_time": "2022-04-07T12:50:20.725Z"
   },
   {
    "duration": 469,
    "start_time": "2022-04-07T12:50:20.732Z"
   },
   {
    "duration": 95,
    "start_time": "2022-04-07T12:50:21.204Z"
   },
   {
    "duration": 17,
    "start_time": "2022-04-07T12:50:21.301Z"
   },
   {
    "duration": 27,
    "start_time": "2022-04-07T12:50:21.321Z"
   },
   {
    "duration": 37,
    "start_time": "2022-04-07T12:50:21.351Z"
   },
   {
    "duration": 2220,
    "start_time": "2022-04-07T12:50:21.394Z"
   },
   {
    "duration": 176,
    "start_time": "2022-04-07T12:50:23.617Z"
   },
   {
    "duration": 12,
    "start_time": "2022-04-07T12:50:23.796Z"
   },
   {
    "duration": 19922,
    "start_time": "2022-04-07T12:50:23.811Z"
   },
   {
    "duration": 23,
    "start_time": "2022-04-07T12:50:43.735Z"
   },
   {
    "duration": 80,
    "start_time": "2022-04-07T12:50:43.762Z"
   },
   {
    "duration": 755,
    "start_time": "2022-04-07T12:50:43.844Z"
   },
   {
    "duration": 0,
    "start_time": "2022-04-07T12:50:44.602Z"
   },
   {
    "duration": 0,
    "start_time": "2022-04-07T12:50:44.604Z"
   },
   {
    "duration": 0,
    "start_time": "2022-04-07T12:50:44.606Z"
   },
   {
    "duration": 0,
    "start_time": "2022-04-07T12:50:44.607Z"
   },
   {
    "duration": 0,
    "start_time": "2022-04-07T12:50:44.609Z"
   },
   {
    "duration": 1907,
    "start_time": "2022-04-07T17:42:57.189Z"
   },
   {
    "duration": 302,
    "start_time": "2022-04-07T17:42:59.098Z"
   },
   {
    "duration": 57,
    "start_time": "2022-04-07T17:42:59.403Z"
   },
   {
    "duration": 3,
    "start_time": "2022-04-07T17:42:59.462Z"
   },
   {
    "duration": 316,
    "start_time": "2022-04-07T17:42:59.467Z"
   },
   {
    "duration": 58,
    "start_time": "2022-04-07T17:42:59.784Z"
   },
   {
    "duration": 13,
    "start_time": "2022-04-07T17:42:59.843Z"
   },
   {
    "duration": 20,
    "start_time": "2022-04-07T17:42:59.858Z"
   },
   {
    "duration": 5,
    "start_time": "2022-04-07T17:42:59.901Z"
   },
   {
    "duration": 1359,
    "start_time": "2022-04-07T17:42:59.909Z"
   },
   {
    "duration": 98,
    "start_time": "2022-04-07T17:43:01.270Z"
   },
   {
    "duration": 7,
    "start_time": "2022-04-07T17:43:01.369Z"
   },
   {
    "duration": 10180,
    "start_time": "2022-04-07T17:43:01.378Z"
   },
   {
    "duration": 0,
    "start_time": "2022-04-07T17:43:11.560Z"
   },
   {
    "duration": 0,
    "start_time": "2022-04-07T17:43:11.561Z"
   },
   {
    "duration": 0,
    "start_time": "2022-04-07T17:43:11.562Z"
   },
   {
    "duration": 0,
    "start_time": "2022-04-07T17:43:11.563Z"
   },
   {
    "duration": 0,
    "start_time": "2022-04-07T17:43:11.564Z"
   },
   {
    "duration": 0,
    "start_time": "2022-04-07T17:43:11.565Z"
   },
   {
    "duration": 0,
    "start_time": "2022-04-07T17:43:11.566Z"
   },
   {
    "duration": 0,
    "start_time": "2022-04-07T17:43:11.567Z"
   },
   {
    "duration": 10669,
    "start_time": "2022-04-07T19:19:24.278Z"
   },
   {
    "duration": 17,
    "start_time": "2022-04-07T19:19:34.948Z"
   },
   {
    "duration": 61,
    "start_time": "2022-04-07T19:19:34.966Z"
   },
   {
    "duration": 480,
    "start_time": "2022-04-07T19:19:43.134Z"
   },
   {
    "duration": 1566,
    "start_time": "2022-04-07T19:19:48.410Z"
   },
   {
    "duration": 327,
    "start_time": "2022-04-07T19:19:49.978Z"
   },
   {
    "duration": 58,
    "start_time": "2022-04-07T19:19:50.306Z"
   },
   {
    "duration": 4,
    "start_time": "2022-04-07T19:19:50.367Z"
   },
   {
    "duration": 343,
    "start_time": "2022-04-07T19:19:50.372Z"
   },
   {
    "duration": 63,
    "start_time": "2022-04-07T19:19:50.717Z"
   },
   {
    "duration": 26,
    "start_time": "2022-04-07T19:19:50.782Z"
   },
   {
    "duration": 21,
    "start_time": "2022-04-07T19:19:50.810Z"
   },
   {
    "duration": 5,
    "start_time": "2022-04-07T19:19:50.833Z"
   },
   {
    "duration": 1317,
    "start_time": "2022-04-07T19:19:50.841Z"
   },
   {
    "duration": 110,
    "start_time": "2022-04-07T19:19:52.159Z"
   },
   {
    "duration": 7,
    "start_time": "2022-04-07T19:19:52.271Z"
   },
   {
    "duration": 10523,
    "start_time": "2022-04-07T19:19:52.279Z"
   },
   {
    "duration": 18,
    "start_time": "2022-04-07T19:20:02.803Z"
   },
   {
    "duration": 61,
    "start_time": "2022-04-07T19:20:02.823Z"
   },
   {
    "duration": 500,
    "start_time": "2022-04-07T19:20:02.886Z"
   },
   {
    "duration": 37141,
    "start_time": "2022-04-07T19:20:03.388Z"
   },
   {
    "duration": 769154,
    "start_time": "2022-04-07T19:20:40.532Z"
   },
   {
    "duration": 3543,
    "start_time": "2022-04-07T19:33:29.687Z"
   },
   {
    "duration": 10015,
    "start_time": "2022-04-07T19:33:33.232Z"
   },
   {
    "duration": 74,
    "start_time": "2022-04-07T19:33:43.249Z"
   },
   {
    "duration": 176,
    "start_time": "2022-04-07T20:44:15.640Z"
   },
   {
    "duration": 21,
    "start_time": "2022-04-07T21:06:11.739Z"
   },
   {
    "duration": 7,
    "start_time": "2022-04-07T21:09:33.452Z"
   },
   {
    "duration": 25,
    "start_time": "2022-04-07T21:09:36.501Z"
   },
   {
    "duration": 33,
    "start_time": "2022-04-07T21:09:47.900Z"
   },
   {
    "duration": 698,
    "start_time": "2022-04-07T21:19:15.270Z"
   },
   {
    "duration": 18,
    "start_time": "2022-04-07T21:26:11.838Z"
   },
   {
    "duration": 28,
    "start_time": "2022-04-07T21:43:11.965Z"
   },
   {
    "duration": 7,
    "start_time": "2022-04-07T21:43:54.381Z"
   },
   {
    "duration": 20,
    "start_time": "2022-04-07T21:43:54.773Z"
   },
   {
    "duration": 5,
    "start_time": "2022-04-07T21:46:20.990Z"
   },
   {
    "duration": 6,
    "start_time": "2022-04-07T22:02:01.565Z"
   },
   {
    "duration": 17,
    "start_time": "2022-04-07T22:02:02.470Z"
   },
   {
    "duration": 166,
    "start_time": "2022-04-07T22:02:35.111Z"
   },
   {
    "duration": 38906,
    "start_time": "2022-04-07T22:02:41.318Z"
   },
   {
    "duration": 40770,
    "start_time": "2022-04-07T22:03:58.063Z"
   },
   {
    "duration": 38426,
    "start_time": "2022-04-07T22:05:11.120Z"
   },
   {
    "duration": 2599,
    "start_time": "2022-04-07T22:05:53.039Z"
   },
   {
    "duration": 6,
    "start_time": "2022-04-07T22:06:04.583Z"
   },
   {
    "duration": 38031,
    "start_time": "2022-04-07T22:06:21.536Z"
   },
   {
    "duration": 3,
    "start_time": "2022-04-07T22:07:34.792Z"
   },
   {
    "duration": 39029,
    "start_time": "2022-04-07T22:07:50.190Z"
   },
   {
    "duration": 1575,
    "start_time": "2022-04-08T01:27:48.725Z"
   },
   {
    "duration": 545,
    "start_time": "2022-04-08T01:27:50.302Z"
   },
   {
    "duration": 51,
    "start_time": "2022-04-08T01:27:50.849Z"
   },
   {
    "duration": 4,
    "start_time": "2022-04-08T01:27:50.902Z"
   },
   {
    "duration": 293,
    "start_time": "2022-04-08T01:27:50.907Z"
   },
   {
    "duration": 66,
    "start_time": "2022-04-08T01:27:51.201Z"
   },
   {
    "duration": 12,
    "start_time": "2022-04-08T01:27:51.269Z"
   },
   {
    "duration": 18,
    "start_time": "2022-04-08T01:27:51.283Z"
   },
   {
    "duration": 4,
    "start_time": "2022-04-08T01:27:51.302Z"
   },
   {
    "duration": 1221,
    "start_time": "2022-04-08T01:27:51.308Z"
   },
   {
    "duration": 105,
    "start_time": "2022-04-08T01:27:52.530Z"
   },
   {
    "duration": 6,
    "start_time": "2022-04-08T01:27:52.637Z"
   },
   {
    "duration": 37168,
    "start_time": "2022-04-08T01:27:52.644Z"
   },
   {
    "duration": 19,
    "start_time": "2022-04-08T01:28:29.814Z"
   },
   {
    "duration": 54,
    "start_time": "2022-04-08T01:28:29.835Z"
   },
   {
    "duration": 458,
    "start_time": "2022-04-08T01:28:29.891Z"
   },
   {
    "duration": 33547,
    "start_time": "2022-04-08T01:28:30.351Z"
   },
   {
    "duration": 691979,
    "start_time": "2022-04-08T01:29:03.900Z"
   },
   {
    "duration": 3445,
    "start_time": "2022-04-08T01:40:35.881Z"
   },
   {
    "duration": 123,
    "start_time": "2022-04-08T01:40:39.328Z"
   },
   {
    "duration": 0,
    "start_time": "2022-04-08T01:40:39.453Z"
   },
   {
    "duration": 6,
    "start_time": "2022-04-08T02:14:41.415Z"
   },
   {
    "duration": 18645,
    "start_time": "2022-04-08T02:14:55.279Z"
   },
   {
    "duration": 18993,
    "start_time": "2022-04-08T02:15:24.846Z"
   },
   {
    "duration": 19341,
    "start_time": "2022-04-08T02:16:51.999Z"
   },
   {
    "duration": 149,
    "start_time": "2022-04-08T02:17:27.981Z"
   },
   {
    "duration": 18758,
    "start_time": "2022-04-08T02:18:35.701Z"
   },
   {
    "duration": 18604,
    "start_time": "2022-04-08T02:19:49.560Z"
   },
   {
    "duration": 18621,
    "start_time": "2022-04-08T02:20:55.950Z"
   },
   {
    "duration": 107,
    "start_time": "2022-04-08T02:21:50.607Z"
   },
   {
    "duration": 37439,
    "start_time": "2022-04-08T02:22:25.317Z"
   },
   {
    "duration": 18539,
    "start_time": "2022-04-08T02:25:03.719Z"
   },
   {
    "duration": 2,
    "start_time": "2022-04-08T02:35:40.720Z"
   },
   {
    "duration": 1592,
    "start_time": "2022-04-08T11:42:34.700Z"
   },
   {
    "duration": 313,
    "start_time": "2022-04-08T11:42:36.295Z"
   },
   {
    "duration": 67,
    "start_time": "2022-04-08T11:42:36.610Z"
   },
   {
    "duration": 4,
    "start_time": "2022-04-08T11:42:36.680Z"
   },
   {
    "duration": 296,
    "start_time": "2022-04-08T11:42:36.686Z"
   },
   {
    "duration": 62,
    "start_time": "2022-04-08T11:42:36.984Z"
   },
   {
    "duration": 25,
    "start_time": "2022-04-08T11:42:37.048Z"
   },
   {
    "duration": 19,
    "start_time": "2022-04-08T11:42:37.075Z"
   },
   {
    "duration": 5,
    "start_time": "2022-04-08T11:42:37.096Z"
   },
   {
    "duration": 1291,
    "start_time": "2022-04-08T11:42:37.104Z"
   },
   {
    "duration": 113,
    "start_time": "2022-04-08T11:42:38.397Z"
   },
   {
    "duration": 8,
    "start_time": "2022-04-08T11:42:38.511Z"
   },
   {
    "duration": 40038,
    "start_time": "2022-04-08T11:42:38.521Z"
   },
   {
    "duration": 20,
    "start_time": "2022-04-08T11:43:18.561Z"
   },
   {
    "duration": 33,
    "start_time": "2022-04-08T11:43:18.583Z"
   },
   {
    "duration": 452,
    "start_time": "2022-04-08T11:43:18.618Z"
   },
   {
    "duration": 31760,
    "start_time": "2022-04-08T11:43:19.072Z"
   },
   {
    "duration": 710088,
    "start_time": "2022-04-08T11:43:50.834Z"
   },
   {
    "duration": 3795,
    "start_time": "2022-04-08T11:55:40.924Z"
   },
   {
    "duration": 3,
    "start_time": "2022-04-08T11:55:44.721Z"
   },
   {
    "duration": 110,
    "start_time": "2022-04-08T11:55:44.725Z"
   },
   {
    "duration": 0,
    "start_time": "2022-04-08T11:55:44.836Z"
   },
   {
    "duration": 40857,
    "start_time": "2022-04-08T12:26:20.703Z"
   },
   {
    "duration": 40670,
    "start_time": "2022-04-08T12:32:19.696Z"
   },
   {
    "duration": 20176,
    "start_time": "2022-04-08T12:41:49.034Z"
   },
   {
    "duration": 36209,
    "start_time": "2022-04-08T12:42:55.909Z"
   },
   {
    "duration": 148,
    "start_time": "2022-04-08T12:54:06.894Z"
   },
   {
    "duration": 356,
    "start_time": "2022-04-08T12:55:21.087Z"
   },
   {
    "duration": 3,
    "start_time": "2022-04-08T13:18:18.737Z"
   },
   {
    "duration": 265,
    "start_time": "2022-04-08T13:19:32.554Z"
   },
   {
    "duration": 145,
    "start_time": "2022-04-08T13:22:53.929Z"
   },
   {
    "duration": 12,
    "start_time": "2022-04-08T13:46:19.048Z"
   },
   {
    "duration": 24,
    "start_time": "2022-04-08T13:46:53.548Z"
   },
   {
    "duration": 11,
    "start_time": "2022-04-08T13:48:55.666Z"
   },
   {
    "duration": 72,
    "start_time": "2022-04-08T13:50:44.113Z"
   },
   {
    "duration": 407,
    "start_time": "2022-04-08T13:50:59.670Z"
   },
   {
    "duration": 538,
    "start_time": "2022-04-08T13:52:53.650Z"
   },
   {
    "duration": 815,
    "start_time": "2022-04-08T14:00:36.078Z"
   },
   {
    "duration": 779,
    "start_time": "2022-04-08T14:01:40.605Z"
   },
   {
    "duration": 553,
    "start_time": "2022-04-08T14:02:38.563Z"
   },
   {
    "duration": 676,
    "start_time": "2022-04-08T14:02:44.929Z"
   },
   {
    "duration": 740,
    "start_time": "2022-04-08T14:02:59.390Z"
   },
   {
    "duration": 753,
    "start_time": "2022-04-08T14:03:55.668Z"
   },
   {
    "duration": 785,
    "start_time": "2022-04-08T14:04:14.254Z"
   },
   {
    "duration": 779,
    "start_time": "2022-04-08T14:04:27.909Z"
   },
   {
    "duration": 1400,
    "start_time": "2022-04-08T14:06:35.759Z"
   },
   {
    "duration": 371,
    "start_time": "2022-04-08T14:06:37.162Z"
   },
   {
    "duration": 50,
    "start_time": "2022-04-08T14:06:37.535Z"
   },
   {
    "duration": 3,
    "start_time": "2022-04-08T14:06:37.587Z"
   },
   {
    "duration": 259,
    "start_time": "2022-04-08T14:06:37.591Z"
   },
   {
    "duration": 52,
    "start_time": "2022-04-08T14:06:37.852Z"
   },
   {
    "duration": 11,
    "start_time": "2022-04-08T14:06:37.906Z"
   },
   {
    "duration": 17,
    "start_time": "2022-04-08T14:06:37.918Z"
   },
   {
    "duration": 4,
    "start_time": "2022-04-08T14:06:37.937Z"
   },
   {
    "duration": 1260,
    "start_time": "2022-04-08T14:06:37.943Z"
   },
   {
    "duration": 90,
    "start_time": "2022-04-08T14:06:39.205Z"
   },
   {
    "duration": 7,
    "start_time": "2022-04-08T14:06:39.296Z"
   },
   {
    "duration": 41812,
    "start_time": "2022-04-08T14:06:39.304Z"
   },
   {
    "duration": 15,
    "start_time": "2022-04-08T14:07:21.117Z"
   },
   {
    "duration": 3,
    "start_time": "2022-04-08T14:07:21.133Z"
   },
   {
    "duration": 13,
    "start_time": "2022-04-08T14:07:21.138Z"
   },
   {
    "duration": 1132,
    "start_time": "2022-04-08T14:07:21.153Z"
   },
   {
    "duration": 170,
    "start_time": "2022-04-08T14:07:22.287Z"
   },
   {
    "duration": 0,
    "start_time": "2022-04-08T14:07:22.459Z"
   },
   {
    "duration": 0,
    "start_time": "2022-04-08T14:07:22.461Z"
   },
   {
    "duration": 0,
    "start_time": "2022-04-08T14:07:22.470Z"
   },
   {
    "duration": 0,
    "start_time": "2022-04-08T14:07:22.472Z"
   },
   {
    "duration": 59,
    "start_time": "2022-04-08T14:09:10.352Z"
   },
   {
    "duration": 718,
    "start_time": "2022-04-08T14:10:54.038Z"
   },
   {
    "duration": 37,
    "start_time": "2022-04-08T14:10:58.469Z"
   },
   {
    "duration": 6,
    "start_time": "2022-04-08T14:11:47.806Z"
   },
   {
    "duration": 23,
    "start_time": "2022-04-08T14:11:54.220Z"
   },
   {
    "duration": 24,
    "start_time": "2022-04-08T14:12:02.536Z"
   },
   {
    "duration": 25,
    "start_time": "2022-04-08T14:12:33.015Z"
   },
   {
    "duration": 25,
    "start_time": "2022-04-08T14:12:40.118Z"
   },
   {
    "duration": 875,
    "start_time": "2022-04-08T14:12:45.680Z"
   },
   {
    "duration": 25,
    "start_time": "2022-04-08T14:12:47.087Z"
   },
   {
    "duration": 27,
    "start_time": "2022-04-08T14:12:54.502Z"
   },
   {
    "duration": 41,
    "start_time": "2022-04-08T14:13:10.301Z"
   },
   {
    "duration": 32,
    "start_time": "2022-04-08T14:13:51.943Z"
   },
   {
    "duration": 78,
    "start_time": "2022-04-08T14:14:18.015Z"
   },
   {
    "duration": 25,
    "start_time": "2022-04-08T14:14:26.294Z"
   },
   {
    "duration": 498,
    "start_time": "2022-04-08T14:14:33.614Z"
   },
   {
    "duration": 959,
    "start_time": "2022-04-08T14:14:40.147Z"
   },
   {
    "duration": 22,
    "start_time": "2022-04-08T14:14:46.487Z"
   },
   {
    "duration": 79,
    "start_time": "2022-04-08T14:14:52.296Z"
   },
   {
    "duration": 841,
    "start_time": "2022-04-08T14:15:43.550Z"
   },
   {
    "duration": 82,
    "start_time": "2022-04-08T14:15:45.327Z"
   },
   {
    "duration": 391,
    "start_time": "2022-04-08T14:15:52.167Z"
   },
   {
    "duration": 51,
    "start_time": "2022-04-08T14:15:53.111Z"
   },
   {
    "duration": 824,
    "start_time": "2022-04-08T14:16:59.646Z"
   },
   {
    "duration": 84,
    "start_time": "2022-04-08T14:17:00.799Z"
   },
   {
    "duration": 24,
    "start_time": "2022-04-08T14:17:13.001Z"
   },
   {
    "duration": 22,
    "start_time": "2022-04-08T14:17:19.406Z"
   },
   {
    "duration": 760,
    "start_time": "2022-04-08T14:18:25.781Z"
   },
   {
    "duration": 24,
    "start_time": "2022-04-08T14:18:30.650Z"
   },
   {
    "duration": 415,
    "start_time": "2022-04-08T14:18:39.350Z"
   },
   {
    "duration": 420,
    "start_time": "2022-04-08T14:18:46.769Z"
   },
   {
    "duration": 21,
    "start_time": "2022-04-08T14:18:48.247Z"
   },
   {
    "duration": 21975,
    "start_time": "2022-04-08T14:19:03.567Z"
   },
   {
    "duration": 1479,
    "start_time": "2022-04-08T14:19:30.519Z"
   },
   {
    "duration": 260,
    "start_time": "2022-04-08T14:19:32.000Z"
   },
   {
    "duration": 55,
    "start_time": "2022-04-08T14:19:32.262Z"
   },
   {
    "duration": 3,
    "start_time": "2022-04-08T14:19:32.320Z"
   },
   {
    "duration": 263,
    "start_time": "2022-04-08T14:19:32.325Z"
   },
   {
    "duration": 53,
    "start_time": "2022-04-08T14:19:32.589Z"
   },
   {
    "duration": 12,
    "start_time": "2022-04-08T14:19:32.644Z"
   },
   {
    "duration": 18,
    "start_time": "2022-04-08T14:19:32.670Z"
   },
   {
    "duration": 5,
    "start_time": "2022-04-08T14:19:32.690Z"
   },
   {
    "duration": 1201,
    "start_time": "2022-04-08T14:19:32.698Z"
   },
   {
    "duration": 99,
    "start_time": "2022-04-08T14:19:33.901Z"
   },
   {
    "duration": 9,
    "start_time": "2022-04-08T14:19:34.002Z"
   },
   {
    "duration": 37535,
    "start_time": "2022-04-08T14:19:34.012Z"
   },
   {
    "duration": 28,
    "start_time": "2022-04-08T14:20:11.549Z"
   },
   {
    "duration": 2,
    "start_time": "2022-04-08T14:20:11.579Z"
   },
   {
    "duration": 19,
    "start_time": "2022-04-08T14:20:11.582Z"
   },
   {
    "duration": 487,
    "start_time": "2022-04-08T14:20:11.602Z"
   },
   {
    "duration": 31368,
    "start_time": "2022-04-08T14:20:12.091Z"
   },
   {
    "duration": 0,
    "start_time": "2022-04-08T14:20:43.460Z"
   },
   {
    "duration": 0,
    "start_time": "2022-04-08T14:20:43.461Z"
   },
   {
    "duration": 0,
    "start_time": "2022-04-08T14:20:43.462Z"
   },
   {
    "duration": 0,
    "start_time": "2022-04-08T14:20:43.470Z"
   },
   {
    "duration": 483,
    "start_time": "2022-04-08T14:21:32.170Z"
   },
   {
    "duration": 1306,
    "start_time": "2022-04-08T14:21:38.909Z"
   },
   {
    "duration": 262,
    "start_time": "2022-04-08T14:21:40.217Z"
   },
   {
    "duration": 49,
    "start_time": "2022-04-08T14:21:40.480Z"
   },
   {
    "duration": 3,
    "start_time": "2022-04-08T14:21:40.531Z"
   },
   {
    "duration": 265,
    "start_time": "2022-04-08T14:21:40.536Z"
   },
   {
    "duration": 51,
    "start_time": "2022-04-08T14:21:40.802Z"
   },
   {
    "duration": 21,
    "start_time": "2022-04-08T14:21:40.855Z"
   },
   {
    "duration": 15,
    "start_time": "2022-04-08T14:21:40.878Z"
   },
   {
    "duration": 4,
    "start_time": "2022-04-08T14:21:40.895Z"
   },
   {
    "duration": 1177,
    "start_time": "2022-04-08T14:21:40.901Z"
   },
   {
    "duration": 91,
    "start_time": "2022-04-08T14:21:42.079Z"
   },
   {
    "duration": 6,
    "start_time": "2022-04-08T14:21:42.172Z"
   },
   {
    "duration": 37299,
    "start_time": "2022-04-08T14:21:42.180Z"
   },
   {
    "duration": 17,
    "start_time": "2022-04-08T14:22:19.481Z"
   },
   {
    "duration": 2,
    "start_time": "2022-04-08T14:22:19.499Z"
   },
   {
    "duration": 6,
    "start_time": "2022-04-08T14:22:19.502Z"
   },
   {
    "duration": 509,
    "start_time": "2022-04-08T14:22:19.509Z"
   },
   {
    "duration": 31550,
    "start_time": "2022-04-08T14:22:20.020Z"
   },
   {
    "duration": 716613,
    "start_time": "2022-04-08T14:22:51.572Z"
   },
   {
    "duration": 3089,
    "start_time": "2022-04-08T14:34:48.187Z"
   },
   {
    "duration": 182,
    "start_time": "2022-04-08T14:34:51.278Z"
   },
   {
    "duration": 0,
    "start_time": "2022-04-08T14:34:51.471Z"
   },
   {
    "duration": 228,
    "start_time": "2022-04-08T14:59:50.646Z"
   },
   {
    "duration": 19954,
    "start_time": "2022-04-08T15:01:03.286Z"
   },
   {
    "duration": 20715,
    "start_time": "2022-04-08T15:02:15.359Z"
   },
   {
    "duration": 121,
    "start_time": "2022-04-08T15:14:18.096Z"
   },
   {
    "duration": 456,
    "start_time": "2022-04-08T15:14:21.744Z"
   },
   {
    "duration": 19987,
    "start_time": "2022-04-08T15:14:25.184Z"
   },
   {
    "duration": 1807,
    "start_time": "2022-04-08T15:15:06.192Z"
   },
   {
    "duration": 31,
    "start_time": "2022-04-08T15:15:25.489Z"
   },
   {
    "duration": 1998,
    "start_time": "2022-04-08T15:16:55.434Z"
   },
   {
    "duration": 2073,
    "start_time": "2022-04-08T15:17:10.785Z"
   },
   {
    "duration": 1958,
    "start_time": "2022-04-08T15:17:26.632Z"
   },
   {
    "duration": 1691,
    "start_time": "2022-04-08T15:17:35.433Z"
   },
   {
    "duration": 1833,
    "start_time": "2022-04-08T15:19:16.930Z"
   },
   {
    "duration": 2134,
    "start_time": "2022-04-08T15:19:35.248Z"
   },
   {
    "duration": 28,
    "start_time": "2022-04-08T15:19:40.505Z"
   },
   {
    "duration": 344,
    "start_time": "2022-04-08T15:22:13.882Z"
   },
   {
    "duration": 36620,
    "start_time": "2022-04-08T15:22:18.209Z"
   },
   {
    "duration": 30,
    "start_time": "2022-04-08T15:23:52.105Z"
   },
   {
    "duration": 1270,
    "start_time": "2022-04-08T15:24:40.482Z"
   },
   {
    "duration": 253,
    "start_time": "2022-04-08T15:24:41.754Z"
   },
   {
    "duration": 49,
    "start_time": "2022-04-08T15:24:42.008Z"
   },
   {
    "duration": 12,
    "start_time": "2022-04-08T15:24:42.059Z"
   },
   {
    "duration": 257,
    "start_time": "2022-04-08T15:24:42.072Z"
   },
   {
    "duration": 52,
    "start_time": "2022-04-08T15:24:42.330Z"
   },
   {
    "duration": 12,
    "start_time": "2022-04-08T15:24:42.383Z"
   },
   {
    "duration": 15,
    "start_time": "2022-04-08T15:24:42.396Z"
   },
   {
    "duration": 3,
    "start_time": "2022-04-08T15:24:42.413Z"
   },
   {
    "duration": 1168,
    "start_time": "2022-04-08T15:24:42.418Z"
   },
   {
    "duration": 88,
    "start_time": "2022-04-08T15:24:43.587Z"
   },
   {
    "duration": 6,
    "start_time": "2022-04-08T15:24:43.677Z"
   },
   {
    "duration": 36239,
    "start_time": "2022-04-08T15:24:43.685Z"
   },
   {
    "duration": 17,
    "start_time": "2022-04-08T15:25:19.926Z"
   },
   {
    "duration": 3,
    "start_time": "2022-04-08T15:25:19.945Z"
   },
   {
    "duration": 4,
    "start_time": "2022-04-08T15:25:19.949Z"
   },
   {
    "duration": 367,
    "start_time": "2022-04-08T15:25:19.971Z"
   },
   {
    "duration": 34905,
    "start_time": "2022-04-08T15:25:20.339Z"
   },
   {
    "duration": 768811,
    "start_time": "2022-04-08T15:25:55.246Z"
   },
   {
    "duration": 2422,
    "start_time": "2022-04-08T15:38:44.058Z"
   },
   {
    "duration": 211,
    "start_time": "2022-04-08T15:38:46.570Z"
   },
   {
    "duration": 0,
    "start_time": "2022-04-08T15:38:46.782Z"
   },
   {
    "duration": 1327,
    "start_time": "2022-04-08T16:16:32.228Z"
   },
   {
    "duration": 256,
    "start_time": "2022-04-08T16:16:33.557Z"
   },
   {
    "duration": 48,
    "start_time": "2022-04-08T16:16:33.815Z"
   },
   {
    "duration": 3,
    "start_time": "2022-04-08T16:16:33.870Z"
   },
   {
    "duration": 261,
    "start_time": "2022-04-08T16:16:33.874Z"
   },
   {
    "duration": 56,
    "start_time": "2022-04-08T16:16:34.137Z"
   },
   {
    "duration": 12,
    "start_time": "2022-04-08T16:16:34.195Z"
   },
   {
    "duration": 16,
    "start_time": "2022-04-08T16:16:34.208Z"
   },
   {
    "duration": 4,
    "start_time": "2022-04-08T16:16:34.226Z"
   },
   {
    "duration": 1179,
    "start_time": "2022-04-08T16:16:34.232Z"
   },
   {
    "duration": 92,
    "start_time": "2022-04-08T16:16:35.413Z"
   },
   {
    "duration": 7,
    "start_time": "2022-04-08T16:16:35.506Z"
   },
   {
    "duration": 37008,
    "start_time": "2022-04-08T16:16:35.514Z"
   },
   {
    "duration": 16,
    "start_time": "2022-04-08T16:17:12.523Z"
   },
   {
    "duration": 2,
    "start_time": "2022-04-08T16:17:12.541Z"
   },
   {
    "duration": 7,
    "start_time": "2022-04-08T16:17:12.544Z"
   },
   {
    "duration": 114,
    "start_time": "2022-04-08T16:17:12.552Z"
   },
   {
    "duration": 0,
    "start_time": "2022-04-08T16:17:12.667Z"
   },
   {
    "duration": 0,
    "start_time": "2022-04-08T16:17:12.670Z"
   },
   {
    "duration": 0,
    "start_time": "2022-04-08T16:17:12.671Z"
   },
   {
    "duration": 0,
    "start_time": "2022-04-08T16:17:12.672Z"
   },
   {
    "duration": 0,
    "start_time": "2022-04-08T16:17:12.673Z"
   },
   {
    "duration": 358,
    "start_time": "2022-04-08T16:17:49.362Z"
   },
   {
    "duration": 1258,
    "start_time": "2022-04-08T16:17:55.201Z"
   },
   {
    "duration": 255,
    "start_time": "2022-04-08T16:17:56.461Z"
   },
   {
    "duration": 57,
    "start_time": "2022-04-08T16:17:56.718Z"
   },
   {
    "duration": 3,
    "start_time": "2022-04-08T16:17:56.777Z"
   },
   {
    "duration": 271,
    "start_time": "2022-04-08T16:17:56.781Z"
   },
   {
    "duration": 57,
    "start_time": "2022-04-08T16:17:57.054Z"
   },
   {
    "duration": 11,
    "start_time": "2022-04-08T16:17:57.113Z"
   },
   {
    "duration": 19,
    "start_time": "2022-04-08T16:17:57.126Z"
   },
   {
    "duration": 4,
    "start_time": "2022-04-08T16:17:57.147Z"
   },
   {
    "duration": 1283,
    "start_time": "2022-04-08T16:17:57.171Z"
   },
   {
    "duration": 119,
    "start_time": "2022-04-08T16:17:58.456Z"
   },
   {
    "duration": 9,
    "start_time": "2022-04-08T16:17:58.577Z"
   },
   {
    "duration": 37013,
    "start_time": "2022-04-08T16:17:58.588Z"
   },
   {
    "duration": 17,
    "start_time": "2022-04-08T16:18:35.603Z"
   },
   {
    "duration": 8,
    "start_time": "2022-04-08T16:18:35.621Z"
   },
   {
    "duration": 9,
    "start_time": "2022-04-08T16:18:35.631Z"
   },
   {
    "duration": 393,
    "start_time": "2022-04-08T16:18:35.641Z"
   },
   {
    "duration": 22304,
    "start_time": "2022-04-08T16:18:36.035Z"
   },
   {
    "duration": 717796,
    "start_time": "2022-04-08T16:18:58.340Z"
   },
   {
    "duration": 2641,
    "start_time": "2022-04-08T16:30:56.138Z"
   },
   {
    "duration": 162,
    "start_time": "2022-04-08T16:30:58.871Z"
   },
   {
    "duration": 0,
    "start_time": "2022-04-08T16:30:59.034Z"
   },
   {
    "duration": 39,
    "start_time": "2022-04-08T17:04:35.077Z"
   },
   {
    "duration": 178,
    "start_time": "2022-04-08T17:30:46.758Z"
   },
   {
    "duration": 1452,
    "start_time": "2022-04-08T17:30:55.864Z"
   },
   {
    "duration": 266,
    "start_time": "2022-04-08T17:30:57.318Z"
   },
   {
    "duration": 51,
    "start_time": "2022-04-08T17:30:57.586Z"
   },
   {
    "duration": 3,
    "start_time": "2022-04-08T17:30:57.639Z"
   },
   {
    "duration": 281,
    "start_time": "2022-04-08T17:30:57.644Z"
   },
   {
    "duration": 56,
    "start_time": "2022-04-08T17:30:57.927Z"
   },
   {
    "duration": 12,
    "start_time": "2022-04-08T17:30:57.984Z"
   },
   {
    "duration": 17,
    "start_time": "2022-04-08T17:30:57.998Z"
   },
   {
    "duration": 5,
    "start_time": "2022-04-08T17:30:58.016Z"
   },
   {
    "duration": 1191,
    "start_time": "2022-04-08T17:30:58.023Z"
   },
   {
    "duration": 96,
    "start_time": "2022-04-08T17:30:59.216Z"
   },
   {
    "duration": 6,
    "start_time": "2022-04-08T17:30:59.314Z"
   },
   {
    "duration": 36222,
    "start_time": "2022-04-08T17:30:59.322Z"
   },
   {
    "duration": 28,
    "start_time": "2022-04-08T17:31:35.546Z"
   },
   {
    "duration": 2,
    "start_time": "2022-04-08T17:31:35.576Z"
   },
   {
    "duration": 5,
    "start_time": "2022-04-08T17:31:35.579Z"
   },
   {
    "duration": 363,
    "start_time": "2022-04-08T17:31:35.586Z"
   },
   {
    "duration": 0,
    "start_time": "2022-04-08T17:31:35.951Z"
   },
   {
    "duration": 0,
    "start_time": "2022-04-08T17:31:35.952Z"
   },
   {
    "duration": 0,
    "start_time": "2022-04-08T17:31:35.953Z"
   },
   {
    "duration": 0,
    "start_time": "2022-04-08T17:31:35.954Z"
   },
   {
    "duration": 0,
    "start_time": "2022-04-08T17:31:35.955Z"
   },
   {
    "duration": 478,
    "start_time": "2022-04-08T17:35:47.492Z"
   },
   {
    "duration": 1315,
    "start_time": "2022-04-08T17:36:06.137Z"
   },
   {
    "duration": 252,
    "start_time": "2022-04-08T17:36:07.454Z"
   },
   {
    "duration": 49,
    "start_time": "2022-04-08T17:36:07.707Z"
   },
   {
    "duration": 13,
    "start_time": "2022-04-08T17:36:07.758Z"
   },
   {
    "duration": 264,
    "start_time": "2022-04-08T17:36:07.773Z"
   },
   {
    "duration": 55,
    "start_time": "2022-04-08T17:36:08.038Z"
   },
   {
    "duration": 12,
    "start_time": "2022-04-08T17:36:08.095Z"
   },
   {
    "duration": 18,
    "start_time": "2022-04-08T17:36:08.108Z"
   },
   {
    "duration": 7,
    "start_time": "2022-04-08T17:36:08.127Z"
   },
   {
    "duration": 1207,
    "start_time": "2022-04-08T17:36:08.137Z"
   },
   {
    "duration": 99,
    "start_time": "2022-04-08T17:36:09.346Z"
   },
   {
    "duration": 6,
    "start_time": "2022-04-08T17:36:09.447Z"
   },
   {
    "duration": 37197,
    "start_time": "2022-04-08T17:36:09.455Z"
   },
   {
    "duration": 29,
    "start_time": "2022-04-08T17:36:46.653Z"
   },
   {
    "duration": 2,
    "start_time": "2022-04-08T17:36:46.683Z"
   },
   {
    "duration": 5,
    "start_time": "2022-04-08T17:36:46.687Z"
   },
   {
    "duration": 493,
    "start_time": "2022-04-08T17:36:46.693Z"
   },
   {
    "duration": 4952,
    "start_time": "2022-04-08T17:36:47.188Z"
   },
   {
    "duration": 0,
    "start_time": "2022-04-08T17:36:52.142Z"
   },
   {
    "duration": 0,
    "start_time": "2022-04-08T17:36:52.143Z"
   },
   {
    "duration": 0,
    "start_time": "2022-04-08T17:36:52.144Z"
   },
   {
    "duration": 0,
    "start_time": "2022-04-08T17:36:52.146Z"
   },
   {
    "duration": 452,
    "start_time": "2022-04-08T17:53:55.025Z"
   },
   {
    "duration": 30776,
    "start_time": "2022-04-08T17:53:56.658Z"
   },
   {
    "duration": 711878,
    "start_time": "2022-04-08T17:54:52.080Z"
   },
   {
    "duration": 3015,
    "start_time": "2022-04-08T18:06:43.960Z"
   },
   {
    "duration": 1712,
    "start_time": "2022-04-08T18:06:46.977Z"
   },
   {
    "duration": 9,
    "start_time": "2022-04-08T20:21:17.581Z"
   },
   {
    "duration": 77,
    "start_time": "2022-04-08T20:21:26.251Z"
   },
   {
    "duration": 27,
    "start_time": "2022-04-08T20:21:47.960Z"
   },
   {
    "duration": 8,
    "start_time": "2022-04-08T20:23:03.177Z"
   },
   {
    "duration": 97,
    "start_time": "2022-04-08T20:23:08.462Z"
   },
   {
    "duration": 4,
    "start_time": "2022-04-08T21:48:18.212Z"
   },
   {
    "duration": 9,
    "start_time": "2022-04-08T21:48:41.602Z"
   },
   {
    "duration": 79,
    "start_time": "2022-04-08T21:48:47.427Z"
   },
   {
    "duration": 438,
    "start_time": "2022-04-08T21:51:53.581Z"
   },
   {
    "duration": 54,
    "start_time": "2022-04-08T21:52:02.779Z"
   },
   {
    "duration": 42,
    "start_time": "2022-04-08T21:52:06.645Z"
   },
   {
    "duration": 36,
    "start_time": "2022-04-08T21:52:45.051Z"
   },
   {
    "duration": 1628,
    "start_time": "2022-04-08T21:53:17.412Z"
   },
   {
    "duration": 40291,
    "start_time": "2022-04-08T21:53:26.851Z"
   },
   {
    "duration": 38492,
    "start_time": "2022-04-08T21:54:15.891Z"
   }
  ],
  "kernelspec": {
   "display_name": "Python 3 (ipykernel)",
   "language": "python",
   "name": "python3"
  },
  "language_info": {
   "codemirror_mode": {
    "name": "ipython",
    "version": 3
   },
   "file_extension": ".py",
   "mimetype": "text/x-python",
   "name": "python",
   "nbconvert_exporter": "python",
   "pygments_lexer": "ipython3",
   "version": "3.9.12"
  },
  "toc": {
   "base_numbering": 1,
   "nav_menu": {},
   "number_sections": true,
   "sideBar": true,
   "skip_h1_title": true,
   "title_cell": "Table of Contents",
   "title_sidebar": "Contents",
   "toc_cell": false,
   "toc_position": {},
   "toc_section_display": true,
   "toc_window_display": false
  }
 },
 "nbformat": 4,
 "nbformat_minor": 4
}
